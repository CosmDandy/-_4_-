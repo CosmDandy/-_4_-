{
 "cells": [
  {
   "cell_type": "code",
   "execution_count": null,
   "metadata": {
    "ExecuteTime": {
     "end_time": "2023-04-24T22:29:16.438818Z",
     "start_time": "2023-04-24T22:29:16.436482Z"
    }
   },
   "outputs": [],
   "source": [
    "# Импорт библиотек для работы с данными\n",
    "import pandas as pd\n",
    "import numpy as np\n",
    "import plotly.express as px\n",
    "import scipy.stats as stats\n",
    "\n",
    "# Импорт библиотек для визуализации данных\n",
    "import matplotlib.pyplot as plt\n",
    "import seaborn as sns\n",
    "from plotly.subplots import make_subplots\n",
    "import plotly.graph_objects as go\n",
    "\n",
    "# Импорт библиотек для пред обработки данных\n",
    "from sklearn.preprocessing import MaxAbsScaler, RobustScaler\n",
    "\n",
    "# Импорт библиотек для отбора признаков\n",
    "from sklearn.feature_selection import RFE, RFECV, SelectFromModel, SelectFpr, chi2\n",
    "\n",
    "# Импорт библиотек линейной регрессии\n",
    "import statsmodels.api as sm\n",
    "from statsmodels.regression.recursive_ls import RecursiveLS\n",
    "from statsmodels.regression.linear_model import OLS, GLS, GLSAR, WLS\n",
    "\n",
    "\n",
    "# Импорт библиотек для машинного обучения\n",
    "from sklearn.linear_model import LinearRegression, Ridge, Lasso, ElasticNet, SGDRegressor\n",
    "from sklearn.neighbors import KNeighborsRegressor\n",
    "from sklearn.svm import SVR\n",
    "from sklearn.ensemble import RandomForestRegressor\n",
    "from sklearn.metrics import r2_score\n",
    "from sklearn.model_selection import train_test_split"
   ]
  },
  {
   "cell_type": "code",
   "execution_count": null,
   "metadata": {
    "ExecuteTime": {
     "end_time": "2023-04-24T22:29:16.993523Z",
     "start_time": "2023-04-24T22:29:16.984637Z"
    }
   },
   "outputs": [],
   "source": [
    "data = pd.read_csv(\"input/data.csv\", delimiter=\";\")\n",
    "# Устанавливаем столбец с датой в качестве индекса DataFrame\n",
    "def interpolate_data(data, method='linear', freq='M'):\n",
    "    data_quarterly = data.copy()\n",
    "    data_quarterly['Год'] = pd.to_datetime(data_quarterly['Год'].astype(str), format='%Y')\n",
    "    data_quarterly.set_index('Год', inplace=True)\n",
    "    data_quarterly = data_quarterly.resample(freq).mean().interpolate(method=method)\n",
    "    return px.scatter(data_quarterly)"
   ]
  },
  {
   "cell_type": "code",
   "execution_count": null,
   "metadata": {},
   "outputs": [],
   "source": [
    "px.scatter(data)"
   ]
  },
  {
   "cell_type": "code",
   "execution_count": null,
   "metadata": {
    "ExecuteTime": {
     "end_time": "2023-04-24T22:29:10.914064Z",
     "start_time": "2023-04-24T22:29:10.671995Z"
    }
   },
   "outputs": [],
   "source": [
    "interpolate_data(data, method='cubic')"
   ]
  },
  {
   "cell_type": "code",
   "execution_count": null,
   "metadata": {
    "ExecuteTime": {
     "end_time": "2023-04-24T22:29:37.077233Z",
     "start_time": "2023-04-24T22:29:36.963285Z"
    },
    "collapsed": false
   },
   "outputs": [],
   "source": [
    "interpolate_data(data, method='quadratic')"
   ]
  },
  {
   "cell_type": "code",
   "execution_count": null,
   "metadata": {
    "ExecuteTime": {
     "end_time": "2023-04-24T22:30:17.410221Z",
     "start_time": "2023-04-24T22:30:15.409236Z"
    },
    "collapsed": false
   },
   "outputs": [],
   "source": [
    "interpolate_data(data, method='akima')"
   ]
  },
  {
   "cell_type": "code",
   "execution_count": null,
   "metadata": {
    "collapsed": false
   },
   "outputs": [],
   "source": [
    "interpolate_data(data, method='linear')"
   ]
  },
  {
   "cell_type": "code",
   "execution_count": null,
   "metadata": {},
   "outputs": [],
   "source": []
  }
 ],
 "metadata": {
  "kernelspec": {
   "display_name": "Python 3 (ipykernel)",
   "language": "python",
   "name": "python3"
  },
  "language_info": {
   "codemirror_mode": {
    "name": "ipython",
    "version": 3
   },
   "file_extension": ".py",
   "mimetype": "text/x-python",
   "name": "python",
   "nbconvert_exporter": "python",
   "pygments_lexer": "ipython3",
   "version": "3.10.10"
  }
 },
 "nbformat": 4,
 "nbformat_minor": 1
}
