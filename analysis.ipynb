{
 "cells": [
  {
   "cell_type": "code",
   "execution_count": 135,
   "outputs": [],
   "source": [
    "# Python 3.11.2\n",
    "# !pip install -r requriments.txt"
   ],
   "metadata": {
    "collapsed": false,
    "ExecuteTime": {
     "start_time": "2023-04-13T19:52:37.058571Z",
     "end_time": "2023-04-13T19:52:37.721296Z"
    }
   }
  },
  {
   "cell_type": "code",
   "execution_count": 136,
   "metadata": {
    "collapsed": true,
    "ExecuteTime": {
     "start_time": "2023-04-13T19:52:37.065940Z",
     "end_time": "2023-04-13T19:52:37.763543Z"
    }
   },
   "outputs": [],
   "source": [
    "# Импорт библиотек для работы с данными\n",
    "import pandas as pd\n",
    "import numpy as np\n",
    "import scipy.stats as stats\n",
    "\n",
    "# Импорт библиотек для визуализации данных\n",
    "import matplotlib.pyplot as plt\n",
    "import seaborn as sns\n",
    "from plotly.subplots import make_subplots\n",
    "import plotly.graph_objects as go\n",
    "\n",
    "# Импорт библиотек для пред обработки данных\n",
    "from sklearn.preprocessing import MaxAbsScaler, RobustScaler\n",
    "\n",
    "# Импорт библиотек для отбора признаков\n",
    "from sklearn.feature_selection import RFE, RFECV, SelectFromModel, SelectFpr, chi2\n",
    "\n",
    "# Импорт библиотек линейной регрессии\n",
    "import statsmodels.api as sm\n",
    "from statsmodels.regression.recursive_ls import RecursiveLS\n",
    "from statsmodels.regression.linear_model import OLS, GLS, GLSAR, WLS\n",
    "\n",
    "\n",
    "# Импорт библиотек для машинного обучения\n",
    "from sklearn.linear_model import LinearRegression, Ridge, Lasso, ElasticNet, SGDRegressor\n",
    "from sklearn.neighbors import KNeighborsRegressor\n",
    "from sklearn.svm import SVR\n",
    "from sklearn.ensemble import RandomForestRegressor\n",
    "from sklearn.metrics import r2_score\n",
    "from sklearn.model_selection import train_test_split"
   ]
  },
  {
   "cell_type": "markdown",
   "source": [
    "# Подготовка данных"
   ],
   "metadata": {
    "collapsed": false
   }
  },
  {
   "cell_type": "markdown",
   "source": [
    "## Загрузка данных"
   ],
   "metadata": {
    "collapsed": false
   }
  },
  {
   "cell_type": "code",
   "execution_count": 136,
   "outputs": [],
   "source": [],
   "metadata": {
    "collapsed": false,
    "ExecuteTime": {
     "start_time": "2023-04-13T19:52:37.076811Z",
     "end_time": "2023-04-13T19:52:38.134747Z"
    }
   }
  },
  {
   "cell_type": "code",
   "execution_count": 137,
   "outputs": [
    {
     "data": {
      "text/plain": "          y1         y2          y3         x1      x2       x3         x4   \n0   87211.83   328497.9   638450.60   228548.4   803.2  5780.87  1212184.0  \\\n1  119302.33   695059.8   789466.92   488395.1   787.6  5823.01  1272744.0   \n2  156215.00  1159034.0   962057.00   748241.8  1472.8  5865.15  1444737.0   \n3  173839.00  1370182.8  1393532.20  1008088.5  1154.6  5907.28  1841258.0   \n4  220396.00  1767476.7  1771073.00  1267935.2  1508.7  5961.24  2255912.0   \n\n     x5         x6        x7      x8       x9       x10      x11  \n0  33.8   83359.41  25719.20  6171.0   6642.0  111458.0  1393.30  \n1  35.2   87820.24  25262.15  7260.0   7814.0  185861.0  1807.80  \n2  32.4   92700.80  25720.20  8067.0   9194.0  309534.0  2185.00  \n3  30.4   98088.36  24905.88  5545.0  12637.0  418289.0  2385.26  \n4  35.1  104100.59  25084.01  6932.0  13817.0  589139.0  2918.55  ",
      "text/html": "<div>\n<style scoped>\n    .dataframe tbody tr th:only-of-type {\n        vertical-align: middle;\n    }\n\n    .dataframe tbody tr th {\n        vertical-align: top;\n    }\n\n    .dataframe thead th {\n        text-align: right;\n    }\n</style>\n<table border=\"1\" class=\"dataframe\">\n  <thead>\n    <tr style=\"text-align: right;\">\n      <th></th>\n      <th>y1</th>\n      <th>y2</th>\n      <th>y3</th>\n      <th>x1</th>\n      <th>x2</th>\n      <th>x3</th>\n      <th>x4</th>\n      <th>x5</th>\n      <th>x6</th>\n      <th>x7</th>\n      <th>x8</th>\n      <th>x9</th>\n      <th>x10</th>\n      <th>x11</th>\n    </tr>\n  </thead>\n  <tbody>\n    <tr>\n      <th>0</th>\n      <td>87211.83</td>\n      <td>328497.9</td>\n      <td>638450.60</td>\n      <td>228548.4</td>\n      <td>803.2</td>\n      <td>5780.87</td>\n      <td>1212184.0</td>\n      <td>33.8</td>\n      <td>83359.41</td>\n      <td>25719.20</td>\n      <td>6171.0</td>\n      <td>6642.0</td>\n      <td>111458.0</td>\n      <td>1393.30</td>\n    </tr>\n    <tr>\n      <th>1</th>\n      <td>119302.33</td>\n      <td>695059.8</td>\n      <td>789466.92</td>\n      <td>488395.1</td>\n      <td>787.6</td>\n      <td>5823.01</td>\n      <td>1272744.0</td>\n      <td>35.2</td>\n      <td>87820.24</td>\n      <td>25262.15</td>\n      <td>7260.0</td>\n      <td>7814.0</td>\n      <td>185861.0</td>\n      <td>1807.80</td>\n    </tr>\n    <tr>\n      <th>2</th>\n      <td>156215.00</td>\n      <td>1159034.0</td>\n      <td>962057.00</td>\n      <td>748241.8</td>\n      <td>1472.8</td>\n      <td>5865.15</td>\n      <td>1444737.0</td>\n      <td>32.4</td>\n      <td>92700.80</td>\n      <td>25720.20</td>\n      <td>8067.0</td>\n      <td>9194.0</td>\n      <td>309534.0</td>\n      <td>2185.00</td>\n    </tr>\n    <tr>\n      <th>3</th>\n      <td>173839.00</td>\n      <td>1370182.8</td>\n      <td>1393532.20</td>\n      <td>1008088.5</td>\n      <td>1154.6</td>\n      <td>5907.28</td>\n      <td>1841258.0</td>\n      <td>30.4</td>\n      <td>98088.36</td>\n      <td>24905.88</td>\n      <td>5545.0</td>\n      <td>12637.0</td>\n      <td>418289.0</td>\n      <td>2385.26</td>\n    </tr>\n    <tr>\n      <th>4</th>\n      <td>220396.00</td>\n      <td>1767476.7</td>\n      <td>1771073.00</td>\n      <td>1267935.2</td>\n      <td>1508.7</td>\n      <td>5961.24</td>\n      <td>2255912.0</td>\n      <td>35.1</td>\n      <td>104100.59</td>\n      <td>25084.01</td>\n      <td>6932.0</td>\n      <td>13817.0</td>\n      <td>589139.0</td>\n      <td>2918.55</td>\n    </tr>\n  </tbody>\n</table>\n</div>"
     },
     "execution_count": 137,
     "metadata": {},
     "output_type": "execute_result"
    }
   ],
   "source": [
    "# Загрузка данных с помощью pandas из файла csv\n",
    "data = pd.read_csv(\"input/data.csv\", delimiter=\";\")\n",
    "\n",
    "# Удаление столбца с годом так как он не несет полезной информации для составления модели\n",
    "data = data.drop(columns=['Год'])\n",
    "\n",
    "# Просмотр первых 5 строк данных\n",
    "data.head()"
   ],
   "metadata": {
    "collapsed": false,
    "ExecuteTime": {
     "start_time": "2023-04-13T19:52:37.083962Z",
     "end_time": "2023-04-13T19:52:38.206692Z"
    }
   }
  },
  {
   "cell_type": "markdown",
   "source": [
    "### Объяснение переменных\n",
    "- $y_1$ - инвестиции в основной капитал, млн руб.\n",
    "- $y_2$ - валовой региональный продукт (ВРП), млн.руб.\n",
    "- $y_3$ - сумма доходов населения за год, млн руб.\n",
    "- $x_1$ - финансовый результат деятельности (чистая прибыль)\n",
    "- $x_2$ - прямые иностранные инвестиции, млн USD\n",
    "- $x_3$ - среднегодовая численности занятых, тыс чел.\n",
    "- $x_4$ - стоимость основных фондов, млн. руб\n",
    "- $x_5$ - степень износа основных фондов, %\n",
    "- $x_6$ - затраты на научные исследования и разработки, млн руб.\n",
    "- $x_7$ - объём инновационных товаров работ услуг, млн руб.\n",
    "- $x_8$ - экспорт, млн USD\n",
    "- $x_9$ - импорт, млн. USD\n",
    "- $x_{10}$ - сумма остатков вкладов на счетах в Банке России, млн. руб.\n",
    "- $x_{11}$ - прожиточный минимум в регионе РФ (г. Москва), тыс.руб."
   ],
   "metadata": {
    "collapsed": false
   }
  },
  {
   "cell_type": "markdown",
   "source": [
    "## Общее изучение данных и поиск нулевых значений"
   ],
   "metadata": {
    "collapsed": false
   }
  },
  {
   "cell_type": "code",
   "execution_count": 138,
   "outputs": [
    {
     "data": {
      "text/plain": "                 y1            y2            y3            x1             x2   \ncount  2.500000e+01  2.500000e+01  2.500000e+01  2.500000e+01      25.000000  \\\nmean   1.586279e+06  9.758956e+06  6.254873e+06  5.388041e+06   48214.516000   \nstd    1.484175e+06  7.268435e+06  4.157484e+06  3.153915e+06   50886.143538   \nmin    8.721183e+04  3.284979e+05  6.384506e+05  2.285484e+05     787.600000   \n25%    3.585310e+05  2.853272e+06  2.526155e+06  2.115068e+06    2060.400000   \n50%    1.163530e+06  8.375864e+06  6.058819e+06  6.411756e+06   15656.000000   \n75%    2.370705e+06  1.512153e+07  9.193008e+06  8.059025e+06   85326.000000   \nmax    5.306170e+06  2.310990e+07  1.414557e+07  9.304621e+06  159868.000000   \n\n                x3            x4        x5             x6             x7   \ncount    25.000000  2.500000e+01  25.00000      25.000000      25.000000  \\\nmean   6311.954800  2.415851e+07  39.58800  234430.661600  304212.076000   \nstd     306.643567  2.361885e+07   4.90691  128395.491764  336887.047864   \nmin    5780.870000  1.212184e+06  30.40000   83359.410000   24702.300000   \n25%    6037.020000  3.905553e+06  35.90000  118730.030000   25720.200000   \n50%    6499.370000  1.790514e+07  39.80000  206021.480000   64746.770000   \n75%    6591.910000  3.633809e+07  42.40000  330199.100000  565805.880000   \nmax    6613.820000  7.670309e+07  47.30000  494063.290000  963990.610000   \n\n                  x8             x9           x10           x11  \ncount      25.000000      25.000000  2.500000e+01     25.000000  \nmean   116353.388000   74528.648000  1.235709e+07   9210.292000  \nstd     91377.145934   46285.321888  1.256743e+07   5929.476938  \nmin      5545.000000    6642.000000  1.114580e+05   1393.300000  \n25%      9347.000000   23988.000000  1.352790e+06   3703.570000  \n50%    135211.000000   84400.000000  8.319415e+06   8656.000000  \n75%    188000.000000  115500.000000  2.090982e+07  15092.000000  \nmax    295500.000000  135100.000000  4.247196e+07  18714.000000  ",
      "text/html": "<div>\n<style scoped>\n    .dataframe tbody tr th:only-of-type {\n        vertical-align: middle;\n    }\n\n    .dataframe tbody tr th {\n        vertical-align: top;\n    }\n\n    .dataframe thead th {\n        text-align: right;\n    }\n</style>\n<table border=\"1\" class=\"dataframe\">\n  <thead>\n    <tr style=\"text-align: right;\">\n      <th></th>\n      <th>y1</th>\n      <th>y2</th>\n      <th>y3</th>\n      <th>x1</th>\n      <th>x2</th>\n      <th>x3</th>\n      <th>x4</th>\n      <th>x5</th>\n      <th>x6</th>\n      <th>x7</th>\n      <th>x8</th>\n      <th>x9</th>\n      <th>x10</th>\n      <th>x11</th>\n    </tr>\n  </thead>\n  <tbody>\n    <tr>\n      <th>count</th>\n      <td>2.500000e+01</td>\n      <td>2.500000e+01</td>\n      <td>2.500000e+01</td>\n      <td>2.500000e+01</td>\n      <td>25.000000</td>\n      <td>25.000000</td>\n      <td>2.500000e+01</td>\n      <td>25.00000</td>\n      <td>25.000000</td>\n      <td>25.000000</td>\n      <td>25.000000</td>\n      <td>25.000000</td>\n      <td>2.500000e+01</td>\n      <td>25.000000</td>\n    </tr>\n    <tr>\n      <th>mean</th>\n      <td>1.586279e+06</td>\n      <td>9.758956e+06</td>\n      <td>6.254873e+06</td>\n      <td>5.388041e+06</td>\n      <td>48214.516000</td>\n      <td>6311.954800</td>\n      <td>2.415851e+07</td>\n      <td>39.58800</td>\n      <td>234430.661600</td>\n      <td>304212.076000</td>\n      <td>116353.388000</td>\n      <td>74528.648000</td>\n      <td>1.235709e+07</td>\n      <td>9210.292000</td>\n    </tr>\n    <tr>\n      <th>std</th>\n      <td>1.484175e+06</td>\n      <td>7.268435e+06</td>\n      <td>4.157484e+06</td>\n      <td>3.153915e+06</td>\n      <td>50886.143538</td>\n      <td>306.643567</td>\n      <td>2.361885e+07</td>\n      <td>4.90691</td>\n      <td>128395.491764</td>\n      <td>336887.047864</td>\n      <td>91377.145934</td>\n      <td>46285.321888</td>\n      <td>1.256743e+07</td>\n      <td>5929.476938</td>\n    </tr>\n    <tr>\n      <th>min</th>\n      <td>8.721183e+04</td>\n      <td>3.284979e+05</td>\n      <td>6.384506e+05</td>\n      <td>2.285484e+05</td>\n      <td>787.600000</td>\n      <td>5780.870000</td>\n      <td>1.212184e+06</td>\n      <td>30.40000</td>\n      <td>83359.410000</td>\n      <td>24702.300000</td>\n      <td>5545.000000</td>\n      <td>6642.000000</td>\n      <td>1.114580e+05</td>\n      <td>1393.300000</td>\n    </tr>\n    <tr>\n      <th>25%</th>\n      <td>3.585310e+05</td>\n      <td>2.853272e+06</td>\n      <td>2.526155e+06</td>\n      <td>2.115068e+06</td>\n      <td>2060.400000</td>\n      <td>6037.020000</td>\n      <td>3.905553e+06</td>\n      <td>35.90000</td>\n      <td>118730.030000</td>\n      <td>25720.200000</td>\n      <td>9347.000000</td>\n      <td>23988.000000</td>\n      <td>1.352790e+06</td>\n      <td>3703.570000</td>\n    </tr>\n    <tr>\n      <th>50%</th>\n      <td>1.163530e+06</td>\n      <td>8.375864e+06</td>\n      <td>6.058819e+06</td>\n      <td>6.411756e+06</td>\n      <td>15656.000000</td>\n      <td>6499.370000</td>\n      <td>1.790514e+07</td>\n      <td>39.80000</td>\n      <td>206021.480000</td>\n      <td>64746.770000</td>\n      <td>135211.000000</td>\n      <td>84400.000000</td>\n      <td>8.319415e+06</td>\n      <td>8656.000000</td>\n    </tr>\n    <tr>\n      <th>75%</th>\n      <td>2.370705e+06</td>\n      <td>1.512153e+07</td>\n      <td>9.193008e+06</td>\n      <td>8.059025e+06</td>\n      <td>85326.000000</td>\n      <td>6591.910000</td>\n      <td>3.633809e+07</td>\n      <td>42.40000</td>\n      <td>330199.100000</td>\n      <td>565805.880000</td>\n      <td>188000.000000</td>\n      <td>115500.000000</td>\n      <td>2.090982e+07</td>\n      <td>15092.000000</td>\n    </tr>\n    <tr>\n      <th>max</th>\n      <td>5.306170e+06</td>\n      <td>2.310990e+07</td>\n      <td>1.414557e+07</td>\n      <td>9.304621e+06</td>\n      <td>159868.000000</td>\n      <td>6613.820000</td>\n      <td>7.670309e+07</td>\n      <td>47.30000</td>\n      <td>494063.290000</td>\n      <td>963990.610000</td>\n      <td>295500.000000</td>\n      <td>135100.000000</td>\n      <td>4.247196e+07</td>\n      <td>18714.000000</td>\n    </tr>\n  </tbody>\n</table>\n</div>"
     },
     "execution_count": 138,
     "metadata": {},
     "output_type": "execute_result"
    }
   ],
   "source": [
    "data.describe()"
   ],
   "metadata": {
    "collapsed": false,
    "ExecuteTime": {
     "start_time": "2023-04-13T19:52:37.110730Z",
     "end_time": "2023-04-13T19:52:38.210160Z"
    }
   }
  },
  {
   "cell_type": "code",
   "execution_count": 139,
   "outputs": [
    {
     "data": {
      "text/plain": "y1     float64\ny2     float64\ny3     float64\nx1     float64\nx2     float64\nx3     float64\nx4     float64\nx5     float64\nx6     float64\nx7     float64\nx8     float64\nx9     float64\nx10    float64\nx11    float64\ndtype: object"
     },
     "execution_count": 139,
     "metadata": {},
     "output_type": "execute_result"
    }
   ],
   "source": [
    "data.dtypes"
   ],
   "metadata": {
    "collapsed": false,
    "ExecuteTime": {
     "start_time": "2023-04-13T19:52:37.130987Z",
     "end_time": "2023-04-13T19:52:38.228961Z"
    }
   }
  },
  {
   "cell_type": "code",
   "execution_count": 140,
   "outputs": [
    {
     "data": {
      "text/plain": "y1     0\ny2     0\ny3     0\nx1     0\nx2     0\nx3     0\nx4     0\nx5     0\nx6     0\nx7     0\nx8     0\nx9     0\nx10    0\nx11    0\ndtype: int64"
     },
     "execution_count": 140,
     "metadata": {},
     "output_type": "execute_result"
    }
   ],
   "source": [
    "data.isnull().sum()"
   ],
   "metadata": {
    "collapsed": false,
    "ExecuteTime": {
     "start_time": "2023-04-13T19:52:37.137701Z",
     "end_time": "2023-04-13T19:52:38.229325Z"
    }
   }
  },
  {
   "cell_type": "code",
   "execution_count": 141,
   "outputs": [
    {
     "data": {
      "text/plain": "y1     25\ny2     25\ny3     25\nx1     25\nx2     25\nx3     25\nx4     25\nx5     23\nx6     25\nx7     24\nx8     25\nx9     25\nx10    25\nx11    25\ndtype: int64"
     },
     "execution_count": 141,
     "metadata": {},
     "output_type": "execute_result"
    }
   ],
   "source": [
    "data.nunique()"
   ],
   "metadata": {
    "collapsed": false,
    "ExecuteTime": {
     "start_time": "2023-04-13T19:52:37.143222Z",
     "end_time": "2023-04-13T19:52:38.235095Z"
    }
   }
  },
  {
   "cell_type": "markdown",
   "source": [
    "## Изучение данных на наличие ошибок измерений"
   ],
   "metadata": {
    "collapsed": false
   }
  },
  {
   "cell_type": "markdown",
   "source": [
    "Функция combine_scatter_plots строит графики рассеяния для каждой пары признаков в наборе данных."
   ],
   "metadata": {
    "collapsed": false
   }
  },
  {
   "cell_type": "code",
   "execution_count": 142,
   "outputs": [],
   "source": [
    "def combine_scatter_plots(height=1000, width=1100):\n",
    "    fig = make_subplots(rows=5, cols=3)\n",
    "    for i, column in enumerate(data.columns.values):\n",
    "        if 0 <= i < 3:\n",
    "            row, col = 1, i + 1\n",
    "        elif 3 <= i < 6:\n",
    "            row, col = 2, i + 1 - 3\n",
    "        elif 6 <= i < 9:\n",
    "            row, col = 3, i + 1 - 6\n",
    "        elif 9 <= i < 12:\n",
    "            row, col = 4, i + 1 - 9\n",
    "        else:\n",
    "            row, col = 5, i + 1 - 12\n",
    "\n",
    "        if 0 <= i < 3:\n",
    "            fig.add_trace(go.Scatter(y=data[f'y{i + 1}'], name=column), row=row, col=col)\n",
    "        else:\n",
    "            fig.add_trace(go.Scatter(y=data[f'x{i - 2}'], name=column), row=row, col=col)\n",
    "    fig.update_layout(height=height, width=width, title_text=\"Зависимость признаков от времени\")\n",
    "    fig.show()"
   ],
   "metadata": {
    "collapsed": false,
    "ExecuteTime": {
     "start_time": "2023-04-13T19:52:37.150973Z",
     "end_time": "2023-04-13T19:52:38.236148Z"
    }
   }
  },
  {
   "cell_type": "code",
   "execution_count": 143,
   "outputs": [
    {
     "data": {
      "application/vnd.plotly.v1+json": {
       "data": [
        {
         "name": "y1",
         "y": [
          87211.83,
          119302.33,
          156215.0,
          173839.0,
          220396.0,
          269588.0,
          358531.0,
          456025.0,
          590162.0,
          775682.0,
          962468.0,
          742422.0,
          1163529.7,
          1388120.48,
          1584637.4,
          1781154.33,
          1977671.26,
          2174188.19,
          2370705.11,
          2567222.04,
          2763738.97,
          2960255.9,
          3839394.42,
          4868342.13,
          5306169.86
         ],
         "type": "scatter",
         "xaxis": "x",
         "yaxis": "y"
        },
        {
         "name": "y2",
         "y": [
          328497.9,
          695059.8,
          1159034.0,
          1370182.8,
          1767476.7,
          2188231.5,
          2853272.4,
          4135154.6,
          5260232.8,
          6696259.1,
          8248652.0,
          7126972.4,
          8375863.8,
          9948772.8,
          1.06668705E7,
          1.18148974E7,
          1.27795257E7,
          1.35208629E7,
          1.51215342E7,
          1.65381895E7,
          1.8777726E7,
          1.97970643E7,
          1.98566745E7,
          2.183698432E7,
          2.310989986E7
         ],
         "type": "scatter",
         "xaxis": "x2",
         "yaxis": "y2"
        },
        {
         "name": "y3",
         "y": [
          638450.6,
          789466.92,
          962057.0,
          1393532.2,
          1771073.0,
          2148613.8,
          2526154.6,
          3119433.0,
          3731494.0,
          4453175.0,
          4305879.0,
          5449048.0,
          6058819.0,
          6573744.0,
          6998475.0,
          7930101.0,
          8089881.0,
          8908736.67,
          9193008.3,
          9776264.78,
          1.053998459E7,
          1.151728346E7,
          1.187201463E7,
          1.347955533E7,
          1.414557035E7
         ],
         "type": "scatter",
         "xaxis": "x3",
         "yaxis": "y3"
        },
        {
         "name": "x1",
         "y": [
          228548.4,
          488395.1,
          748241.8,
          1008088.5,
          1267935.2,
          1563568.7,
          2115067.5,
          3055059.5,
          3930286.9,
          4853244.4,
          5883726.5,
          6165342.47,
          6411756.44,
          6658170.41,
          6904584.38,
          7150998.36,
          7643826.3,
          7851425.6,
          8059024.9,
          8266624.2,
          8474223.5,
          8681822.8,
          8889422.1,
          9097021.4,
          9304620.7
         ],
         "type": "scatter",
         "xaxis": "x4",
         "yaxis": "y4"
        },
        {
         "name": "x2",
         "y": [
          803.2,
          787.6,
          1472.8,
          1154.6,
          1508.7,
          2482.9,
          1857.2,
          2060.4,
          4530.7,
          15656.0,
          8611.9,
          5657.4,
          3793.5,
          159868.0,
          82607.0,
          108107.0,
          77801.0,
          66718.0,
          65314.0,
          85326.0,
          69873.0,
          93903.0,
          126244.0,
          103800.0,
          115425.0
         ],
         "type": "scatter",
         "xaxis": "x5",
         "yaxis": "y5"
        },
        {
         "name": "x3",
         "y": [
          5780.87,
          5823.01,
          5865.15,
          5907.28,
          5961.24,
          5998.11,
          6037.02,
          6062.09,
          6095.18,
          6174.73,
          6217.91,
          6358.64,
          6499.37,
          6536.44,
          6563.44,
          6561.49,
          6552.78,
          6584.08,
          6591.91,
          6595.56,
          6599.21,
          6602.86,
          6606.51,
          6610.17,
          6613.82
         ],
         "type": "scatter",
         "xaxis": "x6",
         "yaxis": "y6"
        },
        {
         "name": "x4",
         "y": [
          1212184.0,
          1272744.0,
          1444737.0,
          1841258.0,
          2255912.0,
          3297504.0,
          3905553.0,
          5346984.0,
          6142520.0,
          9506888.0,
          1.4877108E7,
          1.5356818E7,
          1.7905142E7,
          2.0169118E7,
          2.3445895E7,
          2.6546945E7,
          2.889041E7,
          3.0078E7,
          3.6338093E7,
          3.6604923E7,
          4.0602319E7,
          6.1757746E7,
          6.6739526E7,
          7.1721306E7,
          7.6703086E7
         ],
         "type": "scatter",
         "xaxis": "x7",
         "yaxis": "y7"
        },
        {
         "name": "x5",
         "y": [
          33.8,
          35.2,
          32.4,
          30.4,
          35.1,
          33.0,
          36.4,
          39.8,
          47.0,
          38.4,
          36.1,
          35.9,
          42.0,
          42.4,
          43.0,
          44.6,
          46.7,
          42.4,
          41.9,
          47.3,
          46.6,
          37.8,
          39.0,
          40.5,
          42.0
         ],
         "type": "scatter",
         "xaxis": "x8",
         "yaxis": "y8"
        },
        {
         "name": "x6",
         "y": [
          83359.41,
          87820.24,
          92700.8,
          98088.36,
          104100.59,
          110901.59,
          118730.03,
          127952.55,
          139175.58,
          153514.47,
          173393.63,
          206021.48,
          194439.24,
          219277.24,
          245646.11,
          264751.71,
          298248.97,
          322785.1,
          330199.1,
          358214.8,
          350894.2,
          398462.4,
          427329.34,
          460696.31,
          494063.29
         ],
         "type": "scatter",
         "xaxis": "x9",
         "yaxis": "y9"
        },
        {
         "name": "x7",
         "y": [
          25719.2,
          25262.15,
          25720.2,
          24905.88,
          25084.01,
          25262.15,
          24702.3,
          28811.0,
          37211.5,
          50567.9,
          43904.4,
          64746.77,
          64543.19,
          158892.58,
          494532.21,
          686704.6,
          552039.1,
          851583.36,
          910869.11,
          248998.8,
          283544.61,
          565805.88,
          626603.39,
          795297.0,
          963990.61
         ],
         "type": "scatter",
         "xaxis": "x10",
         "yaxis": "y10"
        },
        {
         "name": "x8",
         "y": [
          6171.0,
          7260.0,
          8067.0,
          5545.0,
          6932.0,
          8376.0,
          9347.0,
          9940.0,
          12515.0,
          124800.0,
          174200.0,
          113200.0,
          143800.0,
          188000.0,
          199800.0,
          228300.0,
          229030.0,
          149110.0,
          118194.6,
          148623.4,
          197017.5,
          184295.2,
          135211.0,
          205600.0,
          295500.0
         ],
         "type": "scatter",
         "xaxis": "x11",
         "yaxis": "y11"
        },
        {
         "name": "x9",
         "y": [
          6642.0,
          7814.0,
          9194.0,
          12637.0,
          13817.0,
          17785.0,
          23988.0,
          32088.0,
          47106.0,
          84400.0,
          115500.0,
          70900.0,
          91000.0,
          117100.0,
          123100.0,
          135100.0,
          125900.0,
          78600.0,
          76229.7,
          98641.4,
          103426.8,
          107348.1,
          102899.2,
          129000.0,
          133000.0
         ],
         "type": "scatter",
         "xaxis": "x12",
         "yaxis": "y12"
        },
        {
         "name": "x10",
         "y": [
          111458.0,
          185861.0,
          309534.0,
          418289.0,
          589139.0,
          879313.0,
          1352790.0,
          2181920.0,
          3101710.0,
          4236780.0,
          4980090.0,
          6293522.0,
          8319415.0,
          1.0151635E7,
          1.1994894E7,
          1.4385851E7,
          1.6000367E7,
          2.0162741E7,
          2.0909815E7,
          2.2718576E7,
          2.2271453E7,
          2.658052E7,
          3.0364225E7,
          3.7955281E7,
          4.2471959E7
         ],
         "type": "scatter",
         "xaxis": "x13",
         "yaxis": "y13"
        },
        {
         "name": "x11",
         "y": [
          1393.3,
          1807.8,
          2185.0,
          2385.26,
          2918.55,
          3208.02,
          3703.57,
          4171.8,
          5121.0,
          5855.0,
          6648.0,
          7406.0,
          8656.0,
          9128.0,
          9747.0,
          10965.0,
          12542.0,
          14413.0,
          15092.0,
          15397.0,
          16087.0,
          16843.0,
          17841.0,
          18029.0,
          18714.0
         ],
         "type": "scatter",
         "xaxis": "x14",
         "yaxis": "y14"
        }
       ],
       "layout": {
        "template": {
         "data": {
          "histogram2dcontour": [
           {
            "type": "histogram2dcontour",
            "colorbar": {
             "outlinewidth": 0,
             "ticks": ""
            },
            "colorscale": [
             [
              0.0,
              "#0d0887"
             ],
             [
              0.1111111111111111,
              "#46039f"
             ],
             [
              0.2222222222222222,
              "#7201a8"
             ],
             [
              0.3333333333333333,
              "#9c179e"
             ],
             [
              0.4444444444444444,
              "#bd3786"
             ],
             [
              0.5555555555555556,
              "#d8576b"
             ],
             [
              0.6666666666666666,
              "#ed7953"
             ],
             [
              0.7777777777777778,
              "#fb9f3a"
             ],
             [
              0.8888888888888888,
              "#fdca26"
             ],
             [
              1.0,
              "#f0f921"
             ]
            ]
           }
          ],
          "choropleth": [
           {
            "type": "choropleth",
            "colorbar": {
             "outlinewidth": 0,
             "ticks": ""
            }
           }
          ],
          "histogram2d": [
           {
            "type": "histogram2d",
            "colorbar": {
             "outlinewidth": 0,
             "ticks": ""
            },
            "colorscale": [
             [
              0.0,
              "#0d0887"
             ],
             [
              0.1111111111111111,
              "#46039f"
             ],
             [
              0.2222222222222222,
              "#7201a8"
             ],
             [
              0.3333333333333333,
              "#9c179e"
             ],
             [
              0.4444444444444444,
              "#bd3786"
             ],
             [
              0.5555555555555556,
              "#d8576b"
             ],
             [
              0.6666666666666666,
              "#ed7953"
             ],
             [
              0.7777777777777778,
              "#fb9f3a"
             ],
             [
              0.8888888888888888,
              "#fdca26"
             ],
             [
              1.0,
              "#f0f921"
             ]
            ]
           }
          ],
          "heatmap": [
           {
            "type": "heatmap",
            "colorbar": {
             "outlinewidth": 0,
             "ticks": ""
            },
            "colorscale": [
             [
              0.0,
              "#0d0887"
             ],
             [
              0.1111111111111111,
              "#46039f"
             ],
             [
              0.2222222222222222,
              "#7201a8"
             ],
             [
              0.3333333333333333,
              "#9c179e"
             ],
             [
              0.4444444444444444,
              "#bd3786"
             ],
             [
              0.5555555555555556,
              "#d8576b"
             ],
             [
              0.6666666666666666,
              "#ed7953"
             ],
             [
              0.7777777777777778,
              "#fb9f3a"
             ],
             [
              0.8888888888888888,
              "#fdca26"
             ],
             [
              1.0,
              "#f0f921"
             ]
            ]
           }
          ],
          "heatmapgl": [
           {
            "type": "heatmapgl",
            "colorbar": {
             "outlinewidth": 0,
             "ticks": ""
            },
            "colorscale": [
             [
              0.0,
              "#0d0887"
             ],
             [
              0.1111111111111111,
              "#46039f"
             ],
             [
              0.2222222222222222,
              "#7201a8"
             ],
             [
              0.3333333333333333,
              "#9c179e"
             ],
             [
              0.4444444444444444,
              "#bd3786"
             ],
             [
              0.5555555555555556,
              "#d8576b"
             ],
             [
              0.6666666666666666,
              "#ed7953"
             ],
             [
              0.7777777777777778,
              "#fb9f3a"
             ],
             [
              0.8888888888888888,
              "#fdca26"
             ],
             [
              1.0,
              "#f0f921"
             ]
            ]
           }
          ],
          "contourcarpet": [
           {
            "type": "contourcarpet",
            "colorbar": {
             "outlinewidth": 0,
             "ticks": ""
            }
           }
          ],
          "contour": [
           {
            "type": "contour",
            "colorbar": {
             "outlinewidth": 0,
             "ticks": ""
            },
            "colorscale": [
             [
              0.0,
              "#0d0887"
             ],
             [
              0.1111111111111111,
              "#46039f"
             ],
             [
              0.2222222222222222,
              "#7201a8"
             ],
             [
              0.3333333333333333,
              "#9c179e"
             ],
             [
              0.4444444444444444,
              "#bd3786"
             ],
             [
              0.5555555555555556,
              "#d8576b"
             ],
             [
              0.6666666666666666,
              "#ed7953"
             ],
             [
              0.7777777777777778,
              "#fb9f3a"
             ],
             [
              0.8888888888888888,
              "#fdca26"
             ],
             [
              1.0,
              "#f0f921"
             ]
            ]
           }
          ],
          "surface": [
           {
            "type": "surface",
            "colorbar": {
             "outlinewidth": 0,
             "ticks": ""
            },
            "colorscale": [
             [
              0.0,
              "#0d0887"
             ],
             [
              0.1111111111111111,
              "#46039f"
             ],
             [
              0.2222222222222222,
              "#7201a8"
             ],
             [
              0.3333333333333333,
              "#9c179e"
             ],
             [
              0.4444444444444444,
              "#bd3786"
             ],
             [
              0.5555555555555556,
              "#d8576b"
             ],
             [
              0.6666666666666666,
              "#ed7953"
             ],
             [
              0.7777777777777778,
              "#fb9f3a"
             ],
             [
              0.8888888888888888,
              "#fdca26"
             ],
             [
              1.0,
              "#f0f921"
             ]
            ]
           }
          ],
          "mesh3d": [
           {
            "type": "mesh3d",
            "colorbar": {
             "outlinewidth": 0,
             "ticks": ""
            }
           }
          ],
          "scatter": [
           {
            "marker": {
             "line": {
              "color": "#283442"
             }
            },
            "type": "scatter"
           }
          ],
          "parcoords": [
           {
            "type": "parcoords",
            "line": {
             "colorbar": {
              "outlinewidth": 0,
              "ticks": ""
             }
            }
           }
          ],
          "scatterpolargl": [
           {
            "type": "scatterpolargl",
            "marker": {
             "colorbar": {
              "outlinewidth": 0,
              "ticks": ""
             }
            }
           }
          ],
          "bar": [
           {
            "error_x": {
             "color": "#f2f5fa"
            },
            "error_y": {
             "color": "#f2f5fa"
            },
            "marker": {
             "line": {
              "color": "rgb(17,17,17)",
              "width": 0.5
             },
             "pattern": {
              "fillmode": "overlay",
              "size": 10,
              "solidity": 0.2
             }
            },
            "type": "bar"
           }
          ],
          "scattergeo": [
           {
            "type": "scattergeo",
            "marker": {
             "colorbar": {
              "outlinewidth": 0,
              "ticks": ""
             }
            }
           }
          ],
          "scatterpolar": [
           {
            "type": "scatterpolar",
            "marker": {
             "colorbar": {
              "outlinewidth": 0,
              "ticks": ""
             }
            }
           }
          ],
          "histogram": [
           {
            "marker": {
             "pattern": {
              "fillmode": "overlay",
              "size": 10,
              "solidity": 0.2
             }
            },
            "type": "histogram"
           }
          ],
          "scattergl": [
           {
            "marker": {
             "line": {
              "color": "#283442"
             }
            },
            "type": "scattergl"
           }
          ],
          "scatter3d": [
           {
            "type": "scatter3d",
            "line": {
             "colorbar": {
              "outlinewidth": 0,
              "ticks": ""
             }
            },
            "marker": {
             "colorbar": {
              "outlinewidth": 0,
              "ticks": ""
             }
            }
           }
          ],
          "scattermapbox": [
           {
            "type": "scattermapbox",
            "marker": {
             "colorbar": {
              "outlinewidth": 0,
              "ticks": ""
             }
            }
           }
          ],
          "scatterternary": [
           {
            "type": "scatterternary",
            "marker": {
             "colorbar": {
              "outlinewidth": 0,
              "ticks": ""
             }
            }
           }
          ],
          "scattercarpet": [
           {
            "type": "scattercarpet",
            "marker": {
             "colorbar": {
              "outlinewidth": 0,
              "ticks": ""
             }
            }
           }
          ],
          "carpet": [
           {
            "aaxis": {
             "endlinecolor": "#A2B1C6",
             "gridcolor": "#506784",
             "linecolor": "#506784",
             "minorgridcolor": "#506784",
             "startlinecolor": "#A2B1C6"
            },
            "baxis": {
             "endlinecolor": "#A2B1C6",
             "gridcolor": "#506784",
             "linecolor": "#506784",
             "minorgridcolor": "#506784",
             "startlinecolor": "#A2B1C6"
            },
            "type": "carpet"
           }
          ],
          "table": [
           {
            "cells": {
             "fill": {
              "color": "#506784"
             },
             "line": {
              "color": "rgb(17,17,17)"
             }
            },
            "header": {
             "fill": {
              "color": "#2a3f5f"
             },
             "line": {
              "color": "rgb(17,17,17)"
             }
            },
            "type": "table"
           }
          ],
          "barpolar": [
           {
            "marker": {
             "line": {
              "color": "rgb(17,17,17)",
              "width": 0.5
             },
             "pattern": {
              "fillmode": "overlay",
              "size": 10,
              "solidity": 0.2
             }
            },
            "type": "barpolar"
           }
          ],
          "pie": [
           {
            "automargin": true,
            "type": "pie"
           }
          ]
         },
         "layout": {
          "autotypenumbers": "strict",
          "colorway": [
           "#636efa",
           "#EF553B",
           "#00cc96",
           "#ab63fa",
           "#FFA15A",
           "#19d3f3",
           "#FF6692",
           "#B6E880",
           "#FF97FF",
           "#FECB52"
          ],
          "font": {
           "color": "#f2f5fa"
          },
          "hovermode": "closest",
          "hoverlabel": {
           "align": "left"
          },
          "paper_bgcolor": "rgb(17,17,17)",
          "plot_bgcolor": "rgb(17,17,17)",
          "polar": {
           "bgcolor": "rgb(17,17,17)",
           "angularaxis": {
            "gridcolor": "#506784",
            "linecolor": "#506784",
            "ticks": ""
           },
           "radialaxis": {
            "gridcolor": "#506784",
            "linecolor": "#506784",
            "ticks": ""
           }
          },
          "ternary": {
           "bgcolor": "rgb(17,17,17)",
           "aaxis": {
            "gridcolor": "#506784",
            "linecolor": "#506784",
            "ticks": ""
           },
           "baxis": {
            "gridcolor": "#506784",
            "linecolor": "#506784",
            "ticks": ""
           },
           "caxis": {
            "gridcolor": "#506784",
            "linecolor": "#506784",
            "ticks": ""
           }
          },
          "coloraxis": {
           "colorbar": {
            "outlinewidth": 0,
            "ticks": ""
           }
          },
          "colorscale": {
           "sequential": [
            [
             0.0,
             "#0d0887"
            ],
            [
             0.1111111111111111,
             "#46039f"
            ],
            [
             0.2222222222222222,
             "#7201a8"
            ],
            [
             0.3333333333333333,
             "#9c179e"
            ],
            [
             0.4444444444444444,
             "#bd3786"
            ],
            [
             0.5555555555555556,
             "#d8576b"
            ],
            [
             0.6666666666666666,
             "#ed7953"
            ],
            [
             0.7777777777777778,
             "#fb9f3a"
            ],
            [
             0.8888888888888888,
             "#fdca26"
            ],
            [
             1.0,
             "#f0f921"
            ]
           ],
           "sequentialminus": [
            [
             0.0,
             "#0d0887"
            ],
            [
             0.1111111111111111,
             "#46039f"
            ],
            [
             0.2222222222222222,
             "#7201a8"
            ],
            [
             0.3333333333333333,
             "#9c179e"
            ],
            [
             0.4444444444444444,
             "#bd3786"
            ],
            [
             0.5555555555555556,
             "#d8576b"
            ],
            [
             0.6666666666666666,
             "#ed7953"
            ],
            [
             0.7777777777777778,
             "#fb9f3a"
            ],
            [
             0.8888888888888888,
             "#fdca26"
            ],
            [
             1.0,
             "#f0f921"
            ]
           ],
           "diverging": [
            [
             0,
             "#8e0152"
            ],
            [
             0.1,
             "#c51b7d"
            ],
            [
             0.2,
             "#de77ae"
            ],
            [
             0.3,
             "#f1b6da"
            ],
            [
             0.4,
             "#fde0ef"
            ],
            [
             0.5,
             "#f7f7f7"
            ],
            [
             0.6,
             "#e6f5d0"
            ],
            [
             0.7,
             "#b8e186"
            ],
            [
             0.8,
             "#7fbc41"
            ],
            [
             0.9,
             "#4d9221"
            ],
            [
             1,
             "#276419"
            ]
           ]
          },
          "xaxis": {
           "gridcolor": "#283442",
           "linecolor": "#506784",
           "ticks": "",
           "title": {
            "standoff": 15
           },
           "zerolinecolor": "#283442",
           "automargin": true,
           "zerolinewidth": 2
          },
          "yaxis": {
           "gridcolor": "#283442",
           "linecolor": "#506784",
           "ticks": "",
           "title": {
            "standoff": 15
           },
           "zerolinecolor": "#283442",
           "automargin": true,
           "zerolinewidth": 2
          },
          "scene": {
           "xaxis": {
            "backgroundcolor": "rgb(17,17,17)",
            "gridcolor": "#506784",
            "linecolor": "#506784",
            "showbackground": true,
            "ticks": "",
            "zerolinecolor": "#C8D4E3",
            "gridwidth": 2
           },
           "yaxis": {
            "backgroundcolor": "rgb(17,17,17)",
            "gridcolor": "#506784",
            "linecolor": "#506784",
            "showbackground": true,
            "ticks": "",
            "zerolinecolor": "#C8D4E3",
            "gridwidth": 2
           },
           "zaxis": {
            "backgroundcolor": "rgb(17,17,17)",
            "gridcolor": "#506784",
            "linecolor": "#506784",
            "showbackground": true,
            "ticks": "",
            "zerolinecolor": "#C8D4E3",
            "gridwidth": 2
           }
          },
          "shapedefaults": {
           "line": {
            "color": "#f2f5fa"
           }
          },
          "annotationdefaults": {
           "arrowcolor": "#f2f5fa",
           "arrowhead": 0,
           "arrowwidth": 1
          },
          "geo": {
           "bgcolor": "rgb(17,17,17)",
           "landcolor": "rgb(17,17,17)",
           "subunitcolor": "#506784",
           "showland": true,
           "showlakes": true,
           "lakecolor": "rgb(17,17,17)"
          },
          "title": {
           "x": 0.05
          },
          "updatemenudefaults": {
           "bgcolor": "#506784",
           "borderwidth": 0
          },
          "sliderdefaults": {
           "bgcolor": "#C8D4E3",
           "borderwidth": 1,
           "bordercolor": "rgb(17,17,17)",
           "tickwidth": 0
          },
          "mapbox": {
           "style": "dark"
          }
         }
        },
        "xaxis": {
         "anchor": "y",
         "domain": [
          0.0,
          0.2888888888888889
         ]
        },
        "yaxis": {
         "anchor": "x",
         "domain": [
          0.848,
          1.0
         ]
        },
        "xaxis2": {
         "anchor": "y2",
         "domain": [
          0.35555555555555557,
          0.6444444444444445
         ]
        },
        "yaxis2": {
         "anchor": "x2",
         "domain": [
          0.848,
          1.0
         ]
        },
        "xaxis3": {
         "anchor": "y3",
         "domain": [
          0.7111111111111111,
          1.0
         ]
        },
        "yaxis3": {
         "anchor": "x3",
         "domain": [
          0.848,
          1.0
         ]
        },
        "xaxis4": {
         "anchor": "y4",
         "domain": [
          0.0,
          0.2888888888888889
         ]
        },
        "yaxis4": {
         "anchor": "x4",
         "domain": [
          0.6359999999999999,
          0.7879999999999999
         ]
        },
        "xaxis5": {
         "anchor": "y5",
         "domain": [
          0.35555555555555557,
          0.6444444444444445
         ]
        },
        "yaxis5": {
         "anchor": "x5",
         "domain": [
          0.6359999999999999,
          0.7879999999999999
         ]
        },
        "xaxis6": {
         "anchor": "y6",
         "domain": [
          0.7111111111111111,
          1.0
         ]
        },
        "yaxis6": {
         "anchor": "x6",
         "domain": [
          0.6359999999999999,
          0.7879999999999999
         ]
        },
        "xaxis7": {
         "anchor": "y7",
         "domain": [
          0.0,
          0.2888888888888889
         ]
        },
        "yaxis7": {
         "anchor": "x7",
         "domain": [
          0.424,
          0.576
         ]
        },
        "xaxis8": {
         "anchor": "y8",
         "domain": [
          0.35555555555555557,
          0.6444444444444445
         ]
        },
        "yaxis8": {
         "anchor": "x8",
         "domain": [
          0.424,
          0.576
         ]
        },
        "xaxis9": {
         "anchor": "y9",
         "domain": [
          0.7111111111111111,
          1.0
         ]
        },
        "yaxis9": {
         "anchor": "x9",
         "domain": [
          0.424,
          0.576
         ]
        },
        "xaxis10": {
         "anchor": "y10",
         "domain": [
          0.0,
          0.2888888888888889
         ]
        },
        "yaxis10": {
         "anchor": "x10",
         "domain": [
          0.212,
          0.364
         ]
        },
        "xaxis11": {
         "anchor": "y11",
         "domain": [
          0.35555555555555557,
          0.6444444444444445
         ]
        },
        "yaxis11": {
         "anchor": "x11",
         "domain": [
          0.212,
          0.364
         ]
        },
        "xaxis12": {
         "anchor": "y12",
         "domain": [
          0.7111111111111111,
          1.0
         ]
        },
        "yaxis12": {
         "anchor": "x12",
         "domain": [
          0.212,
          0.364
         ]
        },
        "xaxis13": {
         "anchor": "y13",
         "domain": [
          0.0,
          0.2888888888888889
         ]
        },
        "yaxis13": {
         "anchor": "x13",
         "domain": [
          0.0,
          0.152
         ]
        },
        "xaxis14": {
         "anchor": "y14",
         "domain": [
          0.35555555555555557,
          0.6444444444444445
         ]
        },
        "yaxis14": {
         "anchor": "x14",
         "domain": [
          0.0,
          0.152
         ]
        },
        "xaxis15": {
         "anchor": "y15",
         "domain": [
          0.7111111111111111,
          1.0
         ]
        },
        "yaxis15": {
         "anchor": "x15",
         "domain": [
          0.0,
          0.152
         ]
        },
        "title": {
         "text": "Зависимость признаков от времени"
        },
        "height": 1000,
        "width": 1100
       },
       "config": {
        "plotlyServerURL": "https://plot.ly"
       }
      },
      "text/html": "<div>                            <div id=\"0ab8e610-9569-4f34-9391-3c6243d53c47\" class=\"plotly-graph-div\" style=\"height:1000px; width:1100px;\"></div>            <script type=\"text/javascript\">                require([\"plotly\"], function(Plotly) {                    window.PLOTLYENV=window.PLOTLYENV || {};                                    if (document.getElementById(\"0ab8e610-9569-4f34-9391-3c6243d53c47\")) {                    Plotly.newPlot(                        \"0ab8e610-9569-4f34-9391-3c6243d53c47\",                        [{\"name\":\"y1\",\"y\":[87211.83,119302.33,156215.0,173839.0,220396.0,269588.0,358531.0,456025.0,590162.0,775682.0,962468.0,742422.0,1163529.7,1388120.48,1584637.4,1781154.33,1977671.26,2174188.19,2370705.11,2567222.04,2763738.97,2960255.9,3839394.42,4868342.13,5306169.86],\"type\":\"scatter\",\"xaxis\":\"x\",\"yaxis\":\"y\"},{\"name\":\"y2\",\"y\":[328497.9,695059.8,1159034.0,1370182.8,1767476.7,2188231.5,2853272.4,4135154.6,5260232.8,6696259.1,8248652.0,7126972.4,8375863.8,9948772.8,10666870.5,11814897.4,12779525.7,13520862.9,15121534.2,16538189.5,18777726.0,19797064.3,19856674.5,21836984.32,23109899.86],\"type\":\"scatter\",\"xaxis\":\"x2\",\"yaxis\":\"y2\"},{\"name\":\"y3\",\"y\":[638450.6,789466.92,962057.0,1393532.2,1771073.0,2148613.8,2526154.6,3119433.0,3731494.0,4453175.0,4305879.0,5449048.0,6058819.0,6573744.0,6998475.0,7930101.0,8089881.0,8908736.67,9193008.3,9776264.78,10539984.59,11517283.46,11872014.63,13479555.33,14145570.35],\"type\":\"scatter\",\"xaxis\":\"x3\",\"yaxis\":\"y3\"},{\"name\":\"x1\",\"y\":[228548.4,488395.1,748241.8,1008088.5,1267935.2,1563568.7,2115067.5,3055059.5,3930286.9,4853244.4,5883726.5,6165342.47,6411756.44,6658170.41,6904584.38,7150998.36,7643826.3,7851425.6,8059024.9,8266624.2,8474223.5,8681822.8,8889422.1,9097021.4,9304620.7],\"type\":\"scatter\",\"xaxis\":\"x4\",\"yaxis\":\"y4\"},{\"name\":\"x2\",\"y\":[803.2,787.6,1472.8,1154.6,1508.7,2482.9,1857.2,2060.4,4530.7,15656.0,8611.9,5657.4,3793.5,159868.0,82607.0,108107.0,77801.0,66718.0,65314.0,85326.0,69873.0,93903.0,126244.0,103800.0,115425.0],\"type\":\"scatter\",\"xaxis\":\"x5\",\"yaxis\":\"y5\"},{\"name\":\"x3\",\"y\":[5780.87,5823.01,5865.15,5907.28,5961.24,5998.11,6037.02,6062.09,6095.18,6174.73,6217.91,6358.64,6499.37,6536.44,6563.44,6561.49,6552.78,6584.08,6591.91,6595.56,6599.21,6602.86,6606.51,6610.17,6613.82],\"type\":\"scatter\",\"xaxis\":\"x6\",\"yaxis\":\"y6\"},{\"name\":\"x4\",\"y\":[1212184.0,1272744.0,1444737.0,1841258.0,2255912.0,3297504.0,3905553.0,5346984.0,6142520.0,9506888.0,14877108.0,15356818.0,17905142.0,20169118.0,23445895.0,26546945.0,28890410.0,30078000.0,36338093.0,36604923.0,40602319.0,61757746.0,66739526.0,71721306.0,76703086.0],\"type\":\"scatter\",\"xaxis\":\"x7\",\"yaxis\":\"y7\"},{\"name\":\"x5\",\"y\":[33.8,35.2,32.4,30.4,35.1,33.0,36.4,39.8,47.0,38.4,36.1,35.9,42.0,42.4,43.0,44.6,46.7,42.4,41.9,47.3,46.6,37.8,39.0,40.5,42.0],\"type\":\"scatter\",\"xaxis\":\"x8\",\"yaxis\":\"y8\"},{\"name\":\"x6\",\"y\":[83359.41,87820.24,92700.8,98088.36,104100.59,110901.59,118730.03,127952.55,139175.58,153514.47,173393.63,206021.48,194439.24,219277.24,245646.11,264751.71,298248.97,322785.1,330199.1,358214.8,350894.2,398462.4,427329.34,460696.31,494063.29],\"type\":\"scatter\",\"xaxis\":\"x9\",\"yaxis\":\"y9\"},{\"name\":\"x7\",\"y\":[25719.2,25262.15,25720.2,24905.88,25084.01,25262.15,24702.3,28811.0,37211.5,50567.9,43904.4,64746.77,64543.19,158892.58,494532.21,686704.6,552039.1,851583.36,910869.11,248998.8,283544.61,565805.88,626603.39,795297.0,963990.61],\"type\":\"scatter\",\"xaxis\":\"x10\",\"yaxis\":\"y10\"},{\"name\":\"x8\",\"y\":[6171.0,7260.0,8067.0,5545.0,6932.0,8376.0,9347.0,9940.0,12515.0,124800.0,174200.0,113200.0,143800.0,188000.0,199800.0,228300.0,229030.0,149110.0,118194.6,148623.4,197017.5,184295.2,135211.0,205600.0,295500.0],\"type\":\"scatter\",\"xaxis\":\"x11\",\"yaxis\":\"y11\"},{\"name\":\"x9\",\"y\":[6642.0,7814.0,9194.0,12637.0,13817.0,17785.0,23988.0,32088.0,47106.0,84400.0,115500.0,70900.0,91000.0,117100.0,123100.0,135100.0,125900.0,78600.0,76229.7,98641.4,103426.8,107348.1,102899.2,129000.0,133000.0],\"type\":\"scatter\",\"xaxis\":\"x12\",\"yaxis\":\"y12\"},{\"name\":\"x10\",\"y\":[111458.0,185861.0,309534.0,418289.0,589139.0,879313.0,1352790.0,2181920.0,3101710.0,4236780.0,4980090.0,6293522.0,8319415.0,10151635.0,11994894.0,14385851.0,16000367.0,20162741.0,20909815.0,22718576.0,22271453.0,26580520.0,30364225.0,37955281.0,42471959.0],\"type\":\"scatter\",\"xaxis\":\"x13\",\"yaxis\":\"y13\"},{\"name\":\"x11\",\"y\":[1393.3,1807.8,2185.0,2385.26,2918.55,3208.02,3703.57,4171.8,5121.0,5855.0,6648.0,7406.0,8656.0,9128.0,9747.0,10965.0,12542.0,14413.0,15092.0,15397.0,16087.0,16843.0,17841.0,18029.0,18714.0],\"type\":\"scatter\",\"xaxis\":\"x14\",\"yaxis\":\"y14\"}],                        {\"template\":{\"data\":{\"histogram2dcontour\":[{\"type\":\"histogram2dcontour\",\"colorbar\":{\"outlinewidth\":0,\"ticks\":\"\"},\"colorscale\":[[0.0,\"#0d0887\"],[0.1111111111111111,\"#46039f\"],[0.2222222222222222,\"#7201a8\"],[0.3333333333333333,\"#9c179e\"],[0.4444444444444444,\"#bd3786\"],[0.5555555555555556,\"#d8576b\"],[0.6666666666666666,\"#ed7953\"],[0.7777777777777778,\"#fb9f3a\"],[0.8888888888888888,\"#fdca26\"],[1.0,\"#f0f921\"]]}],\"choropleth\":[{\"type\":\"choropleth\",\"colorbar\":{\"outlinewidth\":0,\"ticks\":\"\"}}],\"histogram2d\":[{\"type\":\"histogram2d\",\"colorbar\":{\"outlinewidth\":0,\"ticks\":\"\"},\"colorscale\":[[0.0,\"#0d0887\"],[0.1111111111111111,\"#46039f\"],[0.2222222222222222,\"#7201a8\"],[0.3333333333333333,\"#9c179e\"],[0.4444444444444444,\"#bd3786\"],[0.5555555555555556,\"#d8576b\"],[0.6666666666666666,\"#ed7953\"],[0.7777777777777778,\"#fb9f3a\"],[0.8888888888888888,\"#fdca26\"],[1.0,\"#f0f921\"]]}],\"heatmap\":[{\"type\":\"heatmap\",\"colorbar\":{\"outlinewidth\":0,\"ticks\":\"\"},\"colorscale\":[[0.0,\"#0d0887\"],[0.1111111111111111,\"#46039f\"],[0.2222222222222222,\"#7201a8\"],[0.3333333333333333,\"#9c179e\"],[0.4444444444444444,\"#bd3786\"],[0.5555555555555556,\"#d8576b\"],[0.6666666666666666,\"#ed7953\"],[0.7777777777777778,\"#fb9f3a\"],[0.8888888888888888,\"#fdca26\"],[1.0,\"#f0f921\"]]}],\"heatmapgl\":[{\"type\":\"heatmapgl\",\"colorbar\":{\"outlinewidth\":0,\"ticks\":\"\"},\"colorscale\":[[0.0,\"#0d0887\"],[0.1111111111111111,\"#46039f\"],[0.2222222222222222,\"#7201a8\"],[0.3333333333333333,\"#9c179e\"],[0.4444444444444444,\"#bd3786\"],[0.5555555555555556,\"#d8576b\"],[0.6666666666666666,\"#ed7953\"],[0.7777777777777778,\"#fb9f3a\"],[0.8888888888888888,\"#fdca26\"],[1.0,\"#f0f921\"]]}],\"contourcarpet\":[{\"type\":\"contourcarpet\",\"colorbar\":{\"outlinewidth\":0,\"ticks\":\"\"}}],\"contour\":[{\"type\":\"contour\",\"colorbar\":{\"outlinewidth\":0,\"ticks\":\"\"},\"colorscale\":[[0.0,\"#0d0887\"],[0.1111111111111111,\"#46039f\"],[0.2222222222222222,\"#7201a8\"],[0.3333333333333333,\"#9c179e\"],[0.4444444444444444,\"#bd3786\"],[0.5555555555555556,\"#d8576b\"],[0.6666666666666666,\"#ed7953\"],[0.7777777777777778,\"#fb9f3a\"],[0.8888888888888888,\"#fdca26\"],[1.0,\"#f0f921\"]]}],\"surface\":[{\"type\":\"surface\",\"colorbar\":{\"outlinewidth\":0,\"ticks\":\"\"},\"colorscale\":[[0.0,\"#0d0887\"],[0.1111111111111111,\"#46039f\"],[0.2222222222222222,\"#7201a8\"],[0.3333333333333333,\"#9c179e\"],[0.4444444444444444,\"#bd3786\"],[0.5555555555555556,\"#d8576b\"],[0.6666666666666666,\"#ed7953\"],[0.7777777777777778,\"#fb9f3a\"],[0.8888888888888888,\"#fdca26\"],[1.0,\"#f0f921\"]]}],\"mesh3d\":[{\"type\":\"mesh3d\",\"colorbar\":{\"outlinewidth\":0,\"ticks\":\"\"}}],\"scatter\":[{\"marker\":{\"line\":{\"color\":\"#283442\"}},\"type\":\"scatter\"}],\"parcoords\":[{\"type\":\"parcoords\",\"line\":{\"colorbar\":{\"outlinewidth\":0,\"ticks\":\"\"}}}],\"scatterpolargl\":[{\"type\":\"scatterpolargl\",\"marker\":{\"colorbar\":{\"outlinewidth\":0,\"ticks\":\"\"}}}],\"bar\":[{\"error_x\":{\"color\":\"#f2f5fa\"},\"error_y\":{\"color\":\"#f2f5fa\"},\"marker\":{\"line\":{\"color\":\"rgb(17,17,17)\",\"width\":0.5},\"pattern\":{\"fillmode\":\"overlay\",\"size\":10,\"solidity\":0.2}},\"type\":\"bar\"}],\"scattergeo\":[{\"type\":\"scattergeo\",\"marker\":{\"colorbar\":{\"outlinewidth\":0,\"ticks\":\"\"}}}],\"scatterpolar\":[{\"type\":\"scatterpolar\",\"marker\":{\"colorbar\":{\"outlinewidth\":0,\"ticks\":\"\"}}}],\"histogram\":[{\"marker\":{\"pattern\":{\"fillmode\":\"overlay\",\"size\":10,\"solidity\":0.2}},\"type\":\"histogram\"}],\"scattergl\":[{\"marker\":{\"line\":{\"color\":\"#283442\"}},\"type\":\"scattergl\"}],\"scatter3d\":[{\"type\":\"scatter3d\",\"line\":{\"colorbar\":{\"outlinewidth\":0,\"ticks\":\"\"}},\"marker\":{\"colorbar\":{\"outlinewidth\":0,\"ticks\":\"\"}}}],\"scattermapbox\":[{\"type\":\"scattermapbox\",\"marker\":{\"colorbar\":{\"outlinewidth\":0,\"ticks\":\"\"}}}],\"scatterternary\":[{\"type\":\"scatterternary\",\"marker\":{\"colorbar\":{\"outlinewidth\":0,\"ticks\":\"\"}}}],\"scattercarpet\":[{\"type\":\"scattercarpet\",\"marker\":{\"colorbar\":{\"outlinewidth\":0,\"ticks\":\"\"}}}],\"carpet\":[{\"aaxis\":{\"endlinecolor\":\"#A2B1C6\",\"gridcolor\":\"#506784\",\"linecolor\":\"#506784\",\"minorgridcolor\":\"#506784\",\"startlinecolor\":\"#A2B1C6\"},\"baxis\":{\"endlinecolor\":\"#A2B1C6\",\"gridcolor\":\"#506784\",\"linecolor\":\"#506784\",\"minorgridcolor\":\"#506784\",\"startlinecolor\":\"#A2B1C6\"},\"type\":\"carpet\"}],\"table\":[{\"cells\":{\"fill\":{\"color\":\"#506784\"},\"line\":{\"color\":\"rgb(17,17,17)\"}},\"header\":{\"fill\":{\"color\":\"#2a3f5f\"},\"line\":{\"color\":\"rgb(17,17,17)\"}},\"type\":\"table\"}],\"barpolar\":[{\"marker\":{\"line\":{\"color\":\"rgb(17,17,17)\",\"width\":0.5},\"pattern\":{\"fillmode\":\"overlay\",\"size\":10,\"solidity\":0.2}},\"type\":\"barpolar\"}],\"pie\":[{\"automargin\":true,\"type\":\"pie\"}]},\"layout\":{\"autotypenumbers\":\"strict\",\"colorway\":[\"#636efa\",\"#EF553B\",\"#00cc96\",\"#ab63fa\",\"#FFA15A\",\"#19d3f3\",\"#FF6692\",\"#B6E880\",\"#FF97FF\",\"#FECB52\"],\"font\":{\"color\":\"#f2f5fa\"},\"hovermode\":\"closest\",\"hoverlabel\":{\"align\":\"left\"},\"paper_bgcolor\":\"rgb(17,17,17)\",\"plot_bgcolor\":\"rgb(17,17,17)\",\"polar\":{\"bgcolor\":\"rgb(17,17,17)\",\"angularaxis\":{\"gridcolor\":\"#506784\",\"linecolor\":\"#506784\",\"ticks\":\"\"},\"radialaxis\":{\"gridcolor\":\"#506784\",\"linecolor\":\"#506784\",\"ticks\":\"\"}},\"ternary\":{\"bgcolor\":\"rgb(17,17,17)\",\"aaxis\":{\"gridcolor\":\"#506784\",\"linecolor\":\"#506784\",\"ticks\":\"\"},\"baxis\":{\"gridcolor\":\"#506784\",\"linecolor\":\"#506784\",\"ticks\":\"\"},\"caxis\":{\"gridcolor\":\"#506784\",\"linecolor\":\"#506784\",\"ticks\":\"\"}},\"coloraxis\":{\"colorbar\":{\"outlinewidth\":0,\"ticks\":\"\"}},\"colorscale\":{\"sequential\":[[0.0,\"#0d0887\"],[0.1111111111111111,\"#46039f\"],[0.2222222222222222,\"#7201a8\"],[0.3333333333333333,\"#9c179e\"],[0.4444444444444444,\"#bd3786\"],[0.5555555555555556,\"#d8576b\"],[0.6666666666666666,\"#ed7953\"],[0.7777777777777778,\"#fb9f3a\"],[0.8888888888888888,\"#fdca26\"],[1.0,\"#f0f921\"]],\"sequentialminus\":[[0.0,\"#0d0887\"],[0.1111111111111111,\"#46039f\"],[0.2222222222222222,\"#7201a8\"],[0.3333333333333333,\"#9c179e\"],[0.4444444444444444,\"#bd3786\"],[0.5555555555555556,\"#d8576b\"],[0.6666666666666666,\"#ed7953\"],[0.7777777777777778,\"#fb9f3a\"],[0.8888888888888888,\"#fdca26\"],[1.0,\"#f0f921\"]],\"diverging\":[[0,\"#8e0152\"],[0.1,\"#c51b7d\"],[0.2,\"#de77ae\"],[0.3,\"#f1b6da\"],[0.4,\"#fde0ef\"],[0.5,\"#f7f7f7\"],[0.6,\"#e6f5d0\"],[0.7,\"#b8e186\"],[0.8,\"#7fbc41\"],[0.9,\"#4d9221\"],[1,\"#276419\"]]},\"xaxis\":{\"gridcolor\":\"#283442\",\"linecolor\":\"#506784\",\"ticks\":\"\",\"title\":{\"standoff\":15},\"zerolinecolor\":\"#283442\",\"automargin\":true,\"zerolinewidth\":2},\"yaxis\":{\"gridcolor\":\"#283442\",\"linecolor\":\"#506784\",\"ticks\":\"\",\"title\":{\"standoff\":15},\"zerolinecolor\":\"#283442\",\"automargin\":true,\"zerolinewidth\":2},\"scene\":{\"xaxis\":{\"backgroundcolor\":\"rgb(17,17,17)\",\"gridcolor\":\"#506784\",\"linecolor\":\"#506784\",\"showbackground\":true,\"ticks\":\"\",\"zerolinecolor\":\"#C8D4E3\",\"gridwidth\":2},\"yaxis\":{\"backgroundcolor\":\"rgb(17,17,17)\",\"gridcolor\":\"#506784\",\"linecolor\":\"#506784\",\"showbackground\":true,\"ticks\":\"\",\"zerolinecolor\":\"#C8D4E3\",\"gridwidth\":2},\"zaxis\":{\"backgroundcolor\":\"rgb(17,17,17)\",\"gridcolor\":\"#506784\",\"linecolor\":\"#506784\",\"showbackground\":true,\"ticks\":\"\",\"zerolinecolor\":\"#C8D4E3\",\"gridwidth\":2}},\"shapedefaults\":{\"line\":{\"color\":\"#f2f5fa\"}},\"annotationdefaults\":{\"arrowcolor\":\"#f2f5fa\",\"arrowhead\":0,\"arrowwidth\":1},\"geo\":{\"bgcolor\":\"rgb(17,17,17)\",\"landcolor\":\"rgb(17,17,17)\",\"subunitcolor\":\"#506784\",\"showland\":true,\"showlakes\":true,\"lakecolor\":\"rgb(17,17,17)\"},\"title\":{\"x\":0.05},\"updatemenudefaults\":{\"bgcolor\":\"#506784\",\"borderwidth\":0},\"sliderdefaults\":{\"bgcolor\":\"#C8D4E3\",\"borderwidth\":1,\"bordercolor\":\"rgb(17,17,17)\",\"tickwidth\":0},\"mapbox\":{\"style\":\"dark\"}}},\"xaxis\":{\"anchor\":\"y\",\"domain\":[0.0,0.2888888888888889]},\"yaxis\":{\"anchor\":\"x\",\"domain\":[0.848,1.0]},\"xaxis2\":{\"anchor\":\"y2\",\"domain\":[0.35555555555555557,0.6444444444444445]},\"yaxis2\":{\"anchor\":\"x2\",\"domain\":[0.848,1.0]},\"xaxis3\":{\"anchor\":\"y3\",\"domain\":[0.7111111111111111,1.0]},\"yaxis3\":{\"anchor\":\"x3\",\"domain\":[0.848,1.0]},\"xaxis4\":{\"anchor\":\"y4\",\"domain\":[0.0,0.2888888888888889]},\"yaxis4\":{\"anchor\":\"x4\",\"domain\":[0.6359999999999999,0.7879999999999999]},\"xaxis5\":{\"anchor\":\"y5\",\"domain\":[0.35555555555555557,0.6444444444444445]},\"yaxis5\":{\"anchor\":\"x5\",\"domain\":[0.6359999999999999,0.7879999999999999]},\"xaxis6\":{\"anchor\":\"y6\",\"domain\":[0.7111111111111111,1.0]},\"yaxis6\":{\"anchor\":\"x6\",\"domain\":[0.6359999999999999,0.7879999999999999]},\"xaxis7\":{\"anchor\":\"y7\",\"domain\":[0.0,0.2888888888888889]},\"yaxis7\":{\"anchor\":\"x7\",\"domain\":[0.424,0.576]},\"xaxis8\":{\"anchor\":\"y8\",\"domain\":[0.35555555555555557,0.6444444444444445]},\"yaxis8\":{\"anchor\":\"x8\",\"domain\":[0.424,0.576]},\"xaxis9\":{\"anchor\":\"y9\",\"domain\":[0.7111111111111111,1.0]},\"yaxis9\":{\"anchor\":\"x9\",\"domain\":[0.424,0.576]},\"xaxis10\":{\"anchor\":\"y10\",\"domain\":[0.0,0.2888888888888889]},\"yaxis10\":{\"anchor\":\"x10\",\"domain\":[0.212,0.364]},\"xaxis11\":{\"anchor\":\"y11\",\"domain\":[0.35555555555555557,0.6444444444444445]},\"yaxis11\":{\"anchor\":\"x11\",\"domain\":[0.212,0.364]},\"xaxis12\":{\"anchor\":\"y12\",\"domain\":[0.7111111111111111,1.0]},\"yaxis12\":{\"anchor\":\"x12\",\"domain\":[0.212,0.364]},\"xaxis13\":{\"anchor\":\"y13\",\"domain\":[0.0,0.2888888888888889]},\"yaxis13\":{\"anchor\":\"x13\",\"domain\":[0.0,0.152]},\"xaxis14\":{\"anchor\":\"y14\",\"domain\":[0.35555555555555557,0.6444444444444445]},\"yaxis14\":{\"anchor\":\"x14\",\"domain\":[0.0,0.152]},\"xaxis15\":{\"anchor\":\"y15\",\"domain\":[0.7111111111111111,1.0]},\"yaxis15\":{\"anchor\":\"x15\",\"domain\":[0.0,0.152]},\"title\":{\"text\":\"\\u0417\\u0430\\u0432\\u0438\\u0441\\u0438\\u043c\\u043e\\u0441\\u0442\\u044c \\u043f\\u0440\\u0438\\u0437\\u043d\\u0430\\u043a\\u043e\\u0432 \\u043e\\u0442 \\u0432\\u0440\\u0435\\u043c\\u0435\\u043d\\u0438\"},\"height\":1000,\"width\":1100},                        {\"responsive\": true}                    ).then(function(){\n                            \nvar gd = document.getElementById('0ab8e610-9569-4f34-9391-3c6243d53c47');\nvar x = new MutationObserver(function (mutations, observer) {{\n        var display = window.getComputedStyle(gd).display;\n        if (!display || display === 'none') {{\n            console.log([gd, 'removed!']);\n            Plotly.purge(gd);\n            observer.disconnect();\n        }}\n}});\n\n// Listen for the removal of the full notebook cells\nvar notebookContainer = gd.closest('#notebook-container');\nif (notebookContainer) {{\n    x.observe(notebookContainer, {childList: true});\n}}\n\n// Listen for the clearing of the current output cell\nvar outputEl = gd.closest('.output');\nif (outputEl) {{\n    x.observe(outputEl, {childList: true});\n}}\n\n                        })                };                });            </script>        </div>"
     },
     "metadata": {},
     "output_type": "display_data"
    }
   ],
   "source": [
    "combine_scatter_plots()"
   ],
   "metadata": {
    "collapsed": false,
    "ExecuteTime": {
     "start_time": "2023-04-13T19:52:37.165398Z",
     "end_time": "2023-04-13T19:52:38.261959Z"
    }
   }
  },
  {
   "cell_type": "markdown",
   "source": [
    "## Проверка данных на наличие выбросов и изучение распределения данных\n",
    "\n",
    "Функция combine_box_plots строит ящиковые диаграммы для каждого признака в наборе данных, где значения признака разбиваются на квартили и представляются в виде ящика.\n",
    "\n",
    "Функция combine_violin_plots строит аналогичные диаграммы, но вместо ящика используется график, который представляет распределение значений признака с помощью ядерной оценки плотности."
   ],
   "metadata": {
    "collapsed": false
   }
  },
  {
   "cell_type": "code",
   "execution_count": 144,
   "outputs": [],
   "source": [
    "# Построение графиков\n",
    "def combine_box_plots(height=1000, width=1100):\n",
    "    fig = make_subplots(rows=5, cols=3)\n",
    "    for i, column in enumerate(data.columns.values):\n",
    "        if 0 <= i < 3:\n",
    "            row, col = 1, i + 1\n",
    "        elif 3 <= i < 6:\n",
    "            row, col = 2, i + 1 - 3\n",
    "        elif 6 <= i < 9:\n",
    "            row, col = 3, i + 1 - 6\n",
    "        elif 9 <= i < 12:\n",
    "            row, col = 4, i + 1 - 9\n",
    "        else:\n",
    "            row, col = 5, i + 1 - 12\n",
    "\n",
    "        if 0 <= i < 3:\n",
    "            fig.add_trace(go.Box(x=data[f'y{i + 1}'], name=column), row=row, col=col)\n",
    "        else:\n",
    "            fig.add_trace(go.Box(x=data[f'x{i - 2}'], name=column), row=row, col=col)\n",
    "    fig.update_layout(height=height, width=width, title_text=\"Ящиковые диаграммы распределения признаков\")\n",
    "    fig.show()\n",
    "\n",
    "\n",
    "def combine_violin_plots(height=1500, width=1100):\n",
    "    fig = make_subplots(rows=5, cols=3)\n",
    "    for i, column in enumerate(data.columns.values):\n",
    "        if 0 <= i < 3:\n",
    "            row, col = 1, i + 1\n",
    "        elif 3 <= i < 6:\n",
    "            row, col = 2, i + 1 - 3\n",
    "        elif 6 <= i < 9:\n",
    "            row, col = 3, i + 1 - 6\n",
    "        elif 9 <= i < 12:\n",
    "            row, col = 4, i + 1 - 9\n",
    "        else:\n",
    "            row, col = 5, i + 1 - 12\n",
    "\n",
    "        if 0 <= i < 3:\n",
    "            fig.add_trace(go.Violin(x=data[f'y{i + 1}'], name=column), row=row, col=col)\n",
    "        else:\n",
    "            fig.add_trace(go.Violin(x=data[f'x{i - 2}'], name=column), row=row, col=col)\n",
    "    fig.update_layout(height=height, width=width, title_text=\"Распределение признаков\")\n",
    "    fig.show()"
   ],
   "metadata": {
    "collapsed": false,
    "ExecuteTime": {
     "start_time": "2023-04-13T19:52:37.198786Z",
     "end_time": "2023-04-13T19:52:38.262143Z"
    }
   }
  },
  {
   "cell_type": "code",
   "execution_count": 145,
   "outputs": [
    {
     "data": {
      "application/vnd.plotly.v1+json": {
       "data": [
        {
         "name": "y1",
         "x": [
          87211.83,
          119302.33,
          156215.0,
          173839.0,
          220396.0,
          269588.0,
          358531.0,
          456025.0,
          590162.0,
          775682.0,
          962468.0,
          742422.0,
          1163529.7,
          1388120.48,
          1584637.4,
          1781154.33,
          1977671.26,
          2174188.19,
          2370705.11,
          2567222.04,
          2763738.97,
          2960255.9,
          3839394.42,
          4868342.13,
          5306169.86
         ],
         "type": "box",
         "xaxis": "x",
         "yaxis": "y"
        },
        {
         "name": "y2",
         "x": [
          328497.9,
          695059.8,
          1159034.0,
          1370182.8,
          1767476.7,
          2188231.5,
          2853272.4,
          4135154.6,
          5260232.8,
          6696259.1,
          8248652.0,
          7126972.4,
          8375863.8,
          9948772.8,
          1.06668705E7,
          1.18148974E7,
          1.27795257E7,
          1.35208629E7,
          1.51215342E7,
          1.65381895E7,
          1.8777726E7,
          1.97970643E7,
          1.98566745E7,
          2.183698432E7,
          2.310989986E7
         ],
         "type": "box",
         "xaxis": "x2",
         "yaxis": "y2"
        },
        {
         "name": "y3",
         "x": [
          638450.6,
          789466.92,
          962057.0,
          1393532.2,
          1771073.0,
          2148613.8,
          2526154.6,
          3119433.0,
          3731494.0,
          4453175.0,
          4305879.0,
          5449048.0,
          6058819.0,
          6573744.0,
          6998475.0,
          7930101.0,
          8089881.0,
          8908736.67,
          9193008.3,
          9776264.78,
          1.053998459E7,
          1.151728346E7,
          1.187201463E7,
          1.347955533E7,
          1.414557035E7
         ],
         "type": "box",
         "xaxis": "x3",
         "yaxis": "y3"
        },
        {
         "name": "x1",
         "x": [
          228548.4,
          488395.1,
          748241.8,
          1008088.5,
          1267935.2,
          1563568.7,
          2115067.5,
          3055059.5,
          3930286.9,
          4853244.4,
          5883726.5,
          6165342.47,
          6411756.44,
          6658170.41,
          6904584.38,
          7150998.36,
          7643826.3,
          7851425.6,
          8059024.9,
          8266624.2,
          8474223.5,
          8681822.8,
          8889422.1,
          9097021.4,
          9304620.7
         ],
         "type": "box",
         "xaxis": "x4",
         "yaxis": "y4"
        },
        {
         "name": "x2",
         "x": [
          803.2,
          787.6,
          1472.8,
          1154.6,
          1508.7,
          2482.9,
          1857.2,
          2060.4,
          4530.7,
          15656.0,
          8611.9,
          5657.4,
          3793.5,
          159868.0,
          82607.0,
          108107.0,
          77801.0,
          66718.0,
          65314.0,
          85326.0,
          69873.0,
          93903.0,
          126244.0,
          103800.0,
          115425.0
         ],
         "type": "box",
         "xaxis": "x5",
         "yaxis": "y5"
        },
        {
         "name": "x3",
         "x": [
          5780.87,
          5823.01,
          5865.15,
          5907.28,
          5961.24,
          5998.11,
          6037.02,
          6062.09,
          6095.18,
          6174.73,
          6217.91,
          6358.64,
          6499.37,
          6536.44,
          6563.44,
          6561.49,
          6552.78,
          6584.08,
          6591.91,
          6595.56,
          6599.21,
          6602.86,
          6606.51,
          6610.17,
          6613.82
         ],
         "type": "box",
         "xaxis": "x6",
         "yaxis": "y6"
        },
        {
         "name": "x4",
         "x": [
          1212184.0,
          1272744.0,
          1444737.0,
          1841258.0,
          2255912.0,
          3297504.0,
          3905553.0,
          5346984.0,
          6142520.0,
          9506888.0,
          1.4877108E7,
          1.5356818E7,
          1.7905142E7,
          2.0169118E7,
          2.3445895E7,
          2.6546945E7,
          2.889041E7,
          3.0078E7,
          3.6338093E7,
          3.6604923E7,
          4.0602319E7,
          6.1757746E7,
          6.6739526E7,
          7.1721306E7,
          7.6703086E7
         ],
         "type": "box",
         "xaxis": "x7",
         "yaxis": "y7"
        },
        {
         "name": "x5",
         "x": [
          33.8,
          35.2,
          32.4,
          30.4,
          35.1,
          33.0,
          36.4,
          39.8,
          47.0,
          38.4,
          36.1,
          35.9,
          42.0,
          42.4,
          43.0,
          44.6,
          46.7,
          42.4,
          41.9,
          47.3,
          46.6,
          37.8,
          39.0,
          40.5,
          42.0
         ],
         "type": "box",
         "xaxis": "x8",
         "yaxis": "y8"
        },
        {
         "name": "x6",
         "x": [
          83359.41,
          87820.24,
          92700.8,
          98088.36,
          104100.59,
          110901.59,
          118730.03,
          127952.55,
          139175.58,
          153514.47,
          173393.63,
          206021.48,
          194439.24,
          219277.24,
          245646.11,
          264751.71,
          298248.97,
          322785.1,
          330199.1,
          358214.8,
          350894.2,
          398462.4,
          427329.34,
          460696.31,
          494063.29
         ],
         "type": "box",
         "xaxis": "x9",
         "yaxis": "y9"
        },
        {
         "name": "x7",
         "x": [
          25719.2,
          25262.15,
          25720.2,
          24905.88,
          25084.01,
          25262.15,
          24702.3,
          28811.0,
          37211.5,
          50567.9,
          43904.4,
          64746.77,
          64543.19,
          158892.58,
          494532.21,
          686704.6,
          552039.1,
          851583.36,
          910869.11,
          248998.8,
          283544.61,
          565805.88,
          626603.39,
          795297.0,
          963990.61
         ],
         "type": "box",
         "xaxis": "x10",
         "yaxis": "y10"
        },
        {
         "name": "x8",
         "x": [
          6171.0,
          7260.0,
          8067.0,
          5545.0,
          6932.0,
          8376.0,
          9347.0,
          9940.0,
          12515.0,
          124800.0,
          174200.0,
          113200.0,
          143800.0,
          188000.0,
          199800.0,
          228300.0,
          229030.0,
          149110.0,
          118194.6,
          148623.4,
          197017.5,
          184295.2,
          135211.0,
          205600.0,
          295500.0
         ],
         "type": "box",
         "xaxis": "x11",
         "yaxis": "y11"
        },
        {
         "name": "x9",
         "x": [
          6642.0,
          7814.0,
          9194.0,
          12637.0,
          13817.0,
          17785.0,
          23988.0,
          32088.0,
          47106.0,
          84400.0,
          115500.0,
          70900.0,
          91000.0,
          117100.0,
          123100.0,
          135100.0,
          125900.0,
          78600.0,
          76229.7,
          98641.4,
          103426.8,
          107348.1,
          102899.2,
          129000.0,
          133000.0
         ],
         "type": "box",
         "xaxis": "x12",
         "yaxis": "y12"
        },
        {
         "name": "x10",
         "x": [
          111458.0,
          185861.0,
          309534.0,
          418289.0,
          589139.0,
          879313.0,
          1352790.0,
          2181920.0,
          3101710.0,
          4236780.0,
          4980090.0,
          6293522.0,
          8319415.0,
          1.0151635E7,
          1.1994894E7,
          1.4385851E7,
          1.6000367E7,
          2.0162741E7,
          2.0909815E7,
          2.2718576E7,
          2.2271453E7,
          2.658052E7,
          3.0364225E7,
          3.7955281E7,
          4.2471959E7
         ],
         "type": "box",
         "xaxis": "x13",
         "yaxis": "y13"
        },
        {
         "name": "x11",
         "x": [
          1393.3,
          1807.8,
          2185.0,
          2385.26,
          2918.55,
          3208.02,
          3703.57,
          4171.8,
          5121.0,
          5855.0,
          6648.0,
          7406.0,
          8656.0,
          9128.0,
          9747.0,
          10965.0,
          12542.0,
          14413.0,
          15092.0,
          15397.0,
          16087.0,
          16843.0,
          17841.0,
          18029.0,
          18714.0
         ],
         "type": "box",
         "xaxis": "x14",
         "yaxis": "y14"
        }
       ],
       "layout": {
        "template": {
         "data": {
          "histogram2dcontour": [
           {
            "type": "histogram2dcontour",
            "colorbar": {
             "outlinewidth": 0,
             "ticks": ""
            },
            "colorscale": [
             [
              0.0,
              "#0d0887"
             ],
             [
              0.1111111111111111,
              "#46039f"
             ],
             [
              0.2222222222222222,
              "#7201a8"
             ],
             [
              0.3333333333333333,
              "#9c179e"
             ],
             [
              0.4444444444444444,
              "#bd3786"
             ],
             [
              0.5555555555555556,
              "#d8576b"
             ],
             [
              0.6666666666666666,
              "#ed7953"
             ],
             [
              0.7777777777777778,
              "#fb9f3a"
             ],
             [
              0.8888888888888888,
              "#fdca26"
             ],
             [
              1.0,
              "#f0f921"
             ]
            ]
           }
          ],
          "choropleth": [
           {
            "type": "choropleth",
            "colorbar": {
             "outlinewidth": 0,
             "ticks": ""
            }
           }
          ],
          "histogram2d": [
           {
            "type": "histogram2d",
            "colorbar": {
             "outlinewidth": 0,
             "ticks": ""
            },
            "colorscale": [
             [
              0.0,
              "#0d0887"
             ],
             [
              0.1111111111111111,
              "#46039f"
             ],
             [
              0.2222222222222222,
              "#7201a8"
             ],
             [
              0.3333333333333333,
              "#9c179e"
             ],
             [
              0.4444444444444444,
              "#bd3786"
             ],
             [
              0.5555555555555556,
              "#d8576b"
             ],
             [
              0.6666666666666666,
              "#ed7953"
             ],
             [
              0.7777777777777778,
              "#fb9f3a"
             ],
             [
              0.8888888888888888,
              "#fdca26"
             ],
             [
              1.0,
              "#f0f921"
             ]
            ]
           }
          ],
          "heatmap": [
           {
            "type": "heatmap",
            "colorbar": {
             "outlinewidth": 0,
             "ticks": ""
            },
            "colorscale": [
             [
              0.0,
              "#0d0887"
             ],
             [
              0.1111111111111111,
              "#46039f"
             ],
             [
              0.2222222222222222,
              "#7201a8"
             ],
             [
              0.3333333333333333,
              "#9c179e"
             ],
             [
              0.4444444444444444,
              "#bd3786"
             ],
             [
              0.5555555555555556,
              "#d8576b"
             ],
             [
              0.6666666666666666,
              "#ed7953"
             ],
             [
              0.7777777777777778,
              "#fb9f3a"
             ],
             [
              0.8888888888888888,
              "#fdca26"
             ],
             [
              1.0,
              "#f0f921"
             ]
            ]
           }
          ],
          "heatmapgl": [
           {
            "type": "heatmapgl",
            "colorbar": {
             "outlinewidth": 0,
             "ticks": ""
            },
            "colorscale": [
             [
              0.0,
              "#0d0887"
             ],
             [
              0.1111111111111111,
              "#46039f"
             ],
             [
              0.2222222222222222,
              "#7201a8"
             ],
             [
              0.3333333333333333,
              "#9c179e"
             ],
             [
              0.4444444444444444,
              "#bd3786"
             ],
             [
              0.5555555555555556,
              "#d8576b"
             ],
             [
              0.6666666666666666,
              "#ed7953"
             ],
             [
              0.7777777777777778,
              "#fb9f3a"
             ],
             [
              0.8888888888888888,
              "#fdca26"
             ],
             [
              1.0,
              "#f0f921"
             ]
            ]
           }
          ],
          "contourcarpet": [
           {
            "type": "contourcarpet",
            "colorbar": {
             "outlinewidth": 0,
             "ticks": ""
            }
           }
          ],
          "contour": [
           {
            "type": "contour",
            "colorbar": {
             "outlinewidth": 0,
             "ticks": ""
            },
            "colorscale": [
             [
              0.0,
              "#0d0887"
             ],
             [
              0.1111111111111111,
              "#46039f"
             ],
             [
              0.2222222222222222,
              "#7201a8"
             ],
             [
              0.3333333333333333,
              "#9c179e"
             ],
             [
              0.4444444444444444,
              "#bd3786"
             ],
             [
              0.5555555555555556,
              "#d8576b"
             ],
             [
              0.6666666666666666,
              "#ed7953"
             ],
             [
              0.7777777777777778,
              "#fb9f3a"
             ],
             [
              0.8888888888888888,
              "#fdca26"
             ],
             [
              1.0,
              "#f0f921"
             ]
            ]
           }
          ],
          "surface": [
           {
            "type": "surface",
            "colorbar": {
             "outlinewidth": 0,
             "ticks": ""
            },
            "colorscale": [
             [
              0.0,
              "#0d0887"
             ],
             [
              0.1111111111111111,
              "#46039f"
             ],
             [
              0.2222222222222222,
              "#7201a8"
             ],
             [
              0.3333333333333333,
              "#9c179e"
             ],
             [
              0.4444444444444444,
              "#bd3786"
             ],
             [
              0.5555555555555556,
              "#d8576b"
             ],
             [
              0.6666666666666666,
              "#ed7953"
             ],
             [
              0.7777777777777778,
              "#fb9f3a"
             ],
             [
              0.8888888888888888,
              "#fdca26"
             ],
             [
              1.0,
              "#f0f921"
             ]
            ]
           }
          ],
          "mesh3d": [
           {
            "type": "mesh3d",
            "colorbar": {
             "outlinewidth": 0,
             "ticks": ""
            }
           }
          ],
          "scatter": [
           {
            "marker": {
             "line": {
              "color": "#283442"
             }
            },
            "type": "scatter"
           }
          ],
          "parcoords": [
           {
            "type": "parcoords",
            "line": {
             "colorbar": {
              "outlinewidth": 0,
              "ticks": ""
             }
            }
           }
          ],
          "scatterpolargl": [
           {
            "type": "scatterpolargl",
            "marker": {
             "colorbar": {
              "outlinewidth": 0,
              "ticks": ""
             }
            }
           }
          ],
          "bar": [
           {
            "error_x": {
             "color": "#f2f5fa"
            },
            "error_y": {
             "color": "#f2f5fa"
            },
            "marker": {
             "line": {
              "color": "rgb(17,17,17)",
              "width": 0.5
             },
             "pattern": {
              "fillmode": "overlay",
              "size": 10,
              "solidity": 0.2
             }
            },
            "type": "bar"
           }
          ],
          "scattergeo": [
           {
            "type": "scattergeo",
            "marker": {
             "colorbar": {
              "outlinewidth": 0,
              "ticks": ""
             }
            }
           }
          ],
          "scatterpolar": [
           {
            "type": "scatterpolar",
            "marker": {
             "colorbar": {
              "outlinewidth": 0,
              "ticks": ""
             }
            }
           }
          ],
          "histogram": [
           {
            "marker": {
             "pattern": {
              "fillmode": "overlay",
              "size": 10,
              "solidity": 0.2
             }
            },
            "type": "histogram"
           }
          ],
          "scattergl": [
           {
            "marker": {
             "line": {
              "color": "#283442"
             }
            },
            "type": "scattergl"
           }
          ],
          "scatter3d": [
           {
            "type": "scatter3d",
            "line": {
             "colorbar": {
              "outlinewidth": 0,
              "ticks": ""
             }
            },
            "marker": {
             "colorbar": {
              "outlinewidth": 0,
              "ticks": ""
             }
            }
           }
          ],
          "scattermapbox": [
           {
            "type": "scattermapbox",
            "marker": {
             "colorbar": {
              "outlinewidth": 0,
              "ticks": ""
             }
            }
           }
          ],
          "scatterternary": [
           {
            "type": "scatterternary",
            "marker": {
             "colorbar": {
              "outlinewidth": 0,
              "ticks": ""
             }
            }
           }
          ],
          "scattercarpet": [
           {
            "type": "scattercarpet",
            "marker": {
             "colorbar": {
              "outlinewidth": 0,
              "ticks": ""
             }
            }
           }
          ],
          "carpet": [
           {
            "aaxis": {
             "endlinecolor": "#A2B1C6",
             "gridcolor": "#506784",
             "linecolor": "#506784",
             "minorgridcolor": "#506784",
             "startlinecolor": "#A2B1C6"
            },
            "baxis": {
             "endlinecolor": "#A2B1C6",
             "gridcolor": "#506784",
             "linecolor": "#506784",
             "minorgridcolor": "#506784",
             "startlinecolor": "#A2B1C6"
            },
            "type": "carpet"
           }
          ],
          "table": [
           {
            "cells": {
             "fill": {
              "color": "#506784"
             },
             "line": {
              "color": "rgb(17,17,17)"
             }
            },
            "header": {
             "fill": {
              "color": "#2a3f5f"
             },
             "line": {
              "color": "rgb(17,17,17)"
             }
            },
            "type": "table"
           }
          ],
          "barpolar": [
           {
            "marker": {
             "line": {
              "color": "rgb(17,17,17)",
              "width": 0.5
             },
             "pattern": {
              "fillmode": "overlay",
              "size": 10,
              "solidity": 0.2
             }
            },
            "type": "barpolar"
           }
          ],
          "pie": [
           {
            "automargin": true,
            "type": "pie"
           }
          ]
         },
         "layout": {
          "autotypenumbers": "strict",
          "colorway": [
           "#636efa",
           "#EF553B",
           "#00cc96",
           "#ab63fa",
           "#FFA15A",
           "#19d3f3",
           "#FF6692",
           "#B6E880",
           "#FF97FF",
           "#FECB52"
          ],
          "font": {
           "color": "#f2f5fa"
          },
          "hovermode": "closest",
          "hoverlabel": {
           "align": "left"
          },
          "paper_bgcolor": "rgb(17,17,17)",
          "plot_bgcolor": "rgb(17,17,17)",
          "polar": {
           "bgcolor": "rgb(17,17,17)",
           "angularaxis": {
            "gridcolor": "#506784",
            "linecolor": "#506784",
            "ticks": ""
           },
           "radialaxis": {
            "gridcolor": "#506784",
            "linecolor": "#506784",
            "ticks": ""
           }
          },
          "ternary": {
           "bgcolor": "rgb(17,17,17)",
           "aaxis": {
            "gridcolor": "#506784",
            "linecolor": "#506784",
            "ticks": ""
           },
           "baxis": {
            "gridcolor": "#506784",
            "linecolor": "#506784",
            "ticks": ""
           },
           "caxis": {
            "gridcolor": "#506784",
            "linecolor": "#506784",
            "ticks": ""
           }
          },
          "coloraxis": {
           "colorbar": {
            "outlinewidth": 0,
            "ticks": ""
           }
          },
          "colorscale": {
           "sequential": [
            [
             0.0,
             "#0d0887"
            ],
            [
             0.1111111111111111,
             "#46039f"
            ],
            [
             0.2222222222222222,
             "#7201a8"
            ],
            [
             0.3333333333333333,
             "#9c179e"
            ],
            [
             0.4444444444444444,
             "#bd3786"
            ],
            [
             0.5555555555555556,
             "#d8576b"
            ],
            [
             0.6666666666666666,
             "#ed7953"
            ],
            [
             0.7777777777777778,
             "#fb9f3a"
            ],
            [
             0.8888888888888888,
             "#fdca26"
            ],
            [
             1.0,
             "#f0f921"
            ]
           ],
           "sequentialminus": [
            [
             0.0,
             "#0d0887"
            ],
            [
             0.1111111111111111,
             "#46039f"
            ],
            [
             0.2222222222222222,
             "#7201a8"
            ],
            [
             0.3333333333333333,
             "#9c179e"
            ],
            [
             0.4444444444444444,
             "#bd3786"
            ],
            [
             0.5555555555555556,
             "#d8576b"
            ],
            [
             0.6666666666666666,
             "#ed7953"
            ],
            [
             0.7777777777777778,
             "#fb9f3a"
            ],
            [
             0.8888888888888888,
             "#fdca26"
            ],
            [
             1.0,
             "#f0f921"
            ]
           ],
           "diverging": [
            [
             0,
             "#8e0152"
            ],
            [
             0.1,
             "#c51b7d"
            ],
            [
             0.2,
             "#de77ae"
            ],
            [
             0.3,
             "#f1b6da"
            ],
            [
             0.4,
             "#fde0ef"
            ],
            [
             0.5,
             "#f7f7f7"
            ],
            [
             0.6,
             "#e6f5d0"
            ],
            [
             0.7,
             "#b8e186"
            ],
            [
             0.8,
             "#7fbc41"
            ],
            [
             0.9,
             "#4d9221"
            ],
            [
             1,
             "#276419"
            ]
           ]
          },
          "xaxis": {
           "gridcolor": "#283442",
           "linecolor": "#506784",
           "ticks": "",
           "title": {
            "standoff": 15
           },
           "zerolinecolor": "#283442",
           "automargin": true,
           "zerolinewidth": 2
          },
          "yaxis": {
           "gridcolor": "#283442",
           "linecolor": "#506784",
           "ticks": "",
           "title": {
            "standoff": 15
           },
           "zerolinecolor": "#283442",
           "automargin": true,
           "zerolinewidth": 2
          },
          "scene": {
           "xaxis": {
            "backgroundcolor": "rgb(17,17,17)",
            "gridcolor": "#506784",
            "linecolor": "#506784",
            "showbackground": true,
            "ticks": "",
            "zerolinecolor": "#C8D4E3",
            "gridwidth": 2
           },
           "yaxis": {
            "backgroundcolor": "rgb(17,17,17)",
            "gridcolor": "#506784",
            "linecolor": "#506784",
            "showbackground": true,
            "ticks": "",
            "zerolinecolor": "#C8D4E3",
            "gridwidth": 2
           },
           "zaxis": {
            "backgroundcolor": "rgb(17,17,17)",
            "gridcolor": "#506784",
            "linecolor": "#506784",
            "showbackground": true,
            "ticks": "",
            "zerolinecolor": "#C8D4E3",
            "gridwidth": 2
           }
          },
          "shapedefaults": {
           "line": {
            "color": "#f2f5fa"
           }
          },
          "annotationdefaults": {
           "arrowcolor": "#f2f5fa",
           "arrowhead": 0,
           "arrowwidth": 1
          },
          "geo": {
           "bgcolor": "rgb(17,17,17)",
           "landcolor": "rgb(17,17,17)",
           "subunitcolor": "#506784",
           "showland": true,
           "showlakes": true,
           "lakecolor": "rgb(17,17,17)"
          },
          "title": {
           "x": 0.05
          },
          "updatemenudefaults": {
           "bgcolor": "#506784",
           "borderwidth": 0
          },
          "sliderdefaults": {
           "bgcolor": "#C8D4E3",
           "borderwidth": 1,
           "bordercolor": "rgb(17,17,17)",
           "tickwidth": 0
          },
          "mapbox": {
           "style": "dark"
          }
         }
        },
        "xaxis": {
         "anchor": "y",
         "domain": [
          0.0,
          0.2888888888888889
         ]
        },
        "yaxis": {
         "anchor": "x",
         "domain": [
          0.848,
          1.0
         ]
        },
        "xaxis2": {
         "anchor": "y2",
         "domain": [
          0.35555555555555557,
          0.6444444444444445
         ]
        },
        "yaxis2": {
         "anchor": "x2",
         "domain": [
          0.848,
          1.0
         ]
        },
        "xaxis3": {
         "anchor": "y3",
         "domain": [
          0.7111111111111111,
          1.0
         ]
        },
        "yaxis3": {
         "anchor": "x3",
         "domain": [
          0.848,
          1.0
         ]
        },
        "xaxis4": {
         "anchor": "y4",
         "domain": [
          0.0,
          0.2888888888888889
         ]
        },
        "yaxis4": {
         "anchor": "x4",
         "domain": [
          0.6359999999999999,
          0.7879999999999999
         ]
        },
        "xaxis5": {
         "anchor": "y5",
         "domain": [
          0.35555555555555557,
          0.6444444444444445
         ]
        },
        "yaxis5": {
         "anchor": "x5",
         "domain": [
          0.6359999999999999,
          0.7879999999999999
         ]
        },
        "xaxis6": {
         "anchor": "y6",
         "domain": [
          0.7111111111111111,
          1.0
         ]
        },
        "yaxis6": {
         "anchor": "x6",
         "domain": [
          0.6359999999999999,
          0.7879999999999999
         ]
        },
        "xaxis7": {
         "anchor": "y7",
         "domain": [
          0.0,
          0.2888888888888889
         ]
        },
        "yaxis7": {
         "anchor": "x7",
         "domain": [
          0.424,
          0.576
         ]
        },
        "xaxis8": {
         "anchor": "y8",
         "domain": [
          0.35555555555555557,
          0.6444444444444445
         ]
        },
        "yaxis8": {
         "anchor": "x8",
         "domain": [
          0.424,
          0.576
         ]
        },
        "xaxis9": {
         "anchor": "y9",
         "domain": [
          0.7111111111111111,
          1.0
         ]
        },
        "yaxis9": {
         "anchor": "x9",
         "domain": [
          0.424,
          0.576
         ]
        },
        "xaxis10": {
         "anchor": "y10",
         "domain": [
          0.0,
          0.2888888888888889
         ]
        },
        "yaxis10": {
         "anchor": "x10",
         "domain": [
          0.212,
          0.364
         ]
        },
        "xaxis11": {
         "anchor": "y11",
         "domain": [
          0.35555555555555557,
          0.6444444444444445
         ]
        },
        "yaxis11": {
         "anchor": "x11",
         "domain": [
          0.212,
          0.364
         ]
        },
        "xaxis12": {
         "anchor": "y12",
         "domain": [
          0.7111111111111111,
          1.0
         ]
        },
        "yaxis12": {
         "anchor": "x12",
         "domain": [
          0.212,
          0.364
         ]
        },
        "xaxis13": {
         "anchor": "y13",
         "domain": [
          0.0,
          0.2888888888888889
         ]
        },
        "yaxis13": {
         "anchor": "x13",
         "domain": [
          0.0,
          0.152
         ]
        },
        "xaxis14": {
         "anchor": "y14",
         "domain": [
          0.35555555555555557,
          0.6444444444444445
         ]
        },
        "yaxis14": {
         "anchor": "x14",
         "domain": [
          0.0,
          0.152
         ]
        },
        "xaxis15": {
         "anchor": "y15",
         "domain": [
          0.7111111111111111,
          1.0
         ]
        },
        "yaxis15": {
         "anchor": "x15",
         "domain": [
          0.0,
          0.152
         ]
        },
        "title": {
         "text": "Ящиковые диаграммы распределения признаков"
        },
        "height": 1000,
        "width": 1100
       },
       "config": {
        "plotlyServerURL": "https://plot.ly"
       }
      },
      "text/html": "<div>                            <div id=\"db26272f-8a8a-4964-bb05-8b21ee1bd360\" class=\"plotly-graph-div\" style=\"height:1000px; width:1100px;\"></div>            <script type=\"text/javascript\">                require([\"plotly\"], function(Plotly) {                    window.PLOTLYENV=window.PLOTLYENV || {};                                    if (document.getElementById(\"db26272f-8a8a-4964-bb05-8b21ee1bd360\")) {                    Plotly.newPlot(                        \"db26272f-8a8a-4964-bb05-8b21ee1bd360\",                        [{\"name\":\"y1\",\"x\":[87211.83,119302.33,156215.0,173839.0,220396.0,269588.0,358531.0,456025.0,590162.0,775682.0,962468.0,742422.0,1163529.7,1388120.48,1584637.4,1781154.33,1977671.26,2174188.19,2370705.11,2567222.04,2763738.97,2960255.9,3839394.42,4868342.13,5306169.86],\"type\":\"box\",\"xaxis\":\"x\",\"yaxis\":\"y\"},{\"name\":\"y2\",\"x\":[328497.9,695059.8,1159034.0,1370182.8,1767476.7,2188231.5,2853272.4,4135154.6,5260232.8,6696259.1,8248652.0,7126972.4,8375863.8,9948772.8,10666870.5,11814897.4,12779525.7,13520862.9,15121534.2,16538189.5,18777726.0,19797064.3,19856674.5,21836984.32,23109899.86],\"type\":\"box\",\"xaxis\":\"x2\",\"yaxis\":\"y2\"},{\"name\":\"y3\",\"x\":[638450.6,789466.92,962057.0,1393532.2,1771073.0,2148613.8,2526154.6,3119433.0,3731494.0,4453175.0,4305879.0,5449048.0,6058819.0,6573744.0,6998475.0,7930101.0,8089881.0,8908736.67,9193008.3,9776264.78,10539984.59,11517283.46,11872014.63,13479555.33,14145570.35],\"type\":\"box\",\"xaxis\":\"x3\",\"yaxis\":\"y3\"},{\"name\":\"x1\",\"x\":[228548.4,488395.1,748241.8,1008088.5,1267935.2,1563568.7,2115067.5,3055059.5,3930286.9,4853244.4,5883726.5,6165342.47,6411756.44,6658170.41,6904584.38,7150998.36,7643826.3,7851425.6,8059024.9,8266624.2,8474223.5,8681822.8,8889422.1,9097021.4,9304620.7],\"type\":\"box\",\"xaxis\":\"x4\",\"yaxis\":\"y4\"},{\"name\":\"x2\",\"x\":[803.2,787.6,1472.8,1154.6,1508.7,2482.9,1857.2,2060.4,4530.7,15656.0,8611.9,5657.4,3793.5,159868.0,82607.0,108107.0,77801.0,66718.0,65314.0,85326.0,69873.0,93903.0,126244.0,103800.0,115425.0],\"type\":\"box\",\"xaxis\":\"x5\",\"yaxis\":\"y5\"},{\"name\":\"x3\",\"x\":[5780.87,5823.01,5865.15,5907.28,5961.24,5998.11,6037.02,6062.09,6095.18,6174.73,6217.91,6358.64,6499.37,6536.44,6563.44,6561.49,6552.78,6584.08,6591.91,6595.56,6599.21,6602.86,6606.51,6610.17,6613.82],\"type\":\"box\",\"xaxis\":\"x6\",\"yaxis\":\"y6\"},{\"name\":\"x4\",\"x\":[1212184.0,1272744.0,1444737.0,1841258.0,2255912.0,3297504.0,3905553.0,5346984.0,6142520.0,9506888.0,14877108.0,15356818.0,17905142.0,20169118.0,23445895.0,26546945.0,28890410.0,30078000.0,36338093.0,36604923.0,40602319.0,61757746.0,66739526.0,71721306.0,76703086.0],\"type\":\"box\",\"xaxis\":\"x7\",\"yaxis\":\"y7\"},{\"name\":\"x5\",\"x\":[33.8,35.2,32.4,30.4,35.1,33.0,36.4,39.8,47.0,38.4,36.1,35.9,42.0,42.4,43.0,44.6,46.7,42.4,41.9,47.3,46.6,37.8,39.0,40.5,42.0],\"type\":\"box\",\"xaxis\":\"x8\",\"yaxis\":\"y8\"},{\"name\":\"x6\",\"x\":[83359.41,87820.24,92700.8,98088.36,104100.59,110901.59,118730.03,127952.55,139175.58,153514.47,173393.63,206021.48,194439.24,219277.24,245646.11,264751.71,298248.97,322785.1,330199.1,358214.8,350894.2,398462.4,427329.34,460696.31,494063.29],\"type\":\"box\",\"xaxis\":\"x9\",\"yaxis\":\"y9\"},{\"name\":\"x7\",\"x\":[25719.2,25262.15,25720.2,24905.88,25084.01,25262.15,24702.3,28811.0,37211.5,50567.9,43904.4,64746.77,64543.19,158892.58,494532.21,686704.6,552039.1,851583.36,910869.11,248998.8,283544.61,565805.88,626603.39,795297.0,963990.61],\"type\":\"box\",\"xaxis\":\"x10\",\"yaxis\":\"y10\"},{\"name\":\"x8\",\"x\":[6171.0,7260.0,8067.0,5545.0,6932.0,8376.0,9347.0,9940.0,12515.0,124800.0,174200.0,113200.0,143800.0,188000.0,199800.0,228300.0,229030.0,149110.0,118194.6,148623.4,197017.5,184295.2,135211.0,205600.0,295500.0],\"type\":\"box\",\"xaxis\":\"x11\",\"yaxis\":\"y11\"},{\"name\":\"x9\",\"x\":[6642.0,7814.0,9194.0,12637.0,13817.0,17785.0,23988.0,32088.0,47106.0,84400.0,115500.0,70900.0,91000.0,117100.0,123100.0,135100.0,125900.0,78600.0,76229.7,98641.4,103426.8,107348.1,102899.2,129000.0,133000.0],\"type\":\"box\",\"xaxis\":\"x12\",\"yaxis\":\"y12\"},{\"name\":\"x10\",\"x\":[111458.0,185861.0,309534.0,418289.0,589139.0,879313.0,1352790.0,2181920.0,3101710.0,4236780.0,4980090.0,6293522.0,8319415.0,10151635.0,11994894.0,14385851.0,16000367.0,20162741.0,20909815.0,22718576.0,22271453.0,26580520.0,30364225.0,37955281.0,42471959.0],\"type\":\"box\",\"xaxis\":\"x13\",\"yaxis\":\"y13\"},{\"name\":\"x11\",\"x\":[1393.3,1807.8,2185.0,2385.26,2918.55,3208.02,3703.57,4171.8,5121.0,5855.0,6648.0,7406.0,8656.0,9128.0,9747.0,10965.0,12542.0,14413.0,15092.0,15397.0,16087.0,16843.0,17841.0,18029.0,18714.0],\"type\":\"box\",\"xaxis\":\"x14\",\"yaxis\":\"y14\"}],                        {\"template\":{\"data\":{\"histogram2dcontour\":[{\"type\":\"histogram2dcontour\",\"colorbar\":{\"outlinewidth\":0,\"ticks\":\"\"},\"colorscale\":[[0.0,\"#0d0887\"],[0.1111111111111111,\"#46039f\"],[0.2222222222222222,\"#7201a8\"],[0.3333333333333333,\"#9c179e\"],[0.4444444444444444,\"#bd3786\"],[0.5555555555555556,\"#d8576b\"],[0.6666666666666666,\"#ed7953\"],[0.7777777777777778,\"#fb9f3a\"],[0.8888888888888888,\"#fdca26\"],[1.0,\"#f0f921\"]]}],\"choropleth\":[{\"type\":\"choropleth\",\"colorbar\":{\"outlinewidth\":0,\"ticks\":\"\"}}],\"histogram2d\":[{\"type\":\"histogram2d\",\"colorbar\":{\"outlinewidth\":0,\"ticks\":\"\"},\"colorscale\":[[0.0,\"#0d0887\"],[0.1111111111111111,\"#46039f\"],[0.2222222222222222,\"#7201a8\"],[0.3333333333333333,\"#9c179e\"],[0.4444444444444444,\"#bd3786\"],[0.5555555555555556,\"#d8576b\"],[0.6666666666666666,\"#ed7953\"],[0.7777777777777778,\"#fb9f3a\"],[0.8888888888888888,\"#fdca26\"],[1.0,\"#f0f921\"]]}],\"heatmap\":[{\"type\":\"heatmap\",\"colorbar\":{\"outlinewidth\":0,\"ticks\":\"\"},\"colorscale\":[[0.0,\"#0d0887\"],[0.1111111111111111,\"#46039f\"],[0.2222222222222222,\"#7201a8\"],[0.3333333333333333,\"#9c179e\"],[0.4444444444444444,\"#bd3786\"],[0.5555555555555556,\"#d8576b\"],[0.6666666666666666,\"#ed7953\"],[0.7777777777777778,\"#fb9f3a\"],[0.8888888888888888,\"#fdca26\"],[1.0,\"#f0f921\"]]}],\"heatmapgl\":[{\"type\":\"heatmapgl\",\"colorbar\":{\"outlinewidth\":0,\"ticks\":\"\"},\"colorscale\":[[0.0,\"#0d0887\"],[0.1111111111111111,\"#46039f\"],[0.2222222222222222,\"#7201a8\"],[0.3333333333333333,\"#9c179e\"],[0.4444444444444444,\"#bd3786\"],[0.5555555555555556,\"#d8576b\"],[0.6666666666666666,\"#ed7953\"],[0.7777777777777778,\"#fb9f3a\"],[0.8888888888888888,\"#fdca26\"],[1.0,\"#f0f921\"]]}],\"contourcarpet\":[{\"type\":\"contourcarpet\",\"colorbar\":{\"outlinewidth\":0,\"ticks\":\"\"}}],\"contour\":[{\"type\":\"contour\",\"colorbar\":{\"outlinewidth\":0,\"ticks\":\"\"},\"colorscale\":[[0.0,\"#0d0887\"],[0.1111111111111111,\"#46039f\"],[0.2222222222222222,\"#7201a8\"],[0.3333333333333333,\"#9c179e\"],[0.4444444444444444,\"#bd3786\"],[0.5555555555555556,\"#d8576b\"],[0.6666666666666666,\"#ed7953\"],[0.7777777777777778,\"#fb9f3a\"],[0.8888888888888888,\"#fdca26\"],[1.0,\"#f0f921\"]]}],\"surface\":[{\"type\":\"surface\",\"colorbar\":{\"outlinewidth\":0,\"ticks\":\"\"},\"colorscale\":[[0.0,\"#0d0887\"],[0.1111111111111111,\"#46039f\"],[0.2222222222222222,\"#7201a8\"],[0.3333333333333333,\"#9c179e\"],[0.4444444444444444,\"#bd3786\"],[0.5555555555555556,\"#d8576b\"],[0.6666666666666666,\"#ed7953\"],[0.7777777777777778,\"#fb9f3a\"],[0.8888888888888888,\"#fdca26\"],[1.0,\"#f0f921\"]]}],\"mesh3d\":[{\"type\":\"mesh3d\",\"colorbar\":{\"outlinewidth\":0,\"ticks\":\"\"}}],\"scatter\":[{\"marker\":{\"line\":{\"color\":\"#283442\"}},\"type\":\"scatter\"}],\"parcoords\":[{\"type\":\"parcoords\",\"line\":{\"colorbar\":{\"outlinewidth\":0,\"ticks\":\"\"}}}],\"scatterpolargl\":[{\"type\":\"scatterpolargl\",\"marker\":{\"colorbar\":{\"outlinewidth\":0,\"ticks\":\"\"}}}],\"bar\":[{\"error_x\":{\"color\":\"#f2f5fa\"},\"error_y\":{\"color\":\"#f2f5fa\"},\"marker\":{\"line\":{\"color\":\"rgb(17,17,17)\",\"width\":0.5},\"pattern\":{\"fillmode\":\"overlay\",\"size\":10,\"solidity\":0.2}},\"type\":\"bar\"}],\"scattergeo\":[{\"type\":\"scattergeo\",\"marker\":{\"colorbar\":{\"outlinewidth\":0,\"ticks\":\"\"}}}],\"scatterpolar\":[{\"type\":\"scatterpolar\",\"marker\":{\"colorbar\":{\"outlinewidth\":0,\"ticks\":\"\"}}}],\"histogram\":[{\"marker\":{\"pattern\":{\"fillmode\":\"overlay\",\"size\":10,\"solidity\":0.2}},\"type\":\"histogram\"}],\"scattergl\":[{\"marker\":{\"line\":{\"color\":\"#283442\"}},\"type\":\"scattergl\"}],\"scatter3d\":[{\"type\":\"scatter3d\",\"line\":{\"colorbar\":{\"outlinewidth\":0,\"ticks\":\"\"}},\"marker\":{\"colorbar\":{\"outlinewidth\":0,\"ticks\":\"\"}}}],\"scattermapbox\":[{\"type\":\"scattermapbox\",\"marker\":{\"colorbar\":{\"outlinewidth\":0,\"ticks\":\"\"}}}],\"scatterternary\":[{\"type\":\"scatterternary\",\"marker\":{\"colorbar\":{\"outlinewidth\":0,\"ticks\":\"\"}}}],\"scattercarpet\":[{\"type\":\"scattercarpet\",\"marker\":{\"colorbar\":{\"outlinewidth\":0,\"ticks\":\"\"}}}],\"carpet\":[{\"aaxis\":{\"endlinecolor\":\"#A2B1C6\",\"gridcolor\":\"#506784\",\"linecolor\":\"#506784\",\"minorgridcolor\":\"#506784\",\"startlinecolor\":\"#A2B1C6\"},\"baxis\":{\"endlinecolor\":\"#A2B1C6\",\"gridcolor\":\"#506784\",\"linecolor\":\"#506784\",\"minorgridcolor\":\"#506784\",\"startlinecolor\":\"#A2B1C6\"},\"type\":\"carpet\"}],\"table\":[{\"cells\":{\"fill\":{\"color\":\"#506784\"},\"line\":{\"color\":\"rgb(17,17,17)\"}},\"header\":{\"fill\":{\"color\":\"#2a3f5f\"},\"line\":{\"color\":\"rgb(17,17,17)\"}},\"type\":\"table\"}],\"barpolar\":[{\"marker\":{\"line\":{\"color\":\"rgb(17,17,17)\",\"width\":0.5},\"pattern\":{\"fillmode\":\"overlay\",\"size\":10,\"solidity\":0.2}},\"type\":\"barpolar\"}],\"pie\":[{\"automargin\":true,\"type\":\"pie\"}]},\"layout\":{\"autotypenumbers\":\"strict\",\"colorway\":[\"#636efa\",\"#EF553B\",\"#00cc96\",\"#ab63fa\",\"#FFA15A\",\"#19d3f3\",\"#FF6692\",\"#B6E880\",\"#FF97FF\",\"#FECB52\"],\"font\":{\"color\":\"#f2f5fa\"},\"hovermode\":\"closest\",\"hoverlabel\":{\"align\":\"left\"},\"paper_bgcolor\":\"rgb(17,17,17)\",\"plot_bgcolor\":\"rgb(17,17,17)\",\"polar\":{\"bgcolor\":\"rgb(17,17,17)\",\"angularaxis\":{\"gridcolor\":\"#506784\",\"linecolor\":\"#506784\",\"ticks\":\"\"},\"radialaxis\":{\"gridcolor\":\"#506784\",\"linecolor\":\"#506784\",\"ticks\":\"\"}},\"ternary\":{\"bgcolor\":\"rgb(17,17,17)\",\"aaxis\":{\"gridcolor\":\"#506784\",\"linecolor\":\"#506784\",\"ticks\":\"\"},\"baxis\":{\"gridcolor\":\"#506784\",\"linecolor\":\"#506784\",\"ticks\":\"\"},\"caxis\":{\"gridcolor\":\"#506784\",\"linecolor\":\"#506784\",\"ticks\":\"\"}},\"coloraxis\":{\"colorbar\":{\"outlinewidth\":0,\"ticks\":\"\"}},\"colorscale\":{\"sequential\":[[0.0,\"#0d0887\"],[0.1111111111111111,\"#46039f\"],[0.2222222222222222,\"#7201a8\"],[0.3333333333333333,\"#9c179e\"],[0.4444444444444444,\"#bd3786\"],[0.5555555555555556,\"#d8576b\"],[0.6666666666666666,\"#ed7953\"],[0.7777777777777778,\"#fb9f3a\"],[0.8888888888888888,\"#fdca26\"],[1.0,\"#f0f921\"]],\"sequentialminus\":[[0.0,\"#0d0887\"],[0.1111111111111111,\"#46039f\"],[0.2222222222222222,\"#7201a8\"],[0.3333333333333333,\"#9c179e\"],[0.4444444444444444,\"#bd3786\"],[0.5555555555555556,\"#d8576b\"],[0.6666666666666666,\"#ed7953\"],[0.7777777777777778,\"#fb9f3a\"],[0.8888888888888888,\"#fdca26\"],[1.0,\"#f0f921\"]],\"diverging\":[[0,\"#8e0152\"],[0.1,\"#c51b7d\"],[0.2,\"#de77ae\"],[0.3,\"#f1b6da\"],[0.4,\"#fde0ef\"],[0.5,\"#f7f7f7\"],[0.6,\"#e6f5d0\"],[0.7,\"#b8e186\"],[0.8,\"#7fbc41\"],[0.9,\"#4d9221\"],[1,\"#276419\"]]},\"xaxis\":{\"gridcolor\":\"#283442\",\"linecolor\":\"#506784\",\"ticks\":\"\",\"title\":{\"standoff\":15},\"zerolinecolor\":\"#283442\",\"automargin\":true,\"zerolinewidth\":2},\"yaxis\":{\"gridcolor\":\"#283442\",\"linecolor\":\"#506784\",\"ticks\":\"\",\"title\":{\"standoff\":15},\"zerolinecolor\":\"#283442\",\"automargin\":true,\"zerolinewidth\":2},\"scene\":{\"xaxis\":{\"backgroundcolor\":\"rgb(17,17,17)\",\"gridcolor\":\"#506784\",\"linecolor\":\"#506784\",\"showbackground\":true,\"ticks\":\"\",\"zerolinecolor\":\"#C8D4E3\",\"gridwidth\":2},\"yaxis\":{\"backgroundcolor\":\"rgb(17,17,17)\",\"gridcolor\":\"#506784\",\"linecolor\":\"#506784\",\"showbackground\":true,\"ticks\":\"\",\"zerolinecolor\":\"#C8D4E3\",\"gridwidth\":2},\"zaxis\":{\"backgroundcolor\":\"rgb(17,17,17)\",\"gridcolor\":\"#506784\",\"linecolor\":\"#506784\",\"showbackground\":true,\"ticks\":\"\",\"zerolinecolor\":\"#C8D4E3\",\"gridwidth\":2}},\"shapedefaults\":{\"line\":{\"color\":\"#f2f5fa\"}},\"annotationdefaults\":{\"arrowcolor\":\"#f2f5fa\",\"arrowhead\":0,\"arrowwidth\":1},\"geo\":{\"bgcolor\":\"rgb(17,17,17)\",\"landcolor\":\"rgb(17,17,17)\",\"subunitcolor\":\"#506784\",\"showland\":true,\"showlakes\":true,\"lakecolor\":\"rgb(17,17,17)\"},\"title\":{\"x\":0.05},\"updatemenudefaults\":{\"bgcolor\":\"#506784\",\"borderwidth\":0},\"sliderdefaults\":{\"bgcolor\":\"#C8D4E3\",\"borderwidth\":1,\"bordercolor\":\"rgb(17,17,17)\",\"tickwidth\":0},\"mapbox\":{\"style\":\"dark\"}}},\"xaxis\":{\"anchor\":\"y\",\"domain\":[0.0,0.2888888888888889]},\"yaxis\":{\"anchor\":\"x\",\"domain\":[0.848,1.0]},\"xaxis2\":{\"anchor\":\"y2\",\"domain\":[0.35555555555555557,0.6444444444444445]},\"yaxis2\":{\"anchor\":\"x2\",\"domain\":[0.848,1.0]},\"xaxis3\":{\"anchor\":\"y3\",\"domain\":[0.7111111111111111,1.0]},\"yaxis3\":{\"anchor\":\"x3\",\"domain\":[0.848,1.0]},\"xaxis4\":{\"anchor\":\"y4\",\"domain\":[0.0,0.2888888888888889]},\"yaxis4\":{\"anchor\":\"x4\",\"domain\":[0.6359999999999999,0.7879999999999999]},\"xaxis5\":{\"anchor\":\"y5\",\"domain\":[0.35555555555555557,0.6444444444444445]},\"yaxis5\":{\"anchor\":\"x5\",\"domain\":[0.6359999999999999,0.7879999999999999]},\"xaxis6\":{\"anchor\":\"y6\",\"domain\":[0.7111111111111111,1.0]},\"yaxis6\":{\"anchor\":\"x6\",\"domain\":[0.6359999999999999,0.7879999999999999]},\"xaxis7\":{\"anchor\":\"y7\",\"domain\":[0.0,0.2888888888888889]},\"yaxis7\":{\"anchor\":\"x7\",\"domain\":[0.424,0.576]},\"xaxis8\":{\"anchor\":\"y8\",\"domain\":[0.35555555555555557,0.6444444444444445]},\"yaxis8\":{\"anchor\":\"x8\",\"domain\":[0.424,0.576]},\"xaxis9\":{\"anchor\":\"y9\",\"domain\":[0.7111111111111111,1.0]},\"yaxis9\":{\"anchor\":\"x9\",\"domain\":[0.424,0.576]},\"xaxis10\":{\"anchor\":\"y10\",\"domain\":[0.0,0.2888888888888889]},\"yaxis10\":{\"anchor\":\"x10\",\"domain\":[0.212,0.364]},\"xaxis11\":{\"anchor\":\"y11\",\"domain\":[0.35555555555555557,0.6444444444444445]},\"yaxis11\":{\"anchor\":\"x11\",\"domain\":[0.212,0.364]},\"xaxis12\":{\"anchor\":\"y12\",\"domain\":[0.7111111111111111,1.0]},\"yaxis12\":{\"anchor\":\"x12\",\"domain\":[0.212,0.364]},\"xaxis13\":{\"anchor\":\"y13\",\"domain\":[0.0,0.2888888888888889]},\"yaxis13\":{\"anchor\":\"x13\",\"domain\":[0.0,0.152]},\"xaxis14\":{\"anchor\":\"y14\",\"domain\":[0.35555555555555557,0.6444444444444445]},\"yaxis14\":{\"anchor\":\"x14\",\"domain\":[0.0,0.152]},\"xaxis15\":{\"anchor\":\"y15\",\"domain\":[0.7111111111111111,1.0]},\"yaxis15\":{\"anchor\":\"x15\",\"domain\":[0.0,0.152]},\"title\":{\"text\":\"\\u042f\\u0449\\u0438\\u043a\\u043e\\u0432\\u044b\\u0435 \\u0434\\u0438\\u0430\\u0433\\u0440\\u0430\\u043c\\u043c\\u044b \\u0440\\u0430\\u0441\\u043f\\u0440\\u0435\\u0434\\u0435\\u043b\\u0435\\u043d\\u0438\\u044f \\u043f\\u0440\\u0438\\u0437\\u043d\\u0430\\u043a\\u043e\\u0432\"},\"height\":1000,\"width\":1100},                        {\"responsive\": true}                    ).then(function(){\n                            \nvar gd = document.getElementById('db26272f-8a8a-4964-bb05-8b21ee1bd360');\nvar x = new MutationObserver(function (mutations, observer) {{\n        var display = window.getComputedStyle(gd).display;\n        if (!display || display === 'none') {{\n            console.log([gd, 'removed!']);\n            Plotly.purge(gd);\n            observer.disconnect();\n        }}\n}});\n\n// Listen for the removal of the full notebook cells\nvar notebookContainer = gd.closest('#notebook-container');\nif (notebookContainer) {{\n    x.observe(notebookContainer, {childList: true});\n}}\n\n// Listen for the clearing of the current output cell\nvar outputEl = gd.closest('.output');\nif (outputEl) {{\n    x.observe(outputEl, {childList: true});\n}}\n\n                        })                };                });            </script>        </div>"
     },
     "metadata": {},
     "output_type": "display_data"
    }
   ],
   "source": [
    "combine_box_plots()"
   ],
   "metadata": {
    "collapsed": false,
    "ExecuteTime": {
     "start_time": "2023-04-13T19:52:37.232963Z",
     "end_time": "2023-04-13T19:52:38.282008Z"
    }
   }
  },
  {
   "cell_type": "code",
   "execution_count": 146,
   "outputs": [
    {
     "data": {
      "application/vnd.plotly.v1+json": {
       "data": [
        {
         "name": "y1",
         "x": [
          87211.83,
          119302.33,
          156215.0,
          173839.0,
          220396.0,
          269588.0,
          358531.0,
          456025.0,
          590162.0,
          775682.0,
          962468.0,
          742422.0,
          1163529.7,
          1388120.48,
          1584637.4,
          1781154.33,
          1977671.26,
          2174188.19,
          2370705.11,
          2567222.04,
          2763738.97,
          2960255.9,
          3839394.42,
          4868342.13,
          5306169.86
         ],
         "type": "violin",
         "xaxis": "x",
         "yaxis": "y"
        },
        {
         "name": "y2",
         "x": [
          328497.9,
          695059.8,
          1159034.0,
          1370182.8,
          1767476.7,
          2188231.5,
          2853272.4,
          4135154.6,
          5260232.8,
          6696259.1,
          8248652.0,
          7126972.4,
          8375863.8,
          9948772.8,
          1.06668705E7,
          1.18148974E7,
          1.27795257E7,
          1.35208629E7,
          1.51215342E7,
          1.65381895E7,
          1.8777726E7,
          1.97970643E7,
          1.98566745E7,
          2.183698432E7,
          2.310989986E7
         ],
         "type": "violin",
         "xaxis": "x2",
         "yaxis": "y2"
        },
        {
         "name": "y3",
         "x": [
          638450.6,
          789466.92,
          962057.0,
          1393532.2,
          1771073.0,
          2148613.8,
          2526154.6,
          3119433.0,
          3731494.0,
          4453175.0,
          4305879.0,
          5449048.0,
          6058819.0,
          6573744.0,
          6998475.0,
          7930101.0,
          8089881.0,
          8908736.67,
          9193008.3,
          9776264.78,
          1.053998459E7,
          1.151728346E7,
          1.187201463E7,
          1.347955533E7,
          1.414557035E7
         ],
         "type": "violin",
         "xaxis": "x3",
         "yaxis": "y3"
        },
        {
         "name": "x1",
         "x": [
          228548.4,
          488395.1,
          748241.8,
          1008088.5,
          1267935.2,
          1563568.7,
          2115067.5,
          3055059.5,
          3930286.9,
          4853244.4,
          5883726.5,
          6165342.47,
          6411756.44,
          6658170.41,
          6904584.38,
          7150998.36,
          7643826.3,
          7851425.6,
          8059024.9,
          8266624.2,
          8474223.5,
          8681822.8,
          8889422.1,
          9097021.4,
          9304620.7
         ],
         "type": "violin",
         "xaxis": "x4",
         "yaxis": "y4"
        },
        {
         "name": "x2",
         "x": [
          803.2,
          787.6,
          1472.8,
          1154.6,
          1508.7,
          2482.9,
          1857.2,
          2060.4,
          4530.7,
          15656.0,
          8611.9,
          5657.4,
          3793.5,
          159868.0,
          82607.0,
          108107.0,
          77801.0,
          66718.0,
          65314.0,
          85326.0,
          69873.0,
          93903.0,
          126244.0,
          103800.0,
          115425.0
         ],
         "type": "violin",
         "xaxis": "x5",
         "yaxis": "y5"
        },
        {
         "name": "x3",
         "x": [
          5780.87,
          5823.01,
          5865.15,
          5907.28,
          5961.24,
          5998.11,
          6037.02,
          6062.09,
          6095.18,
          6174.73,
          6217.91,
          6358.64,
          6499.37,
          6536.44,
          6563.44,
          6561.49,
          6552.78,
          6584.08,
          6591.91,
          6595.56,
          6599.21,
          6602.86,
          6606.51,
          6610.17,
          6613.82
         ],
         "type": "violin",
         "xaxis": "x6",
         "yaxis": "y6"
        },
        {
         "name": "x4",
         "x": [
          1212184.0,
          1272744.0,
          1444737.0,
          1841258.0,
          2255912.0,
          3297504.0,
          3905553.0,
          5346984.0,
          6142520.0,
          9506888.0,
          1.4877108E7,
          1.5356818E7,
          1.7905142E7,
          2.0169118E7,
          2.3445895E7,
          2.6546945E7,
          2.889041E7,
          3.0078E7,
          3.6338093E7,
          3.6604923E7,
          4.0602319E7,
          6.1757746E7,
          6.6739526E7,
          7.1721306E7,
          7.6703086E7
         ],
         "type": "violin",
         "xaxis": "x7",
         "yaxis": "y7"
        },
        {
         "name": "x5",
         "x": [
          33.8,
          35.2,
          32.4,
          30.4,
          35.1,
          33.0,
          36.4,
          39.8,
          47.0,
          38.4,
          36.1,
          35.9,
          42.0,
          42.4,
          43.0,
          44.6,
          46.7,
          42.4,
          41.9,
          47.3,
          46.6,
          37.8,
          39.0,
          40.5,
          42.0
         ],
         "type": "violin",
         "xaxis": "x8",
         "yaxis": "y8"
        },
        {
         "name": "x6",
         "x": [
          83359.41,
          87820.24,
          92700.8,
          98088.36,
          104100.59,
          110901.59,
          118730.03,
          127952.55,
          139175.58,
          153514.47,
          173393.63,
          206021.48,
          194439.24,
          219277.24,
          245646.11,
          264751.71,
          298248.97,
          322785.1,
          330199.1,
          358214.8,
          350894.2,
          398462.4,
          427329.34,
          460696.31,
          494063.29
         ],
         "type": "violin",
         "xaxis": "x9",
         "yaxis": "y9"
        },
        {
         "name": "x7",
         "x": [
          25719.2,
          25262.15,
          25720.2,
          24905.88,
          25084.01,
          25262.15,
          24702.3,
          28811.0,
          37211.5,
          50567.9,
          43904.4,
          64746.77,
          64543.19,
          158892.58,
          494532.21,
          686704.6,
          552039.1,
          851583.36,
          910869.11,
          248998.8,
          283544.61,
          565805.88,
          626603.39,
          795297.0,
          963990.61
         ],
         "type": "violin",
         "xaxis": "x10",
         "yaxis": "y10"
        },
        {
         "name": "x8",
         "x": [
          6171.0,
          7260.0,
          8067.0,
          5545.0,
          6932.0,
          8376.0,
          9347.0,
          9940.0,
          12515.0,
          124800.0,
          174200.0,
          113200.0,
          143800.0,
          188000.0,
          199800.0,
          228300.0,
          229030.0,
          149110.0,
          118194.6,
          148623.4,
          197017.5,
          184295.2,
          135211.0,
          205600.0,
          295500.0
         ],
         "type": "violin",
         "xaxis": "x11",
         "yaxis": "y11"
        },
        {
         "name": "x9",
         "x": [
          6642.0,
          7814.0,
          9194.0,
          12637.0,
          13817.0,
          17785.0,
          23988.0,
          32088.0,
          47106.0,
          84400.0,
          115500.0,
          70900.0,
          91000.0,
          117100.0,
          123100.0,
          135100.0,
          125900.0,
          78600.0,
          76229.7,
          98641.4,
          103426.8,
          107348.1,
          102899.2,
          129000.0,
          133000.0
         ],
         "type": "violin",
         "xaxis": "x12",
         "yaxis": "y12"
        },
        {
         "name": "x10",
         "x": [
          111458.0,
          185861.0,
          309534.0,
          418289.0,
          589139.0,
          879313.0,
          1352790.0,
          2181920.0,
          3101710.0,
          4236780.0,
          4980090.0,
          6293522.0,
          8319415.0,
          1.0151635E7,
          1.1994894E7,
          1.4385851E7,
          1.6000367E7,
          2.0162741E7,
          2.0909815E7,
          2.2718576E7,
          2.2271453E7,
          2.658052E7,
          3.0364225E7,
          3.7955281E7,
          4.2471959E7
         ],
         "type": "violin",
         "xaxis": "x13",
         "yaxis": "y13"
        },
        {
         "name": "x11",
         "x": [
          1393.3,
          1807.8,
          2185.0,
          2385.26,
          2918.55,
          3208.02,
          3703.57,
          4171.8,
          5121.0,
          5855.0,
          6648.0,
          7406.0,
          8656.0,
          9128.0,
          9747.0,
          10965.0,
          12542.0,
          14413.0,
          15092.0,
          15397.0,
          16087.0,
          16843.0,
          17841.0,
          18029.0,
          18714.0
         ],
         "type": "violin",
         "xaxis": "x14",
         "yaxis": "y14"
        }
       ],
       "layout": {
        "template": {
         "data": {
          "histogram2dcontour": [
           {
            "type": "histogram2dcontour",
            "colorbar": {
             "outlinewidth": 0,
             "ticks": ""
            },
            "colorscale": [
             [
              0.0,
              "#0d0887"
             ],
             [
              0.1111111111111111,
              "#46039f"
             ],
             [
              0.2222222222222222,
              "#7201a8"
             ],
             [
              0.3333333333333333,
              "#9c179e"
             ],
             [
              0.4444444444444444,
              "#bd3786"
             ],
             [
              0.5555555555555556,
              "#d8576b"
             ],
             [
              0.6666666666666666,
              "#ed7953"
             ],
             [
              0.7777777777777778,
              "#fb9f3a"
             ],
             [
              0.8888888888888888,
              "#fdca26"
             ],
             [
              1.0,
              "#f0f921"
             ]
            ]
           }
          ],
          "choropleth": [
           {
            "type": "choropleth",
            "colorbar": {
             "outlinewidth": 0,
             "ticks": ""
            }
           }
          ],
          "histogram2d": [
           {
            "type": "histogram2d",
            "colorbar": {
             "outlinewidth": 0,
             "ticks": ""
            },
            "colorscale": [
             [
              0.0,
              "#0d0887"
             ],
             [
              0.1111111111111111,
              "#46039f"
             ],
             [
              0.2222222222222222,
              "#7201a8"
             ],
             [
              0.3333333333333333,
              "#9c179e"
             ],
             [
              0.4444444444444444,
              "#bd3786"
             ],
             [
              0.5555555555555556,
              "#d8576b"
             ],
             [
              0.6666666666666666,
              "#ed7953"
             ],
             [
              0.7777777777777778,
              "#fb9f3a"
             ],
             [
              0.8888888888888888,
              "#fdca26"
             ],
             [
              1.0,
              "#f0f921"
             ]
            ]
           }
          ],
          "heatmap": [
           {
            "type": "heatmap",
            "colorbar": {
             "outlinewidth": 0,
             "ticks": ""
            },
            "colorscale": [
             [
              0.0,
              "#0d0887"
             ],
             [
              0.1111111111111111,
              "#46039f"
             ],
             [
              0.2222222222222222,
              "#7201a8"
             ],
             [
              0.3333333333333333,
              "#9c179e"
             ],
             [
              0.4444444444444444,
              "#bd3786"
             ],
             [
              0.5555555555555556,
              "#d8576b"
             ],
             [
              0.6666666666666666,
              "#ed7953"
             ],
             [
              0.7777777777777778,
              "#fb9f3a"
             ],
             [
              0.8888888888888888,
              "#fdca26"
             ],
             [
              1.0,
              "#f0f921"
             ]
            ]
           }
          ],
          "heatmapgl": [
           {
            "type": "heatmapgl",
            "colorbar": {
             "outlinewidth": 0,
             "ticks": ""
            },
            "colorscale": [
             [
              0.0,
              "#0d0887"
             ],
             [
              0.1111111111111111,
              "#46039f"
             ],
             [
              0.2222222222222222,
              "#7201a8"
             ],
             [
              0.3333333333333333,
              "#9c179e"
             ],
             [
              0.4444444444444444,
              "#bd3786"
             ],
             [
              0.5555555555555556,
              "#d8576b"
             ],
             [
              0.6666666666666666,
              "#ed7953"
             ],
             [
              0.7777777777777778,
              "#fb9f3a"
             ],
             [
              0.8888888888888888,
              "#fdca26"
             ],
             [
              1.0,
              "#f0f921"
             ]
            ]
           }
          ],
          "contourcarpet": [
           {
            "type": "contourcarpet",
            "colorbar": {
             "outlinewidth": 0,
             "ticks": ""
            }
           }
          ],
          "contour": [
           {
            "type": "contour",
            "colorbar": {
             "outlinewidth": 0,
             "ticks": ""
            },
            "colorscale": [
             [
              0.0,
              "#0d0887"
             ],
             [
              0.1111111111111111,
              "#46039f"
             ],
             [
              0.2222222222222222,
              "#7201a8"
             ],
             [
              0.3333333333333333,
              "#9c179e"
             ],
             [
              0.4444444444444444,
              "#bd3786"
             ],
             [
              0.5555555555555556,
              "#d8576b"
             ],
             [
              0.6666666666666666,
              "#ed7953"
             ],
             [
              0.7777777777777778,
              "#fb9f3a"
             ],
             [
              0.8888888888888888,
              "#fdca26"
             ],
             [
              1.0,
              "#f0f921"
             ]
            ]
           }
          ],
          "surface": [
           {
            "type": "surface",
            "colorbar": {
             "outlinewidth": 0,
             "ticks": ""
            },
            "colorscale": [
             [
              0.0,
              "#0d0887"
             ],
             [
              0.1111111111111111,
              "#46039f"
             ],
             [
              0.2222222222222222,
              "#7201a8"
             ],
             [
              0.3333333333333333,
              "#9c179e"
             ],
             [
              0.4444444444444444,
              "#bd3786"
             ],
             [
              0.5555555555555556,
              "#d8576b"
             ],
             [
              0.6666666666666666,
              "#ed7953"
             ],
             [
              0.7777777777777778,
              "#fb9f3a"
             ],
             [
              0.8888888888888888,
              "#fdca26"
             ],
             [
              1.0,
              "#f0f921"
             ]
            ]
           }
          ],
          "mesh3d": [
           {
            "type": "mesh3d",
            "colorbar": {
             "outlinewidth": 0,
             "ticks": ""
            }
           }
          ],
          "scatter": [
           {
            "marker": {
             "line": {
              "color": "#283442"
             }
            },
            "type": "scatter"
           }
          ],
          "parcoords": [
           {
            "type": "parcoords",
            "line": {
             "colorbar": {
              "outlinewidth": 0,
              "ticks": ""
             }
            }
           }
          ],
          "scatterpolargl": [
           {
            "type": "scatterpolargl",
            "marker": {
             "colorbar": {
              "outlinewidth": 0,
              "ticks": ""
             }
            }
           }
          ],
          "bar": [
           {
            "error_x": {
             "color": "#f2f5fa"
            },
            "error_y": {
             "color": "#f2f5fa"
            },
            "marker": {
             "line": {
              "color": "rgb(17,17,17)",
              "width": 0.5
             },
             "pattern": {
              "fillmode": "overlay",
              "size": 10,
              "solidity": 0.2
             }
            },
            "type": "bar"
           }
          ],
          "scattergeo": [
           {
            "type": "scattergeo",
            "marker": {
             "colorbar": {
              "outlinewidth": 0,
              "ticks": ""
             }
            }
           }
          ],
          "scatterpolar": [
           {
            "type": "scatterpolar",
            "marker": {
             "colorbar": {
              "outlinewidth": 0,
              "ticks": ""
             }
            }
           }
          ],
          "histogram": [
           {
            "marker": {
             "pattern": {
              "fillmode": "overlay",
              "size": 10,
              "solidity": 0.2
             }
            },
            "type": "histogram"
           }
          ],
          "scattergl": [
           {
            "marker": {
             "line": {
              "color": "#283442"
             }
            },
            "type": "scattergl"
           }
          ],
          "scatter3d": [
           {
            "type": "scatter3d",
            "line": {
             "colorbar": {
              "outlinewidth": 0,
              "ticks": ""
             }
            },
            "marker": {
             "colorbar": {
              "outlinewidth": 0,
              "ticks": ""
             }
            }
           }
          ],
          "scattermapbox": [
           {
            "type": "scattermapbox",
            "marker": {
             "colorbar": {
              "outlinewidth": 0,
              "ticks": ""
             }
            }
           }
          ],
          "scatterternary": [
           {
            "type": "scatterternary",
            "marker": {
             "colorbar": {
              "outlinewidth": 0,
              "ticks": ""
             }
            }
           }
          ],
          "scattercarpet": [
           {
            "type": "scattercarpet",
            "marker": {
             "colorbar": {
              "outlinewidth": 0,
              "ticks": ""
             }
            }
           }
          ],
          "carpet": [
           {
            "aaxis": {
             "endlinecolor": "#A2B1C6",
             "gridcolor": "#506784",
             "linecolor": "#506784",
             "minorgridcolor": "#506784",
             "startlinecolor": "#A2B1C6"
            },
            "baxis": {
             "endlinecolor": "#A2B1C6",
             "gridcolor": "#506784",
             "linecolor": "#506784",
             "minorgridcolor": "#506784",
             "startlinecolor": "#A2B1C6"
            },
            "type": "carpet"
           }
          ],
          "table": [
           {
            "cells": {
             "fill": {
              "color": "#506784"
             },
             "line": {
              "color": "rgb(17,17,17)"
             }
            },
            "header": {
             "fill": {
              "color": "#2a3f5f"
             },
             "line": {
              "color": "rgb(17,17,17)"
             }
            },
            "type": "table"
           }
          ],
          "barpolar": [
           {
            "marker": {
             "line": {
              "color": "rgb(17,17,17)",
              "width": 0.5
             },
             "pattern": {
              "fillmode": "overlay",
              "size": 10,
              "solidity": 0.2
             }
            },
            "type": "barpolar"
           }
          ],
          "pie": [
           {
            "automargin": true,
            "type": "pie"
           }
          ]
         },
         "layout": {
          "autotypenumbers": "strict",
          "colorway": [
           "#636efa",
           "#EF553B",
           "#00cc96",
           "#ab63fa",
           "#FFA15A",
           "#19d3f3",
           "#FF6692",
           "#B6E880",
           "#FF97FF",
           "#FECB52"
          ],
          "font": {
           "color": "#f2f5fa"
          },
          "hovermode": "closest",
          "hoverlabel": {
           "align": "left"
          },
          "paper_bgcolor": "rgb(17,17,17)",
          "plot_bgcolor": "rgb(17,17,17)",
          "polar": {
           "bgcolor": "rgb(17,17,17)",
           "angularaxis": {
            "gridcolor": "#506784",
            "linecolor": "#506784",
            "ticks": ""
           },
           "radialaxis": {
            "gridcolor": "#506784",
            "linecolor": "#506784",
            "ticks": ""
           }
          },
          "ternary": {
           "bgcolor": "rgb(17,17,17)",
           "aaxis": {
            "gridcolor": "#506784",
            "linecolor": "#506784",
            "ticks": ""
           },
           "baxis": {
            "gridcolor": "#506784",
            "linecolor": "#506784",
            "ticks": ""
           },
           "caxis": {
            "gridcolor": "#506784",
            "linecolor": "#506784",
            "ticks": ""
           }
          },
          "coloraxis": {
           "colorbar": {
            "outlinewidth": 0,
            "ticks": ""
           }
          },
          "colorscale": {
           "sequential": [
            [
             0.0,
             "#0d0887"
            ],
            [
             0.1111111111111111,
             "#46039f"
            ],
            [
             0.2222222222222222,
             "#7201a8"
            ],
            [
             0.3333333333333333,
             "#9c179e"
            ],
            [
             0.4444444444444444,
             "#bd3786"
            ],
            [
             0.5555555555555556,
             "#d8576b"
            ],
            [
             0.6666666666666666,
             "#ed7953"
            ],
            [
             0.7777777777777778,
             "#fb9f3a"
            ],
            [
             0.8888888888888888,
             "#fdca26"
            ],
            [
             1.0,
             "#f0f921"
            ]
           ],
           "sequentialminus": [
            [
             0.0,
             "#0d0887"
            ],
            [
             0.1111111111111111,
             "#46039f"
            ],
            [
             0.2222222222222222,
             "#7201a8"
            ],
            [
             0.3333333333333333,
             "#9c179e"
            ],
            [
             0.4444444444444444,
             "#bd3786"
            ],
            [
             0.5555555555555556,
             "#d8576b"
            ],
            [
             0.6666666666666666,
             "#ed7953"
            ],
            [
             0.7777777777777778,
             "#fb9f3a"
            ],
            [
             0.8888888888888888,
             "#fdca26"
            ],
            [
             1.0,
             "#f0f921"
            ]
           ],
           "diverging": [
            [
             0,
             "#8e0152"
            ],
            [
             0.1,
             "#c51b7d"
            ],
            [
             0.2,
             "#de77ae"
            ],
            [
             0.3,
             "#f1b6da"
            ],
            [
             0.4,
             "#fde0ef"
            ],
            [
             0.5,
             "#f7f7f7"
            ],
            [
             0.6,
             "#e6f5d0"
            ],
            [
             0.7,
             "#b8e186"
            ],
            [
             0.8,
             "#7fbc41"
            ],
            [
             0.9,
             "#4d9221"
            ],
            [
             1,
             "#276419"
            ]
           ]
          },
          "xaxis": {
           "gridcolor": "#283442",
           "linecolor": "#506784",
           "ticks": "",
           "title": {
            "standoff": 15
           },
           "zerolinecolor": "#283442",
           "automargin": true,
           "zerolinewidth": 2
          },
          "yaxis": {
           "gridcolor": "#283442",
           "linecolor": "#506784",
           "ticks": "",
           "title": {
            "standoff": 15
           },
           "zerolinecolor": "#283442",
           "automargin": true,
           "zerolinewidth": 2
          },
          "scene": {
           "xaxis": {
            "backgroundcolor": "rgb(17,17,17)",
            "gridcolor": "#506784",
            "linecolor": "#506784",
            "showbackground": true,
            "ticks": "",
            "zerolinecolor": "#C8D4E3",
            "gridwidth": 2
           },
           "yaxis": {
            "backgroundcolor": "rgb(17,17,17)",
            "gridcolor": "#506784",
            "linecolor": "#506784",
            "showbackground": true,
            "ticks": "",
            "zerolinecolor": "#C8D4E3",
            "gridwidth": 2
           },
           "zaxis": {
            "backgroundcolor": "rgb(17,17,17)",
            "gridcolor": "#506784",
            "linecolor": "#506784",
            "showbackground": true,
            "ticks": "",
            "zerolinecolor": "#C8D4E3",
            "gridwidth": 2
           }
          },
          "shapedefaults": {
           "line": {
            "color": "#f2f5fa"
           }
          },
          "annotationdefaults": {
           "arrowcolor": "#f2f5fa",
           "arrowhead": 0,
           "arrowwidth": 1
          },
          "geo": {
           "bgcolor": "rgb(17,17,17)",
           "landcolor": "rgb(17,17,17)",
           "subunitcolor": "#506784",
           "showland": true,
           "showlakes": true,
           "lakecolor": "rgb(17,17,17)"
          },
          "title": {
           "x": 0.05
          },
          "updatemenudefaults": {
           "bgcolor": "#506784",
           "borderwidth": 0
          },
          "sliderdefaults": {
           "bgcolor": "#C8D4E3",
           "borderwidth": 1,
           "bordercolor": "rgb(17,17,17)",
           "tickwidth": 0
          },
          "mapbox": {
           "style": "dark"
          }
         }
        },
        "xaxis": {
         "anchor": "y",
         "domain": [
          0.0,
          0.2888888888888889
         ]
        },
        "yaxis": {
         "anchor": "x",
         "domain": [
          0.848,
          1.0
         ]
        },
        "xaxis2": {
         "anchor": "y2",
         "domain": [
          0.35555555555555557,
          0.6444444444444445
         ]
        },
        "yaxis2": {
         "anchor": "x2",
         "domain": [
          0.848,
          1.0
         ]
        },
        "xaxis3": {
         "anchor": "y3",
         "domain": [
          0.7111111111111111,
          1.0
         ]
        },
        "yaxis3": {
         "anchor": "x3",
         "domain": [
          0.848,
          1.0
         ]
        },
        "xaxis4": {
         "anchor": "y4",
         "domain": [
          0.0,
          0.2888888888888889
         ]
        },
        "yaxis4": {
         "anchor": "x4",
         "domain": [
          0.6359999999999999,
          0.7879999999999999
         ]
        },
        "xaxis5": {
         "anchor": "y5",
         "domain": [
          0.35555555555555557,
          0.6444444444444445
         ]
        },
        "yaxis5": {
         "anchor": "x5",
         "domain": [
          0.6359999999999999,
          0.7879999999999999
         ]
        },
        "xaxis6": {
         "anchor": "y6",
         "domain": [
          0.7111111111111111,
          1.0
         ]
        },
        "yaxis6": {
         "anchor": "x6",
         "domain": [
          0.6359999999999999,
          0.7879999999999999
         ]
        },
        "xaxis7": {
         "anchor": "y7",
         "domain": [
          0.0,
          0.2888888888888889
         ]
        },
        "yaxis7": {
         "anchor": "x7",
         "domain": [
          0.424,
          0.576
         ]
        },
        "xaxis8": {
         "anchor": "y8",
         "domain": [
          0.35555555555555557,
          0.6444444444444445
         ]
        },
        "yaxis8": {
         "anchor": "x8",
         "domain": [
          0.424,
          0.576
         ]
        },
        "xaxis9": {
         "anchor": "y9",
         "domain": [
          0.7111111111111111,
          1.0
         ]
        },
        "yaxis9": {
         "anchor": "x9",
         "domain": [
          0.424,
          0.576
         ]
        },
        "xaxis10": {
         "anchor": "y10",
         "domain": [
          0.0,
          0.2888888888888889
         ]
        },
        "yaxis10": {
         "anchor": "x10",
         "domain": [
          0.212,
          0.364
         ]
        },
        "xaxis11": {
         "anchor": "y11",
         "domain": [
          0.35555555555555557,
          0.6444444444444445
         ]
        },
        "yaxis11": {
         "anchor": "x11",
         "domain": [
          0.212,
          0.364
         ]
        },
        "xaxis12": {
         "anchor": "y12",
         "domain": [
          0.7111111111111111,
          1.0
         ]
        },
        "yaxis12": {
         "anchor": "x12",
         "domain": [
          0.212,
          0.364
         ]
        },
        "xaxis13": {
         "anchor": "y13",
         "domain": [
          0.0,
          0.2888888888888889
         ]
        },
        "yaxis13": {
         "anchor": "x13",
         "domain": [
          0.0,
          0.152
         ]
        },
        "xaxis14": {
         "anchor": "y14",
         "domain": [
          0.35555555555555557,
          0.6444444444444445
         ]
        },
        "yaxis14": {
         "anchor": "x14",
         "domain": [
          0.0,
          0.152
         ]
        },
        "xaxis15": {
         "anchor": "y15",
         "domain": [
          0.7111111111111111,
          1.0
         ]
        },
        "yaxis15": {
         "anchor": "x15",
         "domain": [
          0.0,
          0.152
         ]
        },
        "title": {
         "text": "Распределение признаков"
        },
        "height": 1500,
        "width": 1100
       },
       "config": {
        "plotlyServerURL": "https://plot.ly"
       }
      },
      "text/html": "<div>                            <div id=\"51b890c4-5c82-4a6c-add8-a7bcb8a2018d\" class=\"plotly-graph-div\" style=\"height:1500px; width:1100px;\"></div>            <script type=\"text/javascript\">                require([\"plotly\"], function(Plotly) {                    window.PLOTLYENV=window.PLOTLYENV || {};                                    if (document.getElementById(\"51b890c4-5c82-4a6c-add8-a7bcb8a2018d\")) {                    Plotly.newPlot(                        \"51b890c4-5c82-4a6c-add8-a7bcb8a2018d\",                        [{\"name\":\"y1\",\"x\":[87211.83,119302.33,156215.0,173839.0,220396.0,269588.0,358531.0,456025.0,590162.0,775682.0,962468.0,742422.0,1163529.7,1388120.48,1584637.4,1781154.33,1977671.26,2174188.19,2370705.11,2567222.04,2763738.97,2960255.9,3839394.42,4868342.13,5306169.86],\"type\":\"violin\",\"xaxis\":\"x\",\"yaxis\":\"y\"},{\"name\":\"y2\",\"x\":[328497.9,695059.8,1159034.0,1370182.8,1767476.7,2188231.5,2853272.4,4135154.6,5260232.8,6696259.1,8248652.0,7126972.4,8375863.8,9948772.8,10666870.5,11814897.4,12779525.7,13520862.9,15121534.2,16538189.5,18777726.0,19797064.3,19856674.5,21836984.32,23109899.86],\"type\":\"violin\",\"xaxis\":\"x2\",\"yaxis\":\"y2\"},{\"name\":\"y3\",\"x\":[638450.6,789466.92,962057.0,1393532.2,1771073.0,2148613.8,2526154.6,3119433.0,3731494.0,4453175.0,4305879.0,5449048.0,6058819.0,6573744.0,6998475.0,7930101.0,8089881.0,8908736.67,9193008.3,9776264.78,10539984.59,11517283.46,11872014.63,13479555.33,14145570.35],\"type\":\"violin\",\"xaxis\":\"x3\",\"yaxis\":\"y3\"},{\"name\":\"x1\",\"x\":[228548.4,488395.1,748241.8,1008088.5,1267935.2,1563568.7,2115067.5,3055059.5,3930286.9,4853244.4,5883726.5,6165342.47,6411756.44,6658170.41,6904584.38,7150998.36,7643826.3,7851425.6,8059024.9,8266624.2,8474223.5,8681822.8,8889422.1,9097021.4,9304620.7],\"type\":\"violin\",\"xaxis\":\"x4\",\"yaxis\":\"y4\"},{\"name\":\"x2\",\"x\":[803.2,787.6,1472.8,1154.6,1508.7,2482.9,1857.2,2060.4,4530.7,15656.0,8611.9,5657.4,3793.5,159868.0,82607.0,108107.0,77801.0,66718.0,65314.0,85326.0,69873.0,93903.0,126244.0,103800.0,115425.0],\"type\":\"violin\",\"xaxis\":\"x5\",\"yaxis\":\"y5\"},{\"name\":\"x3\",\"x\":[5780.87,5823.01,5865.15,5907.28,5961.24,5998.11,6037.02,6062.09,6095.18,6174.73,6217.91,6358.64,6499.37,6536.44,6563.44,6561.49,6552.78,6584.08,6591.91,6595.56,6599.21,6602.86,6606.51,6610.17,6613.82],\"type\":\"violin\",\"xaxis\":\"x6\",\"yaxis\":\"y6\"},{\"name\":\"x4\",\"x\":[1212184.0,1272744.0,1444737.0,1841258.0,2255912.0,3297504.0,3905553.0,5346984.0,6142520.0,9506888.0,14877108.0,15356818.0,17905142.0,20169118.0,23445895.0,26546945.0,28890410.0,30078000.0,36338093.0,36604923.0,40602319.0,61757746.0,66739526.0,71721306.0,76703086.0],\"type\":\"violin\",\"xaxis\":\"x7\",\"yaxis\":\"y7\"},{\"name\":\"x5\",\"x\":[33.8,35.2,32.4,30.4,35.1,33.0,36.4,39.8,47.0,38.4,36.1,35.9,42.0,42.4,43.0,44.6,46.7,42.4,41.9,47.3,46.6,37.8,39.0,40.5,42.0],\"type\":\"violin\",\"xaxis\":\"x8\",\"yaxis\":\"y8\"},{\"name\":\"x6\",\"x\":[83359.41,87820.24,92700.8,98088.36,104100.59,110901.59,118730.03,127952.55,139175.58,153514.47,173393.63,206021.48,194439.24,219277.24,245646.11,264751.71,298248.97,322785.1,330199.1,358214.8,350894.2,398462.4,427329.34,460696.31,494063.29],\"type\":\"violin\",\"xaxis\":\"x9\",\"yaxis\":\"y9\"},{\"name\":\"x7\",\"x\":[25719.2,25262.15,25720.2,24905.88,25084.01,25262.15,24702.3,28811.0,37211.5,50567.9,43904.4,64746.77,64543.19,158892.58,494532.21,686704.6,552039.1,851583.36,910869.11,248998.8,283544.61,565805.88,626603.39,795297.0,963990.61],\"type\":\"violin\",\"xaxis\":\"x10\",\"yaxis\":\"y10\"},{\"name\":\"x8\",\"x\":[6171.0,7260.0,8067.0,5545.0,6932.0,8376.0,9347.0,9940.0,12515.0,124800.0,174200.0,113200.0,143800.0,188000.0,199800.0,228300.0,229030.0,149110.0,118194.6,148623.4,197017.5,184295.2,135211.0,205600.0,295500.0],\"type\":\"violin\",\"xaxis\":\"x11\",\"yaxis\":\"y11\"},{\"name\":\"x9\",\"x\":[6642.0,7814.0,9194.0,12637.0,13817.0,17785.0,23988.0,32088.0,47106.0,84400.0,115500.0,70900.0,91000.0,117100.0,123100.0,135100.0,125900.0,78600.0,76229.7,98641.4,103426.8,107348.1,102899.2,129000.0,133000.0],\"type\":\"violin\",\"xaxis\":\"x12\",\"yaxis\":\"y12\"},{\"name\":\"x10\",\"x\":[111458.0,185861.0,309534.0,418289.0,589139.0,879313.0,1352790.0,2181920.0,3101710.0,4236780.0,4980090.0,6293522.0,8319415.0,10151635.0,11994894.0,14385851.0,16000367.0,20162741.0,20909815.0,22718576.0,22271453.0,26580520.0,30364225.0,37955281.0,42471959.0],\"type\":\"violin\",\"xaxis\":\"x13\",\"yaxis\":\"y13\"},{\"name\":\"x11\",\"x\":[1393.3,1807.8,2185.0,2385.26,2918.55,3208.02,3703.57,4171.8,5121.0,5855.0,6648.0,7406.0,8656.0,9128.0,9747.0,10965.0,12542.0,14413.0,15092.0,15397.0,16087.0,16843.0,17841.0,18029.0,18714.0],\"type\":\"violin\",\"xaxis\":\"x14\",\"yaxis\":\"y14\"}],                        {\"template\":{\"data\":{\"histogram2dcontour\":[{\"type\":\"histogram2dcontour\",\"colorbar\":{\"outlinewidth\":0,\"ticks\":\"\"},\"colorscale\":[[0.0,\"#0d0887\"],[0.1111111111111111,\"#46039f\"],[0.2222222222222222,\"#7201a8\"],[0.3333333333333333,\"#9c179e\"],[0.4444444444444444,\"#bd3786\"],[0.5555555555555556,\"#d8576b\"],[0.6666666666666666,\"#ed7953\"],[0.7777777777777778,\"#fb9f3a\"],[0.8888888888888888,\"#fdca26\"],[1.0,\"#f0f921\"]]}],\"choropleth\":[{\"type\":\"choropleth\",\"colorbar\":{\"outlinewidth\":0,\"ticks\":\"\"}}],\"histogram2d\":[{\"type\":\"histogram2d\",\"colorbar\":{\"outlinewidth\":0,\"ticks\":\"\"},\"colorscale\":[[0.0,\"#0d0887\"],[0.1111111111111111,\"#46039f\"],[0.2222222222222222,\"#7201a8\"],[0.3333333333333333,\"#9c179e\"],[0.4444444444444444,\"#bd3786\"],[0.5555555555555556,\"#d8576b\"],[0.6666666666666666,\"#ed7953\"],[0.7777777777777778,\"#fb9f3a\"],[0.8888888888888888,\"#fdca26\"],[1.0,\"#f0f921\"]]}],\"heatmap\":[{\"type\":\"heatmap\",\"colorbar\":{\"outlinewidth\":0,\"ticks\":\"\"},\"colorscale\":[[0.0,\"#0d0887\"],[0.1111111111111111,\"#46039f\"],[0.2222222222222222,\"#7201a8\"],[0.3333333333333333,\"#9c179e\"],[0.4444444444444444,\"#bd3786\"],[0.5555555555555556,\"#d8576b\"],[0.6666666666666666,\"#ed7953\"],[0.7777777777777778,\"#fb9f3a\"],[0.8888888888888888,\"#fdca26\"],[1.0,\"#f0f921\"]]}],\"heatmapgl\":[{\"type\":\"heatmapgl\",\"colorbar\":{\"outlinewidth\":0,\"ticks\":\"\"},\"colorscale\":[[0.0,\"#0d0887\"],[0.1111111111111111,\"#46039f\"],[0.2222222222222222,\"#7201a8\"],[0.3333333333333333,\"#9c179e\"],[0.4444444444444444,\"#bd3786\"],[0.5555555555555556,\"#d8576b\"],[0.6666666666666666,\"#ed7953\"],[0.7777777777777778,\"#fb9f3a\"],[0.8888888888888888,\"#fdca26\"],[1.0,\"#f0f921\"]]}],\"contourcarpet\":[{\"type\":\"contourcarpet\",\"colorbar\":{\"outlinewidth\":0,\"ticks\":\"\"}}],\"contour\":[{\"type\":\"contour\",\"colorbar\":{\"outlinewidth\":0,\"ticks\":\"\"},\"colorscale\":[[0.0,\"#0d0887\"],[0.1111111111111111,\"#46039f\"],[0.2222222222222222,\"#7201a8\"],[0.3333333333333333,\"#9c179e\"],[0.4444444444444444,\"#bd3786\"],[0.5555555555555556,\"#d8576b\"],[0.6666666666666666,\"#ed7953\"],[0.7777777777777778,\"#fb9f3a\"],[0.8888888888888888,\"#fdca26\"],[1.0,\"#f0f921\"]]}],\"surface\":[{\"type\":\"surface\",\"colorbar\":{\"outlinewidth\":0,\"ticks\":\"\"},\"colorscale\":[[0.0,\"#0d0887\"],[0.1111111111111111,\"#46039f\"],[0.2222222222222222,\"#7201a8\"],[0.3333333333333333,\"#9c179e\"],[0.4444444444444444,\"#bd3786\"],[0.5555555555555556,\"#d8576b\"],[0.6666666666666666,\"#ed7953\"],[0.7777777777777778,\"#fb9f3a\"],[0.8888888888888888,\"#fdca26\"],[1.0,\"#f0f921\"]]}],\"mesh3d\":[{\"type\":\"mesh3d\",\"colorbar\":{\"outlinewidth\":0,\"ticks\":\"\"}}],\"scatter\":[{\"marker\":{\"line\":{\"color\":\"#283442\"}},\"type\":\"scatter\"}],\"parcoords\":[{\"type\":\"parcoords\",\"line\":{\"colorbar\":{\"outlinewidth\":0,\"ticks\":\"\"}}}],\"scatterpolargl\":[{\"type\":\"scatterpolargl\",\"marker\":{\"colorbar\":{\"outlinewidth\":0,\"ticks\":\"\"}}}],\"bar\":[{\"error_x\":{\"color\":\"#f2f5fa\"},\"error_y\":{\"color\":\"#f2f5fa\"},\"marker\":{\"line\":{\"color\":\"rgb(17,17,17)\",\"width\":0.5},\"pattern\":{\"fillmode\":\"overlay\",\"size\":10,\"solidity\":0.2}},\"type\":\"bar\"}],\"scattergeo\":[{\"type\":\"scattergeo\",\"marker\":{\"colorbar\":{\"outlinewidth\":0,\"ticks\":\"\"}}}],\"scatterpolar\":[{\"type\":\"scatterpolar\",\"marker\":{\"colorbar\":{\"outlinewidth\":0,\"ticks\":\"\"}}}],\"histogram\":[{\"marker\":{\"pattern\":{\"fillmode\":\"overlay\",\"size\":10,\"solidity\":0.2}},\"type\":\"histogram\"}],\"scattergl\":[{\"marker\":{\"line\":{\"color\":\"#283442\"}},\"type\":\"scattergl\"}],\"scatter3d\":[{\"type\":\"scatter3d\",\"line\":{\"colorbar\":{\"outlinewidth\":0,\"ticks\":\"\"}},\"marker\":{\"colorbar\":{\"outlinewidth\":0,\"ticks\":\"\"}}}],\"scattermapbox\":[{\"type\":\"scattermapbox\",\"marker\":{\"colorbar\":{\"outlinewidth\":0,\"ticks\":\"\"}}}],\"scatterternary\":[{\"type\":\"scatterternary\",\"marker\":{\"colorbar\":{\"outlinewidth\":0,\"ticks\":\"\"}}}],\"scattercarpet\":[{\"type\":\"scattercarpet\",\"marker\":{\"colorbar\":{\"outlinewidth\":0,\"ticks\":\"\"}}}],\"carpet\":[{\"aaxis\":{\"endlinecolor\":\"#A2B1C6\",\"gridcolor\":\"#506784\",\"linecolor\":\"#506784\",\"minorgridcolor\":\"#506784\",\"startlinecolor\":\"#A2B1C6\"},\"baxis\":{\"endlinecolor\":\"#A2B1C6\",\"gridcolor\":\"#506784\",\"linecolor\":\"#506784\",\"minorgridcolor\":\"#506784\",\"startlinecolor\":\"#A2B1C6\"},\"type\":\"carpet\"}],\"table\":[{\"cells\":{\"fill\":{\"color\":\"#506784\"},\"line\":{\"color\":\"rgb(17,17,17)\"}},\"header\":{\"fill\":{\"color\":\"#2a3f5f\"},\"line\":{\"color\":\"rgb(17,17,17)\"}},\"type\":\"table\"}],\"barpolar\":[{\"marker\":{\"line\":{\"color\":\"rgb(17,17,17)\",\"width\":0.5},\"pattern\":{\"fillmode\":\"overlay\",\"size\":10,\"solidity\":0.2}},\"type\":\"barpolar\"}],\"pie\":[{\"automargin\":true,\"type\":\"pie\"}]},\"layout\":{\"autotypenumbers\":\"strict\",\"colorway\":[\"#636efa\",\"#EF553B\",\"#00cc96\",\"#ab63fa\",\"#FFA15A\",\"#19d3f3\",\"#FF6692\",\"#B6E880\",\"#FF97FF\",\"#FECB52\"],\"font\":{\"color\":\"#f2f5fa\"},\"hovermode\":\"closest\",\"hoverlabel\":{\"align\":\"left\"},\"paper_bgcolor\":\"rgb(17,17,17)\",\"plot_bgcolor\":\"rgb(17,17,17)\",\"polar\":{\"bgcolor\":\"rgb(17,17,17)\",\"angularaxis\":{\"gridcolor\":\"#506784\",\"linecolor\":\"#506784\",\"ticks\":\"\"},\"radialaxis\":{\"gridcolor\":\"#506784\",\"linecolor\":\"#506784\",\"ticks\":\"\"}},\"ternary\":{\"bgcolor\":\"rgb(17,17,17)\",\"aaxis\":{\"gridcolor\":\"#506784\",\"linecolor\":\"#506784\",\"ticks\":\"\"},\"baxis\":{\"gridcolor\":\"#506784\",\"linecolor\":\"#506784\",\"ticks\":\"\"},\"caxis\":{\"gridcolor\":\"#506784\",\"linecolor\":\"#506784\",\"ticks\":\"\"}},\"coloraxis\":{\"colorbar\":{\"outlinewidth\":0,\"ticks\":\"\"}},\"colorscale\":{\"sequential\":[[0.0,\"#0d0887\"],[0.1111111111111111,\"#46039f\"],[0.2222222222222222,\"#7201a8\"],[0.3333333333333333,\"#9c179e\"],[0.4444444444444444,\"#bd3786\"],[0.5555555555555556,\"#d8576b\"],[0.6666666666666666,\"#ed7953\"],[0.7777777777777778,\"#fb9f3a\"],[0.8888888888888888,\"#fdca26\"],[1.0,\"#f0f921\"]],\"sequentialminus\":[[0.0,\"#0d0887\"],[0.1111111111111111,\"#46039f\"],[0.2222222222222222,\"#7201a8\"],[0.3333333333333333,\"#9c179e\"],[0.4444444444444444,\"#bd3786\"],[0.5555555555555556,\"#d8576b\"],[0.6666666666666666,\"#ed7953\"],[0.7777777777777778,\"#fb9f3a\"],[0.8888888888888888,\"#fdca26\"],[1.0,\"#f0f921\"]],\"diverging\":[[0,\"#8e0152\"],[0.1,\"#c51b7d\"],[0.2,\"#de77ae\"],[0.3,\"#f1b6da\"],[0.4,\"#fde0ef\"],[0.5,\"#f7f7f7\"],[0.6,\"#e6f5d0\"],[0.7,\"#b8e186\"],[0.8,\"#7fbc41\"],[0.9,\"#4d9221\"],[1,\"#276419\"]]},\"xaxis\":{\"gridcolor\":\"#283442\",\"linecolor\":\"#506784\",\"ticks\":\"\",\"title\":{\"standoff\":15},\"zerolinecolor\":\"#283442\",\"automargin\":true,\"zerolinewidth\":2},\"yaxis\":{\"gridcolor\":\"#283442\",\"linecolor\":\"#506784\",\"ticks\":\"\",\"title\":{\"standoff\":15},\"zerolinecolor\":\"#283442\",\"automargin\":true,\"zerolinewidth\":2},\"scene\":{\"xaxis\":{\"backgroundcolor\":\"rgb(17,17,17)\",\"gridcolor\":\"#506784\",\"linecolor\":\"#506784\",\"showbackground\":true,\"ticks\":\"\",\"zerolinecolor\":\"#C8D4E3\",\"gridwidth\":2},\"yaxis\":{\"backgroundcolor\":\"rgb(17,17,17)\",\"gridcolor\":\"#506784\",\"linecolor\":\"#506784\",\"showbackground\":true,\"ticks\":\"\",\"zerolinecolor\":\"#C8D4E3\",\"gridwidth\":2},\"zaxis\":{\"backgroundcolor\":\"rgb(17,17,17)\",\"gridcolor\":\"#506784\",\"linecolor\":\"#506784\",\"showbackground\":true,\"ticks\":\"\",\"zerolinecolor\":\"#C8D4E3\",\"gridwidth\":2}},\"shapedefaults\":{\"line\":{\"color\":\"#f2f5fa\"}},\"annotationdefaults\":{\"arrowcolor\":\"#f2f5fa\",\"arrowhead\":0,\"arrowwidth\":1},\"geo\":{\"bgcolor\":\"rgb(17,17,17)\",\"landcolor\":\"rgb(17,17,17)\",\"subunitcolor\":\"#506784\",\"showland\":true,\"showlakes\":true,\"lakecolor\":\"rgb(17,17,17)\"},\"title\":{\"x\":0.05},\"updatemenudefaults\":{\"bgcolor\":\"#506784\",\"borderwidth\":0},\"sliderdefaults\":{\"bgcolor\":\"#C8D4E3\",\"borderwidth\":1,\"bordercolor\":\"rgb(17,17,17)\",\"tickwidth\":0},\"mapbox\":{\"style\":\"dark\"}}},\"xaxis\":{\"anchor\":\"y\",\"domain\":[0.0,0.2888888888888889]},\"yaxis\":{\"anchor\":\"x\",\"domain\":[0.848,1.0]},\"xaxis2\":{\"anchor\":\"y2\",\"domain\":[0.35555555555555557,0.6444444444444445]},\"yaxis2\":{\"anchor\":\"x2\",\"domain\":[0.848,1.0]},\"xaxis3\":{\"anchor\":\"y3\",\"domain\":[0.7111111111111111,1.0]},\"yaxis3\":{\"anchor\":\"x3\",\"domain\":[0.848,1.0]},\"xaxis4\":{\"anchor\":\"y4\",\"domain\":[0.0,0.2888888888888889]},\"yaxis4\":{\"anchor\":\"x4\",\"domain\":[0.6359999999999999,0.7879999999999999]},\"xaxis5\":{\"anchor\":\"y5\",\"domain\":[0.35555555555555557,0.6444444444444445]},\"yaxis5\":{\"anchor\":\"x5\",\"domain\":[0.6359999999999999,0.7879999999999999]},\"xaxis6\":{\"anchor\":\"y6\",\"domain\":[0.7111111111111111,1.0]},\"yaxis6\":{\"anchor\":\"x6\",\"domain\":[0.6359999999999999,0.7879999999999999]},\"xaxis7\":{\"anchor\":\"y7\",\"domain\":[0.0,0.2888888888888889]},\"yaxis7\":{\"anchor\":\"x7\",\"domain\":[0.424,0.576]},\"xaxis8\":{\"anchor\":\"y8\",\"domain\":[0.35555555555555557,0.6444444444444445]},\"yaxis8\":{\"anchor\":\"x8\",\"domain\":[0.424,0.576]},\"xaxis9\":{\"anchor\":\"y9\",\"domain\":[0.7111111111111111,1.0]},\"yaxis9\":{\"anchor\":\"x9\",\"domain\":[0.424,0.576]},\"xaxis10\":{\"anchor\":\"y10\",\"domain\":[0.0,0.2888888888888889]},\"yaxis10\":{\"anchor\":\"x10\",\"domain\":[0.212,0.364]},\"xaxis11\":{\"anchor\":\"y11\",\"domain\":[0.35555555555555557,0.6444444444444445]},\"yaxis11\":{\"anchor\":\"x11\",\"domain\":[0.212,0.364]},\"xaxis12\":{\"anchor\":\"y12\",\"domain\":[0.7111111111111111,1.0]},\"yaxis12\":{\"anchor\":\"x12\",\"domain\":[0.212,0.364]},\"xaxis13\":{\"anchor\":\"y13\",\"domain\":[0.0,0.2888888888888889]},\"yaxis13\":{\"anchor\":\"x13\",\"domain\":[0.0,0.152]},\"xaxis14\":{\"anchor\":\"y14\",\"domain\":[0.35555555555555557,0.6444444444444445]},\"yaxis14\":{\"anchor\":\"x14\",\"domain\":[0.0,0.152]},\"xaxis15\":{\"anchor\":\"y15\",\"domain\":[0.7111111111111111,1.0]},\"yaxis15\":{\"anchor\":\"x15\",\"domain\":[0.0,0.152]},\"title\":{\"text\":\"\\u0420\\u0430\\u0441\\u043f\\u0440\\u0435\\u0434\\u0435\\u043b\\u0435\\u043d\\u0438\\u0435 \\u043f\\u0440\\u0438\\u0437\\u043d\\u0430\\u043a\\u043e\\u0432\"},\"height\":1500,\"width\":1100},                        {\"responsive\": true}                    ).then(function(){\n                            \nvar gd = document.getElementById('51b890c4-5c82-4a6c-add8-a7bcb8a2018d');\nvar x = new MutationObserver(function (mutations, observer) {{\n        var display = window.getComputedStyle(gd).display;\n        if (!display || display === 'none') {{\n            console.log([gd, 'removed!']);\n            Plotly.purge(gd);\n            observer.disconnect();\n        }}\n}});\n\n// Listen for the removal of the full notebook cells\nvar notebookContainer = gd.closest('#notebook-container');\nif (notebookContainer) {{\n    x.observe(notebookContainer, {childList: true});\n}}\n\n// Listen for the clearing of the current output cell\nvar outputEl = gd.closest('.output');\nif (outputEl) {{\n    x.observe(outputEl, {childList: true});\n}}\n\n                        })                };                });            </script>        </div>"
     },
     "metadata": {},
     "output_type": "display_data"
    }
   ],
   "source": [
    "combine_violin_plots()"
   ],
   "metadata": {
    "collapsed": false,
    "ExecuteTime": {
     "start_time": "2023-04-13T19:52:37.272098Z",
     "end_time": "2023-04-13T19:52:38.284379Z"
    }
   }
  },
  {
   "cell_type": "markdown",
   "source": [
    "## Избавление от мультиколлинеарности между признаками путем нормализации и центрирования данных"
   ],
   "metadata": {
    "collapsed": false
   }
  },
  {
   "cell_type": "code",
   "execution_count": 147,
   "outputs": [],
   "source": [
    "# Центрирование данных для избавления от мультиколлинеарности\n",
    "# data = data.apply(lambda x: x - x.mean())\n",
    "\n",
    "# Минимаксная нормализация данных\n",
    "data = data.apply(lambda x: (x - x.min()) / (x.max() - x.min()))  # это работает, алилуя\n",
    "\n",
    "# Нормализация средним (Z-нормализация)\n",
    "# data = data.apply(lambda x: (x - x.mean()) / x.std())  # И это тоже работает, даже еще лучше\n",
    "\n",
    "# MaxAbsScaler\n",
    "# transformer = MaxAbsScaler().fit(data)\n",
    "# data = pd.DataFrame(transformer.transform(data))\n",
    "\n",
    "# RobustScaler\n",
    "# transformer = RobustScaler().fit(data)\n",
    "# data = pd.DataFrame(transformer.transform(data))"
   ],
   "metadata": {
    "collapsed": false,
    "ExecuteTime": {
     "start_time": "2023-04-13T19:52:37.280516Z",
     "end_time": "2023-04-13T19:52:38.284489Z"
    }
   }
  },
  {
   "cell_type": "code",
   "execution_count": 148,
   "outputs": [],
   "source": [
    "data.columns = ['y1', 'y2', 'y3', 'x1', 'x2', 'x3', 'x4', 'x5', 'x6', 'x7', 'x8', 'x9', 'x10', 'x11']"
   ],
   "metadata": {
    "collapsed": false,
    "ExecuteTime": {
     "start_time": "2023-04-13T19:52:37.283670Z",
     "end_time": "2023-04-13T19:52:38.286494Z"
    }
   }
  },
  {
   "cell_type": "code",
   "execution_count": 149,
   "outputs": [
    {
     "data": {
      "text/plain": "         y1        y2        y3        x1        x2        x3        x4   \n0  0.000000  0.000000  0.000000  0.000000  0.000098  0.000000  0.000000  \\\n1  0.006149  0.016090  0.011180  0.028630  0.000000  0.050591  0.000802   \n2  0.013222  0.036457  0.023958  0.057260  0.004307  0.101183  0.003081   \n3  0.016599  0.045725  0.055902  0.085890  0.002307  0.151762  0.008333   \n4  0.025519  0.063165  0.083854  0.114519  0.004533  0.216544  0.013826   \n\n         x5        x6        x7        x8        x9       x10       x11  \n0  0.201183  0.000000  0.001083  0.002159  0.000000  0.000000  0.000000  \n1  0.284024  0.010861  0.000596  0.005915  0.009124  0.001756  0.023931  \n2  0.118343  0.022745  0.001084  0.008698  0.019866  0.004676  0.045708  \n3  0.000000  0.035863  0.000217  0.000000  0.046669  0.007243  0.057270  \n4  0.278107  0.050502  0.000406  0.004784  0.055855  0.011277  0.088059  ",
      "text/html": "<div>\n<style scoped>\n    .dataframe tbody tr th:only-of-type {\n        vertical-align: middle;\n    }\n\n    .dataframe tbody tr th {\n        vertical-align: top;\n    }\n\n    .dataframe thead th {\n        text-align: right;\n    }\n</style>\n<table border=\"1\" class=\"dataframe\">\n  <thead>\n    <tr style=\"text-align: right;\">\n      <th></th>\n      <th>y1</th>\n      <th>y2</th>\n      <th>y3</th>\n      <th>x1</th>\n      <th>x2</th>\n      <th>x3</th>\n      <th>x4</th>\n      <th>x5</th>\n      <th>x6</th>\n      <th>x7</th>\n      <th>x8</th>\n      <th>x9</th>\n      <th>x10</th>\n      <th>x11</th>\n    </tr>\n  </thead>\n  <tbody>\n    <tr>\n      <th>0</th>\n      <td>0.000000</td>\n      <td>0.000000</td>\n      <td>0.000000</td>\n      <td>0.000000</td>\n      <td>0.000098</td>\n      <td>0.000000</td>\n      <td>0.000000</td>\n      <td>0.201183</td>\n      <td>0.000000</td>\n      <td>0.001083</td>\n      <td>0.002159</td>\n      <td>0.000000</td>\n      <td>0.000000</td>\n      <td>0.000000</td>\n    </tr>\n    <tr>\n      <th>1</th>\n      <td>0.006149</td>\n      <td>0.016090</td>\n      <td>0.011180</td>\n      <td>0.028630</td>\n      <td>0.000000</td>\n      <td>0.050591</td>\n      <td>0.000802</td>\n      <td>0.284024</td>\n      <td>0.010861</td>\n      <td>0.000596</td>\n      <td>0.005915</td>\n      <td>0.009124</td>\n      <td>0.001756</td>\n      <td>0.023931</td>\n    </tr>\n    <tr>\n      <th>2</th>\n      <td>0.013222</td>\n      <td>0.036457</td>\n      <td>0.023958</td>\n      <td>0.057260</td>\n      <td>0.004307</td>\n      <td>0.101183</td>\n      <td>0.003081</td>\n      <td>0.118343</td>\n      <td>0.022745</td>\n      <td>0.001084</td>\n      <td>0.008698</td>\n      <td>0.019866</td>\n      <td>0.004676</td>\n      <td>0.045708</td>\n    </tr>\n    <tr>\n      <th>3</th>\n      <td>0.016599</td>\n      <td>0.045725</td>\n      <td>0.055902</td>\n      <td>0.085890</td>\n      <td>0.002307</td>\n      <td>0.151762</td>\n      <td>0.008333</td>\n      <td>0.000000</td>\n      <td>0.035863</td>\n      <td>0.000217</td>\n      <td>0.000000</td>\n      <td>0.046669</td>\n      <td>0.007243</td>\n      <td>0.057270</td>\n    </tr>\n    <tr>\n      <th>4</th>\n      <td>0.025519</td>\n      <td>0.063165</td>\n      <td>0.083854</td>\n      <td>0.114519</td>\n      <td>0.004533</td>\n      <td>0.216544</td>\n      <td>0.013826</td>\n      <td>0.278107</td>\n      <td>0.050502</td>\n      <td>0.000406</td>\n      <td>0.004784</td>\n      <td>0.055855</td>\n      <td>0.011277</td>\n      <td>0.088059</td>\n    </tr>\n  </tbody>\n</table>\n</div>"
     },
     "execution_count": 149,
     "metadata": {},
     "output_type": "execute_result"
    }
   ],
   "source": [
    "data.head()"
   ],
   "metadata": {
    "collapsed": false,
    "ExecuteTime": {
     "start_time": "2023-04-13T19:52:37.291619Z",
     "end_time": "2023-04-13T19:52:38.286797Z"
    }
   }
  },
  {
   "cell_type": "markdown",
   "source": [
    "# Матрица коэффициентов межфакторной корреляции"
   ],
   "metadata": {
    "collapsed": false
   }
  },
  {
   "cell_type": "code",
   "execution_count": 150,
   "outputs": [
    {
     "data": {
      "text/plain": "           y1        y2        y3        x1        x2        x3        x4   \ny1   1.000000  0.962098  0.964099  0.851678  0.780467  0.802221  0.984239  \\\ny2   0.962098  1.000000  0.994763  0.944787  0.810072  0.904656  0.965551   \ny3   0.964099  0.994763  1.000000  0.950840  0.818295  0.920847  0.963753   \nx1   0.851678  0.944787  0.950840  1.000000  0.787677  0.979226  0.854500   \nx2   0.780467  0.810072  0.818295  0.787677  1.000000  0.817505  0.780658   \nx3   0.802221  0.904656  0.920847  0.979226  0.817505  1.000000  0.803811   \nx4   0.984239  0.965551  0.963753  0.854500  0.780658  0.803811  1.000000   \nx5   0.488412  0.601647  0.611880  0.704683  0.560589  0.724185  0.430490   \nx6   0.976765  0.990318  0.991925  0.919261  0.808195  0.882759  0.978100   \nx7   0.835908  0.818487  0.838498  0.766151  0.735096  0.765603  0.818880   \nx8   0.775911  0.835855  0.842047  0.892509  0.784499  0.883535  0.757896   \nx9   0.744895  0.827500  0.833103  0.917374  0.789460  0.904039  0.735298   \nx10  0.994688  0.970704  0.973278  0.864315  0.788217  0.821817  0.985258   \nx11  0.942640  0.990966  0.990382  0.950100  0.808899  0.924550  0.946607   \n\n           x5        x6        x7        x8        x9       x10       x11  \ny1   0.488412  0.976765  0.835908  0.775911  0.744895  0.994688  0.942640  \ny2   0.601647  0.990318  0.818487  0.835855  0.827500  0.970704  0.990966  \ny3   0.611880  0.991925  0.838498  0.842047  0.833103  0.973278  0.990382  \nx1   0.704683  0.919261  0.766151  0.892509  0.917374  0.864315  0.950100  \nx2   0.560589  0.808195  0.735096  0.784499  0.789460  0.788217  0.808899  \nx3   0.724185  0.882759  0.765603  0.883535  0.904039  0.821817  0.924550  \nx4   0.430490  0.978100  0.818880  0.757896  0.735298  0.985258  0.946607  \nx5   1.000000  0.556461  0.467207  0.619890  0.677199  0.500730  0.620980  \nx6   0.556461  1.000000  0.855146  0.807795  0.785474  0.988662  0.988462  \nx7   0.467207  0.855146  1.000000  0.709914  0.657378  0.859268  0.846035  \nx8   0.619890  0.807795  0.709914  1.000000  0.967126  0.773059  0.815437  \nx9   0.677199  0.785474  0.657378  0.967126  1.000000  0.735227  0.805045  \nx10  0.500730  0.988662  0.859268  0.773059  0.735227  1.000000  0.961017  \nx11  0.620980  0.988462  0.846035  0.815437  0.805045  0.961017  1.000000  ",
      "text/html": "<div>\n<style scoped>\n    .dataframe tbody tr th:only-of-type {\n        vertical-align: middle;\n    }\n\n    .dataframe tbody tr th {\n        vertical-align: top;\n    }\n\n    .dataframe thead th {\n        text-align: right;\n    }\n</style>\n<table border=\"1\" class=\"dataframe\">\n  <thead>\n    <tr style=\"text-align: right;\">\n      <th></th>\n      <th>y1</th>\n      <th>y2</th>\n      <th>y3</th>\n      <th>x1</th>\n      <th>x2</th>\n      <th>x3</th>\n      <th>x4</th>\n      <th>x5</th>\n      <th>x6</th>\n      <th>x7</th>\n      <th>x8</th>\n      <th>x9</th>\n      <th>x10</th>\n      <th>x11</th>\n    </tr>\n  </thead>\n  <tbody>\n    <tr>\n      <th>y1</th>\n      <td>1.000000</td>\n      <td>0.962098</td>\n      <td>0.964099</td>\n      <td>0.851678</td>\n      <td>0.780467</td>\n      <td>0.802221</td>\n      <td>0.984239</td>\n      <td>0.488412</td>\n      <td>0.976765</td>\n      <td>0.835908</td>\n      <td>0.775911</td>\n      <td>0.744895</td>\n      <td>0.994688</td>\n      <td>0.942640</td>\n    </tr>\n    <tr>\n      <th>y2</th>\n      <td>0.962098</td>\n      <td>1.000000</td>\n      <td>0.994763</td>\n      <td>0.944787</td>\n      <td>0.810072</td>\n      <td>0.904656</td>\n      <td>0.965551</td>\n      <td>0.601647</td>\n      <td>0.990318</td>\n      <td>0.818487</td>\n      <td>0.835855</td>\n      <td>0.827500</td>\n      <td>0.970704</td>\n      <td>0.990966</td>\n    </tr>\n    <tr>\n      <th>y3</th>\n      <td>0.964099</td>\n      <td>0.994763</td>\n      <td>1.000000</td>\n      <td>0.950840</td>\n      <td>0.818295</td>\n      <td>0.920847</td>\n      <td>0.963753</td>\n      <td>0.611880</td>\n      <td>0.991925</td>\n      <td>0.838498</td>\n      <td>0.842047</td>\n      <td>0.833103</td>\n      <td>0.973278</td>\n      <td>0.990382</td>\n    </tr>\n    <tr>\n      <th>x1</th>\n      <td>0.851678</td>\n      <td>0.944787</td>\n      <td>0.950840</td>\n      <td>1.000000</td>\n      <td>0.787677</td>\n      <td>0.979226</td>\n      <td>0.854500</td>\n      <td>0.704683</td>\n      <td>0.919261</td>\n      <td>0.766151</td>\n      <td>0.892509</td>\n      <td>0.917374</td>\n      <td>0.864315</td>\n      <td>0.950100</td>\n    </tr>\n    <tr>\n      <th>x2</th>\n      <td>0.780467</td>\n      <td>0.810072</td>\n      <td>0.818295</td>\n      <td>0.787677</td>\n      <td>1.000000</td>\n      <td>0.817505</td>\n      <td>0.780658</td>\n      <td>0.560589</td>\n      <td>0.808195</td>\n      <td>0.735096</td>\n      <td>0.784499</td>\n      <td>0.789460</td>\n      <td>0.788217</td>\n      <td>0.808899</td>\n    </tr>\n    <tr>\n      <th>x3</th>\n      <td>0.802221</td>\n      <td>0.904656</td>\n      <td>0.920847</td>\n      <td>0.979226</td>\n      <td>0.817505</td>\n      <td>1.000000</td>\n      <td>0.803811</td>\n      <td>0.724185</td>\n      <td>0.882759</td>\n      <td>0.765603</td>\n      <td>0.883535</td>\n      <td>0.904039</td>\n      <td>0.821817</td>\n      <td>0.924550</td>\n    </tr>\n    <tr>\n      <th>x4</th>\n      <td>0.984239</td>\n      <td>0.965551</td>\n      <td>0.963753</td>\n      <td>0.854500</td>\n      <td>0.780658</td>\n      <td>0.803811</td>\n      <td>1.000000</td>\n      <td>0.430490</td>\n      <td>0.978100</td>\n      <td>0.818880</td>\n      <td>0.757896</td>\n      <td>0.735298</td>\n      <td>0.985258</td>\n      <td>0.946607</td>\n    </tr>\n    <tr>\n      <th>x5</th>\n      <td>0.488412</td>\n      <td>0.601647</td>\n      <td>0.611880</td>\n      <td>0.704683</td>\n      <td>0.560589</td>\n      <td>0.724185</td>\n      <td>0.430490</td>\n      <td>1.000000</td>\n      <td>0.556461</td>\n      <td>0.467207</td>\n      <td>0.619890</td>\n      <td>0.677199</td>\n      <td>0.500730</td>\n      <td>0.620980</td>\n    </tr>\n    <tr>\n      <th>x6</th>\n      <td>0.976765</td>\n      <td>0.990318</td>\n      <td>0.991925</td>\n      <td>0.919261</td>\n      <td>0.808195</td>\n      <td>0.882759</td>\n      <td>0.978100</td>\n      <td>0.556461</td>\n      <td>1.000000</td>\n      <td>0.855146</td>\n      <td>0.807795</td>\n      <td>0.785474</td>\n      <td>0.988662</td>\n      <td>0.988462</td>\n    </tr>\n    <tr>\n      <th>x7</th>\n      <td>0.835908</td>\n      <td>0.818487</td>\n      <td>0.838498</td>\n      <td>0.766151</td>\n      <td>0.735096</td>\n      <td>0.765603</td>\n      <td>0.818880</td>\n      <td>0.467207</td>\n      <td>0.855146</td>\n      <td>1.000000</td>\n      <td>0.709914</td>\n      <td>0.657378</td>\n      <td>0.859268</td>\n      <td>0.846035</td>\n    </tr>\n    <tr>\n      <th>x8</th>\n      <td>0.775911</td>\n      <td>0.835855</td>\n      <td>0.842047</td>\n      <td>0.892509</td>\n      <td>0.784499</td>\n      <td>0.883535</td>\n      <td>0.757896</td>\n      <td>0.619890</td>\n      <td>0.807795</td>\n      <td>0.709914</td>\n      <td>1.000000</td>\n      <td>0.967126</td>\n      <td>0.773059</td>\n      <td>0.815437</td>\n    </tr>\n    <tr>\n      <th>x9</th>\n      <td>0.744895</td>\n      <td>0.827500</td>\n      <td>0.833103</td>\n      <td>0.917374</td>\n      <td>0.789460</td>\n      <td>0.904039</td>\n      <td>0.735298</td>\n      <td>0.677199</td>\n      <td>0.785474</td>\n      <td>0.657378</td>\n      <td>0.967126</td>\n      <td>1.000000</td>\n      <td>0.735227</td>\n      <td>0.805045</td>\n    </tr>\n    <tr>\n      <th>x10</th>\n      <td>0.994688</td>\n      <td>0.970704</td>\n      <td>0.973278</td>\n      <td>0.864315</td>\n      <td>0.788217</td>\n      <td>0.821817</td>\n      <td>0.985258</td>\n      <td>0.500730</td>\n      <td>0.988662</td>\n      <td>0.859268</td>\n      <td>0.773059</td>\n      <td>0.735227</td>\n      <td>1.000000</td>\n      <td>0.961017</td>\n    </tr>\n    <tr>\n      <th>x11</th>\n      <td>0.942640</td>\n      <td>0.990966</td>\n      <td>0.990382</td>\n      <td>0.950100</td>\n      <td>0.808899</td>\n      <td>0.924550</td>\n      <td>0.946607</td>\n      <td>0.620980</td>\n      <td>0.988462</td>\n      <td>0.846035</td>\n      <td>0.815437</td>\n      <td>0.805045</td>\n      <td>0.961017</td>\n      <td>1.000000</td>\n    </tr>\n  </tbody>\n</table>\n</div>"
     },
     "execution_count": 150,
     "metadata": {},
     "output_type": "execute_result"
    }
   ],
   "source": [
    "data.corr()"
   ],
   "metadata": {
    "collapsed": false,
    "ExecuteTime": {
     "start_time": "2023-04-13T19:52:37.302169Z",
     "end_time": "2023-04-13T19:52:38.288835Z"
    }
   }
  },
  {
   "cell_type": "code",
   "execution_count": 151,
   "outputs": [
    {
     "data": {
      "text/plain": "<Axes: >"
     },
     "execution_count": 151,
     "metadata": {},
     "output_type": "execute_result"
    },
    {
     "data": {
      "text/plain": "<Figure size 1000x800 with 2 Axes>",
      "image/png": "[encoded data removed]"
     },
     "metadata": {},
     "output_type": "display_data"
    }
   ],
   "source": [
    "fig, ax = plt.subplots(figsize=(10, 8))\n",
    "# sns.heatmap(data.corr(), annot=True, fmt=\".2f\", linewidth=.5, cmap='magma')magma\n",
    "sns.heatmap(data.corr(), annot=True, fmt=\".2f\", linewidth=.5, cmap='cubehelix')"
   ],
   "metadata": {
    "collapsed": false,
    "ExecuteTime": {
     "start_time": "2023-04-13T19:52:37.319664Z",
     "end_time": "2023-04-13T19:52:38.432685Z"
    }
   }
  },
  {
   "cell_type": "code",
   "execution_count": 152,
   "outputs": [
    {
     "data": {
      "text/plain": "<Axes: >"
     },
     "execution_count": 152,
     "metadata": {},
     "output_type": "execute_result"
    },
    {
     "data": {
      "text/plain": "<Figure size 1000x800 with 2 Axes>",
      "image/png": "[encoded data removed]"
     },
     "metadata": {},
     "output_type": "display_data"
    }
   ],
   "source": [
    "un_data = data.copy()\n",
    "un_data.columns = ['Инвестиции в основной капитал, млн руб.', 'Валовой региональный продукт (ВРП), млн.руб.',\n",
    "                   'Сумма доходов населения за год, млн руб.',\n",
    "                   'Финансовый результат деятельности (чистая прибыль), млн.руб.',\n",
    "                   'Прямые иностранные инвестиции, млн USD',\n",
    "                   'Среднегодовая численности занятых, тыс чел.', 'Стоимость основных фондов, млн. руб.',\n",
    "                   'Степень износа основных фондов, %',\n",
    "                   'Затраты на научные исследования и разработки, млн руб.',\n",
    "                   'Объём инновационных товаров работ услуг, млн руб.', 'Экспорт, млн USD',\n",
    "                   'Импорт, млн. USD', 'Сумма остатков вкладов на счетах в Банке России, млн. руб.',\n",
    "                   'Прожиточный минимум в регионе РФ (г. Москва), тыс.руб.']\n",
    "\n",
    "fig, ax = plt.subplots(figsize=(10, 8))\n",
    "sns.heatmap(un_data.corr(), annot=True, fmt=\".2f\", linewidth=.5, cmap='cubehelix')"
   ],
   "metadata": {
    "collapsed": false,
    "ExecuteTime": {
     "start_time": "2023-04-13T19:52:37.990123Z",
     "end_time": "2023-04-13T19:52:38.962608Z"
    }
   }
  },
  {
   "cell_type": "markdown",
   "source": [
    "# Исследование данных на наличие выбросов\n",
    "\n",
    "Нахождение выбросов - это один из методов анализа данных, который используется для выявления аномальных значений в наборе данных. Выбросы могут возникать из-за ошибок в данных, случайных вариаций или из-за наличия редких, но реальных экстремальных значений.\n",
    "\n",
    "Существует несколько методов нахождения выбросов, в том числе метод Z-оценки и метод межквартильного размаха (IQR)."
   ],
   "metadata": {
    "collapsed": false
   }
  },
  {
   "cell_type": "code",
   "execution_count": 153,
   "outputs": [
    {
     "data": {
      "text/plain": "(25, 14)"
     },
     "execution_count": 153,
     "metadata": {},
     "output_type": "execute_result"
    }
   ],
   "source": [
    "# Смотрим размерность данных\n",
    "data.shape"
   ],
   "metadata": {
    "collapsed": false,
    "ExecuteTime": {
     "start_time": "2023-04-13T19:52:38.760153Z",
     "end_time": "2023-04-13T19:52:38.963026Z"
    }
   }
  },
  {
   "cell_type": "markdown",
   "source": [
    "Изначально мы имели набор данных, состоящий из 25 значений, охватывающих период с 1998 по 2022 год. На это нам указывает размерность данных (25, 14)."
   ],
   "metadata": {
    "collapsed": false
   }
  },
  {
   "cell_type": "markdown",
   "source": [
    "**Z-оценка**\n",
    "\n",
    "Метод Z-оценки основан на расчете Z-оценки для каждого значения в наборе данных и проверке, насколько далеко каждое значение от среднего значения. Значения, которые находятся на расстоянии больше чем три стандартных отклонения от среднего, могут быть считаны выбросами."
   ],
   "metadata": {
    "collapsed": false
   }
  },
  {
   "cell_type": "code",
   "execution_count": 154,
   "outputs": [
    {
     "data": {
      "text/plain": "(25, 14)"
     },
     "execution_count": 154,
     "metadata": {},
     "output_type": "execute_result"
    }
   ],
   "source": [
    "z = np.abs(stats.zscore(data))\n",
    "data_clean = data[(z < 3).all(axis=1)]\n",
    "data_clean.shape"
   ],
   "metadata": {
    "collapsed": false,
    "ExecuteTime": {
     "start_time": "2023-04-13T19:52:38.764684Z",
     "end_time": "2023-04-13T19:52:38.990316Z"
    }
   }
  },
  {
   "cell_type": "markdown",
   "source": [
    "**Межквартильный размах (IQR)**\n",
    "\n",
    "Метод межквартильного размаха (IQR) основан на вычислении интерквартильного размаха - разницы между 75-перцентилью и 25-перцентилем. Затем определяется верхняя и нижняя границы выбросов, которые определяются как 1,5 межквартильных размаха за пределами верхнего и нижнего квартилей."
   ],
   "metadata": {
    "collapsed": false
   }
  },
  {
   "cell_type": "code",
   "execution_count": 155,
   "outputs": [
    {
     "data": {
      "text/plain": "(25, 14)"
     },
     "execution_count": 155,
     "metadata": {},
     "output_type": "execute_result"
    }
   ],
   "source": [
    "# Находим Первый квартиль (Q1) и Третий квартиль (Q3) и рассчитываем межквартильный размах\n",
    "Q1 = data.quantile(q=.25)\n",
    "Q3 = data.quantile(q=.75)\n",
    "IQR = data.apply(stats.iqr)\n",
    "\n",
    "# Оставляем только те значения, которые больше нижней границы и меньше верхней границы.\n",
    "data_clean = data[~((data < (Q1 - 1.5 * IQR)) | (data > (Q3 + 1.5 * IQR))).any(axis=1)]\n",
    "data_clean.shape  # без 20,21,22 годов"
   ],
   "metadata": {
    "collapsed": false,
    "ExecuteTime": {
     "start_time": "2023-04-13T19:52:38.774118Z",
     "end_time": "2023-04-13T19:52:38.990664Z"
    }
   }
  },
  {
   "cell_type": "markdown",
   "source": [
    "В результате проверки на наличие выбросов мы получили исходный набор данных, состоящий из 25 значений, охватывающих период с 1998 по 2022 год. На это нам указывает размерность данных (25, 14). Это говорит нам о том что выбросов в данных найденно не было."
   ],
   "metadata": {
    "collapsed": false
   }
  },
  {
   "cell_type": "code",
   "execution_count": 156,
   "outputs": [],
   "source": [
    "# Заменяем исходный набор данных на очищенный\n",
    "data = data_clean"
   ],
   "metadata": {
    "collapsed": false,
    "ExecuteTime": {
     "start_time": "2023-04-13T19:52:38.786279Z",
     "end_time": "2023-04-13T19:52:38.990797Z"
    }
   }
  },
  {
   "cell_type": "markdown",
   "source": [
    "# Построение модели линейной регрессии\n",
    "\n",
    "Линейная регрессия - это метод анализа данных, который используется для описания и прогнозирования линейной связи между зависимой и одной или несколькими независимыми переменными. Он часто используется в статистическом анализе данных для построения математической модели, которая может быть использована для прогнозирования значений зависимой переменной на основе значений независимых переменных.\n",
    "\n",
    "Для построения модели линейной регрессии необходимо иметь набор данных, который состоит из пар значений зависимой и независимой переменных. Затем на основе этих данных проводится анализ, который позволяет оценить параметры модели - коэффициенты наклона и пересечения. Эти параметры могут быть использованы для построения уравнения линейной регрессии.\n",
    "\n",
    "Для оценки качества модели линейной регрессии используются различные статистические показатели, такие как коэффициент детерминации (R-квадрат) или корреляционный коэффициент. Они позволяют оценить, насколько хорошо модель соответствует данным и насколько точно она может использоваться для прогнозирования значений зависимой переменной.\n",
    "\n",
    "Важно понимать, что линейная регрессия является моделью, которая описывает только линейные отношения между переменными. Если связь между переменными не является линейной, то модель линейной регрессии может оказаться неэффективной и требовать использования других методов анализа данных."
   ],
   "metadata": {
    "collapsed": false
   }
  },
  {
   "cell_type": "code",
   "execution_count": 157,
   "outputs": [],
   "source": [
    "class CustomLinearRegression:\n",
    "    def __init__(self, y, x, model_type=OLS):\n",
    "        self.model_type = model_type\n",
    "        self.y = y\n",
    "        # self.x = x\n",
    "        self.x = sm.add_constant(x)\n",
    "        self.model = self.model_type(self.y, self.x).fit()\n",
    "        # self.model = sm.OLS(self.y, self.x).fit_regularized(alpha=1., L1_wt=0.5, refit=True)\n",
    "\n",
    "    def get_coefficients(self):\n",
    "        return self.model.params\n",
    "\n",
    "    def summary(self):\n",
    "        print(self.model.summary())\n",
    "\n",
    "    def pre(self):\n",
    "        return self.model.predict(self.x)\n",
    "\n",
    "    def F(self):\n",
    "        return self.model.fvalue\n",
    "\n",
    "    def p(self):\n",
    "        return self.model.f_pvalue\n",
    "\n",
    "    def current_p(self, i):\n",
    "        return self.model.pvalues[i]\n",
    "\n",
    "    def R2(self):\n",
    "        return self.model.rsquared\n",
    "\n",
    "    def R2_adj(self):\n",
    "        return self.model.rsquared_adj\n",
    "\n",
    "    def t(self):\n",
    "        return self.model.tvalues\n",
    "\n",
    "    def forward_selection(self):\n",
    "        xi = []\n",
    "        stop = False\n",
    "        x_new = []  # список переменных, которые будут включены в модель\n",
    "        x_len = len(self.x.columns) - 1  # количество столбцов в датафрейме\n",
    "        x_test = []\n",
    "        for n in range(x_len):\n",
    "            F_max = 0  # максимальное значение F\n",
    "            p_max = 0  # максимальное значение p\n",
    "            F_max_i = 0\n",
    "            F_max_x = ''\n",
    "            if not stop:\n",
    "                for i in range(x_len):\n",
    "                    if i not in xi:\n",
    "                        x_test = x_new.copy()\n",
    "                        x_test.append(self.x.columns[i])\n",
    "                        F = CustomLinearRegression(self.y, self.x.loc[:, x_test]).F()\n",
    "                        print(f\"'x{i + 1}',\", F)\n",
    "                        if F > F_max:\n",
    "                            F_max = F\n",
    "                            F_max_i = i\n",
    "                            F_max_x = f\"x{i + 1}\"\n",
    "                x_new.append(F_max_x)\n",
    "                xi.append(F_max_i)\n",
    "                print(x_new)\n",
    "                for j in range(len(x_new)):\n",
    "                    p = CustomLinearRegression(self.y, self.x.loc[:, x_new]).current_p(j)\n",
    "                    if p > 0.05:\n",
    "                        stop = True\n",
    "                        print(f'P-value: {p}')\n",
    "                        break\n",
    "        CustomLinearRegression(self.y, self.x.loc[:, x_new[:-1]]).summary()\n",
    "\n",
    "    def backward_elimination(self, p=0.05, start=1):\n",
    "        regression = self.model_type(self.y, self.x).fit()\n",
    "        futures_num = len(self.x.columns)\n",
    "        for i in range(futures_num):\n",
    "            self.x = sm.add_constant(self.x)\n",
    "            regression = self.model_type(self.y, self.x).fit()\n",
    "            max_p = max(regression.pvalues.values[start:])\n",
    "            if max_p > p:\n",
    "                for j in range(0, futures_num - i):\n",
    "                    if regression.pvalues[j] == max_p:\n",
    "                        self.x = self.x.drop(self.x.columns[[j]], axis=1)\n",
    "        print(regression.summary())\n",
    "\n",
    "    def custom_feature_selection(x, y, model=LinearRegression(), selection_method=RFE):\n",
    "        result_list = list()\n",
    "        result = selection_method(model).fit(x, y)\n",
    "        for i, feature in enumerate(result.get_support()):\n",
    "            if feature:\n",
    "                result_list.append(f'x{i + 1}')\n",
    "        CustomLinearRegression(y, x[result_list]).summary()\n",
    "\n",
    "    def correlation_map(self):\n",
    "        return sns.heatmap(self.x.corr(), annot=True, fmt=\".1f\", linewidth=.5, cmap='magma')"
   ],
   "metadata": {
    "collapsed": false,
    "ExecuteTime": {
     "start_time": "2023-04-13T19:52:38.808274Z",
     "end_time": "2023-04-13T19:52:39.172234Z"
    }
   }
  },
  {
   "cell_type": "markdown",
   "source": [
    "# Отбор переменных для модели линейной регрессии\n",
    "\n",
    "Отбор переменных для модели линейной регрессии - это процесс выбора наиболее важных и значимых независимых переменных, которые будут использоваться в модели для прогнозирования зависимой переменной. Это важный шаг в построении модели, так как использование неподходящих переменных может привести к низкой точности прогнозов и низкому качеству модели.\n",
    "\n",
    "Существует несколько методов отбора переменных для модели линейной регрессии, включая:\n",
    "\n",
    "- Метод пошагового отбора переменных - это метод, который включает или исключает независимые переменные в модель пошагово на основе их значимости. На каждом шаге происходит выбор переменной, которая наиболее улучшает качество модели.\n",
    "\n",
    "- Метод отбора на основе значимости - этот метод основан на анализе значимости каждой независимой переменной с помощью статистических тестов, таких как t-тест или F-тест. Переменные с низким уровнем значимости исключаются из модели.\n",
    "\n",
    "- Метод регуляризации - это метод, который добавляет штрафы за большие значения коэффициентов в модель. Он позволяет автоматически отбирать переменные, которые наиболее важны для модели, и уменьшает вероятность переобучения.\n",
    "\n",
    "- Метод отбора на основе информационных критериев - этот метод основан на использовании различных информационных критериев, таких как AIC (критерий Акаике) и BIC (критерий Шварца), чтобы выбрать модель с наименьшей ошибкой.\n",
    "\n",
    "Выбор метода отбора переменных зависит от конкретной задачи и объема доступных данных. Важно также учитывать возможную мультиколлинеарность между независимыми переменными, что может привести к искажению результатов. Поэтому важно проводить анализ и выбор переменных внимательно и осознанно."
   ],
   "metadata": {
    "collapsed": false
   }
  },
  {
   "cell_type": "markdown",
   "source": [
    "Сначала посмотрим на данные, которые мы будем использовать для построения модели линейной регрессии."
   ],
   "metadata": {
    "collapsed": false
   }
  },
  {
   "cell_type": "code",
   "execution_count": 158,
   "outputs": [
    {
     "data": {
      "text/plain": "         y1        y2        y3        x1        x2        x3        x4   \n0  0.000000  0.000000  0.000000  0.000000  0.000098  0.000000  0.000000  \\\n1  0.006149  0.016090  0.011180  0.028630  0.000000  0.050591  0.000802   \n2  0.013222  0.036457  0.023958  0.057260  0.004307  0.101183  0.003081   \n3  0.016599  0.045725  0.055902  0.085890  0.002307  0.151762  0.008333   \n4  0.025519  0.063165  0.083854  0.114519  0.004533  0.216544  0.013826   \n\n         x5        x6        x7        x8        x9       x10       x11  \n0  0.201183  0.000000  0.001083  0.002159  0.000000  0.000000  0.000000  \n1  0.284024  0.010861  0.000596  0.005915  0.009124  0.001756  0.023931  \n2  0.118343  0.022745  0.001084  0.008698  0.019866  0.004676  0.045708  \n3  0.000000  0.035863  0.000217  0.000000  0.046669  0.007243  0.057270  \n4  0.278107  0.050502  0.000406  0.004784  0.055855  0.011277  0.088059  ",
      "text/html": "<div>\n<style scoped>\n    .dataframe tbody tr th:only-of-type {\n        vertical-align: middle;\n    }\n\n    .dataframe tbody tr th {\n        vertical-align: top;\n    }\n\n    .dataframe thead th {\n        text-align: right;\n    }\n</style>\n<table border=\"1\" class=\"dataframe\">\n  <thead>\n    <tr style=\"text-align: right;\">\n      <th></th>\n      <th>y1</th>\n      <th>y2</th>\n      <th>y3</th>\n      <th>x1</th>\n      <th>x2</th>\n      <th>x3</th>\n      <th>x4</th>\n      <th>x5</th>\n      <th>x6</th>\n      <th>x7</th>\n      <th>x8</th>\n      <th>x9</th>\n      <th>x10</th>\n      <th>x11</th>\n    </tr>\n  </thead>\n  <tbody>\n    <tr>\n      <th>0</th>\n      <td>0.000000</td>\n      <td>0.000000</td>\n      <td>0.000000</td>\n      <td>0.000000</td>\n      <td>0.000098</td>\n      <td>0.000000</td>\n      <td>0.000000</td>\n      <td>0.201183</td>\n      <td>0.000000</td>\n      <td>0.001083</td>\n      <td>0.002159</td>\n      <td>0.000000</td>\n      <td>0.000000</td>\n      <td>0.000000</td>\n    </tr>\n    <tr>\n      <th>1</th>\n      <td>0.006149</td>\n      <td>0.016090</td>\n      <td>0.011180</td>\n      <td>0.028630</td>\n      <td>0.000000</td>\n      <td>0.050591</td>\n      <td>0.000802</td>\n      <td>0.284024</td>\n      <td>0.010861</td>\n      <td>0.000596</td>\n      <td>0.005915</td>\n      <td>0.009124</td>\n      <td>0.001756</td>\n      <td>0.023931</td>\n    </tr>\n    <tr>\n      <th>2</th>\n      <td>0.013222</td>\n      <td>0.036457</td>\n      <td>0.023958</td>\n      <td>0.057260</td>\n      <td>0.004307</td>\n      <td>0.101183</td>\n      <td>0.003081</td>\n      <td>0.118343</td>\n      <td>0.022745</td>\n      <td>0.001084</td>\n      <td>0.008698</td>\n      <td>0.019866</td>\n      <td>0.004676</td>\n      <td>0.045708</td>\n    </tr>\n    <tr>\n      <th>3</th>\n      <td>0.016599</td>\n      <td>0.045725</td>\n      <td>0.055902</td>\n      <td>0.085890</td>\n      <td>0.002307</td>\n      <td>0.151762</td>\n      <td>0.008333</td>\n      <td>0.000000</td>\n      <td>0.035863</td>\n      <td>0.000217</td>\n      <td>0.000000</td>\n      <td>0.046669</td>\n      <td>0.007243</td>\n      <td>0.057270</td>\n    </tr>\n    <tr>\n      <th>4</th>\n      <td>0.025519</td>\n      <td>0.063165</td>\n      <td>0.083854</td>\n      <td>0.114519</td>\n      <td>0.004533</td>\n      <td>0.216544</td>\n      <td>0.013826</td>\n      <td>0.278107</td>\n      <td>0.050502</td>\n      <td>0.000406</td>\n      <td>0.004784</td>\n      <td>0.055855</td>\n      <td>0.011277</td>\n      <td>0.088059</td>\n    </tr>\n  </tbody>\n</table>\n</div>"
     },
     "execution_count": 158,
     "metadata": {},
     "output_type": "execute_result"
    }
   ],
   "source": [
    "data.head()"
   ],
   "metadata": {
    "collapsed": false,
    "ExecuteTime": {
     "start_time": "2023-04-13T19:52:38.829390Z",
     "end_time": "2023-04-13T19:52:39.301975Z"
    }
   }
  },
  {
   "cell_type": "markdown",
   "source": [
    "Мы имеем дело с набором данных, содержащим 11 независимых переменных и 3 зависимых переменных. Переменные x1-x11 являются независимыми переменными, а переменные y1-y3 являются зависимыми переменными. Всего у нас 25 наблюдений. Разделим данные на независимые и зависимые переменные."
   ],
   "metadata": {
    "collapsed": false
   }
  },
  {
   "cell_type": "markdown",
   "source": [
    "### Разделение данных на зависимые и независимые переменные"
   ],
   "metadata": {
    "collapsed": false
   }
  },
  {
   "cell_type": "markdown",
   "source": [
    "Зависимые переменные - это переменные, значения которых мы хотим предсказать. В нашем случае это переменные y1, y2 и y3."
   ],
   "metadata": {
    "collapsed": false
   }
  },
  {
   "cell_type": "code",
   "execution_count": 159,
   "outputs": [],
   "source": [
    "y = data[['y1', 'y2', 'y3']]\n",
    "y1 = y['y1']\n",
    "y2 = y['y2']\n",
    "y3 = y['y3']"
   ],
   "metadata": {
    "collapsed": false,
    "ExecuteTime": {
     "start_time": "2023-04-13T19:52:38.836991Z",
     "end_time": "2023-04-13T19:52:39.302434Z"
    }
   }
  },
  {
   "cell_type": "markdown",
   "source": [
    "Независимые переменные - это переменные, значения которых мы используем для прогнозирования зависимых переменных. В нашем случае это переменные x1-x11."
   ],
   "metadata": {
    "collapsed": false
   }
  },
  {
   "cell_type": "code",
   "execution_count": 160,
   "outputs": [],
   "source": [
    "X = data[['x1', 'x2', 'x3', 'x4', 'x5', 'x6', 'x7', 'x8', 'x9', 'x10', 'x11']]\n",
    "x1 = X['x1']\n",
    "x2 = X['x2']\n",
    "x3 = X['x3']\n",
    "x4 = X['x4']\n",
    "x5 = X['x5']\n",
    "x6 = X['x6']\n",
    "x7 = X['x7']\n",
    "x8 = X['x8']\n",
    "x9 = X['x9']\n",
    "x10 = X['x10']\n",
    "x11 = X['x11']"
   ],
   "metadata": {
    "collapsed": false,
    "ExecuteTime": {
     "start_time": "2023-04-13T19:52:38.847677Z",
     "end_time": "2023-04-13T19:52:39.334917Z"
    }
   }
  },
  {
   "cell_type": "markdown",
   "source": [
    "## Оценка предварительно составленных систем уравнений\n",
    "\n",
    "Всего у нас три системы уравнений, которые мы можем использовать для прогнозирования зависимых переменных\n",
    "- Система независимых уравнений;\n",
    "- Система рекурсивных уравнений;\n",
    "- Система одновременных уравнений.\n",
    "\n",
    "#### Система независимых уравнений\n",
    "$$\n",
    "\\begin{cases}\n",
    "y_1 = a_1 + b_{11}x_{1} + b_{12}x_{2} + \\epsilon \\\\\n",
    "y_2 = a_2 + b_{21}x_{1} + b_{22}x_{2} + b_{23}x_{3} + b_{24}x_{4} + b_{25}x_{5} + b_{26}x_{6} + b_{27}x_{7} + b_{28}x_{8} + b_{29}x_{9} + \\epsilon \\\\\n",
    "y_3 = a_3 + b_{31}x_{1} + b_{32}x_{2} + b_{33}x_{3} + b_{34}x_{4} + b_{35}x_{5} + b_{36}x_{6} + b_{37}x_{7} + b_{38}x_{8} + b_{39}x_{9} + b_{310}x_{10} + b_{311}x_{11} + \\epsilon \\\\\n",
    "\\end{cases}\n",
    "$$\n",
    "\n",
    "#### Система рекурсивных уравнений\n",
    "$$\n",
    "\\begin{cases}\n",
    "y_1 = a_1 + b_{11}x_{1} + b_{12}x_{2} + \\epsilon \\\\\n",
    "y_2 = a_2 + a_{21}y_1 + b_{21}x_{3} + b_{22}x_{4} + b_{23}x_{5} + b_{24}x_{6} + b_{25}x_{7} + b_{26}x_{8} + b_{27}x_{9} + \\epsilon \\\\\n",
    "y_3 = a_3 + a_{31}y_1 + a_{32}y_2 + b_{31}x_{11} + \\epsilon \\\\\n",
    "\\end{cases}\n",
    "$$\n",
    "\n",
    "#### Система одновременных уравнений\n",
    "$$\n",
    "\\begin{cases}\n",
    "y_1 = a_1 + b_{11}x_{1} + b_{12}x_{2} + \\epsilon \\\\\n",
    "y_2 = a_2 + a_{21}y_1 + b_{23}x_{3} + b_{24}x_{4} + b_{25}x_{5} + b_{26}x_{6} + b_{27}x_{7} + b_{28}x_{8} + b_{29}x_{9} + \\epsilon \\\\\n",
    "y_3 = a_3 + a_{31}y_1 + b_{310}x_{10} + b_{311}x_{11} + \\epsilon \\\\\n",
    "\\end{cases}\n",
    "$$"
   ],
   "metadata": {
    "collapsed": false
   }
  },
  {
   "cell_type": "markdown",
   "source": [
    "## Система независимых уравнений\n",
    "\n",
    "$$\n",
    "\\begin{cases}\n",
    "y_1 = a_1 + b_{11}x_{1} + b_{12}x_{2} + \\epsilon \\\\\n",
    "y_2 = a_2 + b_{21}x_{1} + b_{22}x_{2} + b_{23}x_{3} + b_{24}x_{4} + b_{25}x_{5} + b_{26}x_{6} + b_{27}x_{7} + b_{28}x_{8} + b_{29}x_{9} + \\epsilon \\\\\n",
    "y_3 = a_3 + b_{31}x_{1} + b_{32}x_{2} + b_{33}x_{3} + b_{34}x_{4} + b_{35}x_{5} + b_{36}x_{6} + b_{37}x_{7} + b_{38}x_{8} + b_{39}x_{9} + b_{310}x_{10} + b_{311}x_{11} + \\epsilon \\\\\n",
    "\\end{cases}\n",
    "$$"
   ],
   "metadata": {
    "collapsed": false
   }
  },
  {
   "cell_type": "markdown",
   "source": [
    "### Первое уравнение\n",
    "\n",
    "$$y_1 = a_1 + b_{11}x_{1} + b_{12}x_{2} + \\epsilon $$"
   ],
   "metadata": {
    "collapsed": false
   }
  },
  {
   "cell_type": "markdown",
   "source": [
    "#### Исходная система уравнений"
   ],
   "metadata": {
    "collapsed": false
   }
  },
  {
   "cell_type": "code",
   "execution_count": 183,
   "outputs": [
    {
     "name": "stdout",
     "output_type": "stream",
     "text": [
      "                                 OLS Regression Results                                \n",
      "=======================================================================================\n",
      "Dep. Variable:                     y1   R-squared (uncentered):                   0.873\n",
      "Model:                            OLS   Adj. R-squared (uncentered):              0.862\n",
      "Method:                 Least Squares   F-statistic:                              78.77\n",
      "Date:                Thu, 13 Apr 2023   Prob (F-statistic):                    5.12e-11\n",
      "Time:                        19:52:46   Log-Likelihood:                          13.179\n",
      "No. Observations:                  25   AIC:                                     -22.36\n",
      "Df Residuals:                      23   BIC:                                     -19.92\n",
      "Df Model:                           2                                                  \n",
      "Covariance Type:            nonrobust                                                  \n",
      "==============================================================================\n",
      "                 coef    std err          t      P>|t|      [0.025      0.975]\n",
      "------------------------------------------------------------------------------\n",
      "x1             0.3736      0.096      3.878      0.001       0.174       0.573\n",
      "x2             0.3157      0.148      2.139      0.043       0.010       0.621\n",
      "==============================================================================\n",
      "Omnibus:                       13.619   Durbin-Watson:                   0.390\n",
      "Prob(Omnibus):                  0.001   Jarque-Bera (JB):               15.002\n",
      "Skew:                           1.213   Prob(JB):                     0.000552\n",
      "Kurtosis:                       5.918   Cond. No.                         4.46\n",
      "==============================================================================\n",
      "\n",
      "Notes:\n",
      "[1] R² is computed without centering (uncentered) since the model does not contain a constant.\n",
      "[2] Standard Errors assume that the covariance matrix of the errors is correctly specified.\n"
     ]
    }
   ],
   "source": [
    "fn1_nez = pd.concat([x1, x2], axis=1)\n",
    "CustomLinearRegression(y1, fn1_nez).summary()"
   ],
   "metadata": {
    "collapsed": false,
    "ExecuteTime": {
     "start_time": "2023-04-13T19:52:46.727781Z",
     "end_time": "2023-04-13T19:52:46.750075Z"
    }
   }
  },
  {
   "cell_type": "markdown",
   "source": [
    "#### Исходная система уравнений с выбором признаков методом обратного исключения"
   ],
   "metadata": {
    "collapsed": false
   }
  },
  {
   "cell_type": "code",
   "execution_count": 184,
   "outputs": [
    {
     "name": "stdout",
     "output_type": "stream",
     "text": [
      "                                 OLS Regression Results                                \n",
      "=======================================================================================\n",
      "Dep. Variable:                     y1   R-squared (uncentered):                   0.873\n",
      "Model:                            OLS   Adj. R-squared (uncentered):              0.862\n",
      "Method:                 Least Squares   F-statistic:                              78.77\n",
      "Date:                Thu, 13 Apr 2023   Prob (F-statistic):                    5.12e-11\n",
      "Time:                        19:52:50   Log-Likelihood:                          13.179\n",
      "No. Observations:                  25   AIC:                                     -22.36\n",
      "Df Residuals:                      23   BIC:                                     -19.92\n",
      "Df Model:                           2                                                  \n",
      "Covariance Type:            nonrobust                                                  \n",
      "==============================================================================\n",
      "                 coef    std err          t      P>|t|      [0.025      0.975]\n",
      "------------------------------------------------------------------------------\n",
      "x1             0.3736      0.096      3.878      0.001       0.174       0.573\n",
      "x2             0.3157      0.148      2.139      0.043       0.010       0.621\n",
      "==============================================================================\n",
      "Omnibus:                       13.619   Durbin-Watson:                   0.390\n",
      "Prob(Omnibus):                  0.001   Jarque-Bera (JB):               15.002\n",
      "Skew:                           1.213   Prob(JB):                     0.000552\n",
      "Kurtosis:                       5.918   Cond. No.                         4.46\n",
      "==============================================================================\n",
      "\n",
      "Notes:\n",
      "[1] R² is computed without centering (uncentered) since the model does not contain a constant.\n",
      "[2] Standard Errors assume that the covariance matrix of the errors is correctly specified.\n"
     ]
    }
   ],
   "source": [
    "CustomLinearRegression(y1, fn1_nez).backward_elimination()"
   ],
   "metadata": {
    "collapsed": false,
    "ExecuteTime": {
     "start_time": "2023-04-13T19:52:50.047218Z",
     "end_time": "2023-04-13T19:52:50.070046Z"
    }
   }
  },
  {
   "cell_type": "markdown",
   "source": [
    "#### Конечная система уравнений и веса"
   ],
   "metadata": {
    "collapsed": false
   }
  },
  {
   "cell_type": "code",
   "execution_count": 186,
   "outputs": [
    {
     "data": {
      "text/plain": "x1    0.373605\nx2    0.315693\ndtype: float64"
     },
     "execution_count": 186,
     "metadata": {},
     "output_type": "execute_result"
    }
   ],
   "source": [
    "CustomLinearRegression(y1, pd.concat([x1], axis=1)).get_coefficients()"
   ],
   "metadata": {
    "collapsed": false,
    "ExecuteTime": {
     "start_time": "2023-04-13T19:53:20.208210Z",
     "end_time": "2023-04-13T19:53:20.227455Z"
    }
   }
  },
  {
   "cell_type": "markdown",
   "source": [
    "$$\\hat y_1 = -0.108983 + 0.0696987x_{1}$$"
   ],
   "metadata": {
    "collapsed": false
   }
  },
  {
   "cell_type": "markdown",
   "source": [
    "### Второе уравнение\n",
    "\n",
    "$$y_2 = a_2 + b_{21}x_{1} + b_{22}x_{2} + b_{23}x_{3} + b_{24}x_{4} + b_{25}x_{5} + b_{26}x_{6} + b_{27}x_{7} + b_{28}x_{8} + b_{29}x_{9} + \\epsilon$$"
   ],
   "metadata": {
    "collapsed": false
   }
  },
  {
   "cell_type": "markdown",
   "source": [
    "#### Исходная система уравнений"
   ],
   "metadata": {
    "collapsed": false
   }
  },
  {
   "cell_type": "code",
   "execution_count": 164,
   "outputs": [
    {
     "name": "stdout",
     "output_type": "stream",
     "text": [
      "                                 OLS Regression Results                                \n",
      "=======================================================================================\n",
      "Dep. Variable:                     y2   R-squared (uncentered):                   0.997\n",
      "Model:                            OLS   Adj. R-squared (uncentered):              0.996\n",
      "Method:                 Least Squares   F-statistic:                              684.7\n",
      "Date:                Thu, 13 Apr 2023   Prob (F-statistic):                    5.86e-19\n",
      "Time:                        19:52:38   Log-Likelihood:                          55.388\n",
      "No. Observations:                  25   AIC:                                     -92.78\n",
      "Df Residuals:                      16   BIC:                                     -81.81\n",
      "Df Model:                           9                                                  \n",
      "Covariance Type:            nonrobust                                                  \n",
      "==============================================================================\n",
      "                 coef    std err          t      P>|t|      [0.025      0.975]\n",
      "------------------------------------------------------------------------------\n",
      "x1             0.3704      0.198      1.869      0.080      -0.050       0.791\n",
      "x2             0.0266      0.050      0.535      0.600      -0.079       0.132\n",
      "x3            -0.1148      0.115     -0.998      0.333      -0.359       0.129\n",
      "x4             0.2966      0.184      1.615      0.126      -0.093       0.686\n",
      "x5             0.0687      0.041      1.657      0.117      -0.019       0.157\n",
      "x6             0.4743      0.271      1.752      0.099      -0.100       1.048\n",
      "x7            -0.0574      0.040     -1.442      0.169      -0.142       0.027\n",
      "x8             0.0808      0.111      0.725      0.479      -0.156       0.317\n",
      "x9            -0.0890      0.139     -0.641      0.530      -0.383       0.205\n",
      "==============================================================================\n",
      "Omnibus:                        4.273   Durbin-Watson:                   1.872\n",
      "Prob(Omnibus):                  0.118   Jarque-Bera (JB):                3.098\n",
      "Skew:                           0.211   Prob(JB):                        0.212\n",
      "Kurtosis:                       4.672   Cond. No.                         89.6\n",
      "==============================================================================\n",
      "\n",
      "Notes:\n",
      "[1] R² is computed without centering (uncentered) since the model does not contain a constant.\n",
      "[2] Standard Errors assume that the covariance matrix of the errors is correctly specified.\n"
     ]
    }
   ],
   "source": [
    "fn2_nez = pd.concat([x1, x2, x3, x4, x5, x6, x7, x8, x9], axis=1)\n",
    "CustomLinearRegression(y2, fn2_nez).summary()"
   ],
   "metadata": {
    "collapsed": false,
    "ExecuteTime": {
     "start_time": "2023-04-13T19:52:38.909444Z",
     "end_time": "2023-04-13T19:52:39.580328Z"
    }
   }
  },
  {
   "cell_type": "markdown",
   "source": [
    "#### Исходная система уравнений с выбором признаков методом обратного исключения"
   ],
   "metadata": {
    "collapsed": false
   }
  },
  {
   "cell_type": "code",
   "execution_count": 165,
   "outputs": [
    {
     "name": "stdout",
     "output_type": "stream",
     "text": [
      "                                 OLS Regression Results                                \n",
      "=======================================================================================\n",
      "Dep. Variable:                     y2   R-squared (uncentered):                   0.997\n",
      "Model:                            OLS   Adj. R-squared (uncentered):              0.996\n",
      "Method:                 Least Squares   F-statistic:                              2125.\n",
      "Date:                Thu, 13 Apr 2023   Prob (F-statistic):                    3.07e-27\n",
      "Time:                        19:52:38   Log-Likelihood:                          51.845\n",
      "No. Observations:                  25   AIC:                                     -97.69\n",
      "Df Residuals:                      22   BIC:                                     -94.03\n",
      "Df Model:                           3                                                  \n",
      "Covariance Type:            nonrobust                                                  \n",
      "==============================================================================\n",
      "                 coef    std err          t      P>|t|      [0.025      0.975]\n",
      "------------------------------------------------------------------------------\n",
      "x1             0.1931      0.036      5.292      0.000       0.117       0.269\n",
      "x6             0.8918      0.065     13.789      0.000       0.758       1.026\n",
      "x7            -0.0800      0.036     -2.247      0.035      -0.154      -0.006\n",
      "==============================================================================\n",
      "Omnibus:                        6.192   Durbin-Watson:                   2.162\n",
      "Prob(Omnibus):                  0.045   Jarque-Bera (JB):                5.498\n",
      "Skew:                          -0.443   Prob(JB):                       0.0640\n",
      "Kurtosis:                       5.120   Cond. No.                         10.6\n",
      "==============================================================================\n",
      "\n",
      "Notes:\n",
      "[1] R² is computed without centering (uncentered) since the model does not contain a constant.\n",
      "[2] Standard Errors assume that the covariance matrix of the errors is correctly specified.\n"
     ]
    }
   ],
   "source": [
    "CustomLinearRegression(y2, fn2_nez).backward_elimination()"
   ],
   "metadata": {
    "collapsed": false,
    "ExecuteTime": {
     "start_time": "2023-04-13T19:52:38.935285Z",
     "end_time": "2023-04-13T19:52:39.607026Z"
    }
   }
  },
  {
   "cell_type": "markdown",
   "source": [
    "#### Конечная система уравнений и веса"
   ],
   "metadata": {
    "collapsed": false
   }
  },
  {
   "cell_type": "code",
   "execution_count": 166,
   "outputs": [
    {
     "data": {
      "text/plain": "x1    0.193072\nx6    0.891791\nx7   -0.080006\ndtype: float64"
     },
     "execution_count": 166,
     "metadata": {},
     "output_type": "execute_result"
    }
   ],
   "source": [
    "CustomLinearRegression(y2, pd.concat([x1, x6, x7], axis=1)).get_coefficients()"
   ],
   "metadata": {
    "collapsed": false,
    "ExecuteTime": {
     "start_time": "2023-04-13T19:52:38.969295Z",
     "end_time": "2023-04-13T19:52:39.607436Z"
    }
   }
  },
  {
   "cell_type": "markdown",
   "source": [
    "$$\\hat y_2 = 0.006827 - 0.246224x_{1} + 1.155669x_{6} - 0.015849x_{7}$$\n",
    "\n",
    "$$\\hat y_2 = - 0.246224x_{1} + 1.155669x_{6} - 0.015849x_{7}$$\n"
   ],
   "metadata": {
    "collapsed": false
   }
  },
  {
   "cell_type": "markdown",
   "source": [
    "### Третье уравнение\n",
    "\n",
    "$$y_3 = a_3 + b_{31}x_{1} + b_{32}x_{2} + b_{33}x_{3} + b_{34}x_{4} + b_{35}x_{5} + b_{36}x_{6} + b_{37}x_{7} + b_{38}x_{8} + b_{39}x_{9} + b_{310}x_{10} + b_{311}x_{11} + \\epsilon$$"
   ],
   "metadata": {
    "collapsed": false
   }
  },
  {
   "cell_type": "markdown",
   "source": [
    "#### Исходная система уравнений"
   ],
   "metadata": {
    "collapsed": false
   }
  },
  {
   "cell_type": "code",
   "execution_count": 167,
   "outputs": [
    {
     "name": "stdout",
     "output_type": "stream",
     "text": [
      "                                 OLS Regression Results                                \n",
      "=======================================================================================\n",
      "Dep. Variable:                     y3   R-squared (uncentered):                   0.999\n",
      "Model:                            OLS   Adj. R-squared (uncentered):              0.998\n",
      "Method:                 Least Squares   F-statistic:                              1352.\n",
      "Date:                Thu, 13 Apr 2023   Prob (F-statistic):                    3.36e-19\n",
      "Time:                        19:52:38   Log-Likelihood:                          68.297\n",
      "No. Observations:                  25   AIC:                                     -114.6\n",
      "Df Residuals:                      14   BIC:                                     -101.2\n",
      "Df Model:                          11                                                  \n",
      "Covariance Type:            nonrobust                                                  \n",
      "==============================================================================\n",
      "                 coef    std err          t      P>|t|      [0.025      0.975]\n",
      "------------------------------------------------------------------------------\n",
      "x1             0.1702      0.141      1.206      0.248      -0.133       0.473\n",
      "x2            -0.0161      0.032     -0.498      0.626      -0.085       0.053\n",
      "x3             0.1606      0.075      2.149      0.050       0.000       0.321\n",
      "x4             0.2662      0.129      2.070      0.057      -0.010       0.542\n",
      "x5             0.0515      0.029      1.766      0.099      -0.011       0.114\n",
      "x6             0.0454      0.281      0.161      0.874      -0.558       0.649\n",
      "x7            -0.0241      0.027     -0.899      0.384      -0.082       0.033\n",
      "x8             0.0031      0.075      0.042      0.967      -0.158       0.164\n",
      "x9            -0.0261      0.096     -0.272      0.790      -0.232       0.180\n",
      "x10            0.3534      0.191      1.855      0.085      -0.055       0.762\n",
      "x11            0.0289      0.164      0.177      0.862      -0.322       0.380\n",
      "==============================================================================\n",
      "Omnibus:                        2.019   Durbin-Watson:                   2.331\n",
      "Prob(Omnibus):                  0.364   Jarque-Bera (JB):                1.221\n",
      "Skew:                           0.223   Prob(JB):                        0.543\n",
      "Kurtosis:                       2.013   Cond. No.                         137.\n",
      "==============================================================================\n",
      "\n",
      "Notes:\n",
      "[1] R² is computed without centering (uncentered) since the model does not contain a constant.\n",
      "[2] Standard Errors assume that the covariance matrix of the errors is correctly specified.\n"
     ]
    }
   ],
   "source": [
    "fn3_nez = pd.concat([x1, x2, x3, x4, x5, x6, x7, x8, x9, x10, x11], axis=1)\n",
    "CustomLinearRegression(y3, fn3_nez).summary()"
   ],
   "metadata": {
    "collapsed": false,
    "ExecuteTime": {
     "start_time": "2023-04-13T19:52:38.978557Z",
     "end_time": "2023-04-13T19:52:40.075678Z"
    }
   }
  },
  {
   "cell_type": "markdown",
   "source": [
    "#### Исходная система уравнений с выбором признаков методом обратного исключения"
   ],
   "metadata": {
    "collapsed": false
   }
  },
  {
   "cell_type": "code",
   "execution_count": 168,
   "outputs": [
    {
     "name": "stdout",
     "output_type": "stream",
     "text": [
      "                                 OLS Regression Results                                \n",
      "=======================================================================================\n",
      "Dep. Variable:                     y3   R-squared (uncentered):                   0.999\n",
      "Model:                            OLS   Adj. R-squared (uncentered):              0.999\n",
      "Method:                 Least Squares   F-statistic:                              3455.\n",
      "Date:                Thu, 13 Apr 2023   Prob (F-statistic):                    1.21e-28\n",
      "Time:                        19:52:39   Log-Likelihood:                          65.713\n",
      "No. Observations:                  25   AIC:                                     -121.4\n",
      "Df Residuals:                      20   BIC:                                     -115.3\n",
      "Df Model:                           5                                                  \n",
      "Covariance Type:            nonrobust                                                  \n",
      "==============================================================================\n",
      "                 coef    std err          t      P>|t|      [0.025      0.975]\n",
      "------------------------------------------------------------------------------\n",
      "x1             0.1919      0.071      2.692      0.014       0.043       0.341\n",
      "x3             0.1325      0.056      2.360      0.029       0.015       0.250\n",
      "x4             0.2846      0.089      3.189      0.005       0.098       0.471\n",
      "x5             0.0557      0.023      2.461      0.023       0.008       0.103\n",
      "x10            0.3611      0.088      4.122      0.001       0.178       0.544\n",
      "==============================================================================\n",
      "Omnibus:                        1.486   Durbin-Watson:                   1.945\n",
      "Prob(Omnibus):                  0.476   Jarque-Bera (JB):                1.076\n",
      "Skew:                           0.237   Prob(JB):                        0.584\n",
      "Kurtosis:                       2.101   Cond. No.                         41.2\n",
      "==============================================================================\n",
      "\n",
      "Notes:\n",
      "[1] R² is computed without centering (uncentered) since the model does not contain a constant.\n",
      "[2] Standard Errors assume that the covariance matrix of the errors is correctly specified.\n"
     ]
    }
   ],
   "source": [
    "CustomLinearRegression(y3, fn3_nez).backward_elimination()"
   ],
   "metadata": {
    "collapsed": false,
    "ExecuteTime": {
     "start_time": "2023-04-13T19:52:39.000228Z",
     "end_time": "2023-04-13T19:52:40.076206Z"
    }
   }
  },
  {
   "cell_type": "markdown",
   "source": [
    "#### Конечная система уравнений и веса"
   ],
   "metadata": {
    "collapsed": false
   }
  },
  {
   "cell_type": "code",
   "execution_count": 169,
   "outputs": [
    {
     "data": {
      "text/plain": "x1     0.420865\nx10    0.597156\ndtype: float64"
     },
     "execution_count": 169,
     "metadata": {},
     "output_type": "execute_result"
    }
   ],
   "source": [
    "CustomLinearRegression(y3, pd.concat([x1, x10], axis=1)).get_coefficients()"
   ],
   "metadata": {
    "collapsed": false,
    "ExecuteTime": {
     "start_time": "2023-04-13T19:52:39.054254Z",
     "end_time": "2023-04-13T19:52:40.076393Z"
    }
   }
  },
  {
   "cell_type": "markdown",
   "source": [
    "$$\\hat y_3 = 0.018786 - 0.026029x_{1} + 0.979811x_{10}$$"
   ],
   "metadata": {
    "collapsed": false
   }
  },
  {
   "cell_type": "code",
   "execution_count": 170,
   "outputs": [],
   "source": [
    "# from sklearn.decomposition import PCA\n",
    "# pca = PCA(n_components=2)\n",
    "# pca.fit(X)\n",
    "#\n",
    "# print(pca.explained_variance_ratio_)\n",
    "#\n",
    "# print(pca.singular_values_)"
   ],
   "metadata": {
    "collapsed": false,
    "ExecuteTime": {
     "start_time": "2023-04-13T19:52:39.063637Z",
     "end_time": "2023-04-13T19:52:40.076471Z"
    }
   }
  },
  {
   "cell_type": "markdown",
   "source": [
    "## Система рекурсивных уравнений\n",
    "\n",
    "$$\n",
    "\\begin{cases}\n",
    "y_1 = a_1 + b_{11}x_{1} + b_{12}x_{2} + \\epsilon \\\\\n",
    "y_2 = a_2 + a_{21}y_1 + b_{21}x_{3} + b_{22}x_{4} + b_{23}x_{5} + b_{24}x_{6} + b_{25}x_{7} + b_{26}x_{8} + b_{27}x_{9} + \\epsilon \\\\\n",
    "y_3 = a_3 + a_{31}y_1 + a_{32}y_2 + b_{31}x_{11} + \\epsilon \\\\\n",
    "\\end{cases}\n",
    "$$"
   ],
   "metadata": {
    "collapsed": false
   }
  },
  {
   "cell_type": "markdown",
   "source": [
    "### Первое уравнение\n",
    "\n",
    "$$y_1 = a_1 + b_{11}x_{1} + b_{12}x_{2} + \\epsilon$$"
   ],
   "metadata": {
    "collapsed": false
   }
  },
  {
   "cell_type": "markdown",
   "source": [
    "#### Исходная система уравнений"
   ],
   "metadata": {
    "collapsed": false
   }
  },
  {
   "cell_type": "code",
   "execution_count": 171,
   "outputs": [],
   "source": [
    "fn1_rec = pd.concat([x1, x2], axis=1)\n",
    "# CustomLinearRegression(y1, fn1_rec).summary()"
   ],
   "metadata": {
    "collapsed": false,
    "ExecuteTime": {
     "start_time": "2023-04-13T19:52:39.072188Z",
     "end_time": "2023-04-13T19:52:40.076536Z"
    }
   }
  },
  {
   "cell_type": "markdown",
   "source": [
    "#### Исходная система уравнений с выбором признаков методом обратного исключения"
   ],
   "metadata": {
    "collapsed": false
   }
  },
  {
   "cell_type": "code",
   "execution_count": 172,
   "outputs": [],
   "source": [
    "# CustomLinearRegression(y1, fn1_rec).backward_elimination()"
   ],
   "metadata": {
    "collapsed": false,
    "ExecuteTime": {
     "start_time": "2023-04-13T19:52:39.081543Z",
     "end_time": "2023-04-13T19:52:40.076608Z"
    }
   }
  },
  {
   "cell_type": "markdown",
   "source": [
    "#### Конечная система уравнений и веса"
   ],
   "metadata": {
    "collapsed": false
   }
  },
  {
   "cell_type": "code",
   "execution_count": 173,
   "outputs": [],
   "source": [
    "# CustomLinearRegression(y1, pd.concat([y1, y2], axis=1)).get_coefficients()"
   ],
   "metadata": {
    "collapsed": false,
    "ExecuteTime": {
     "start_time": "2023-04-13T19:52:39.085998Z",
     "end_time": "2023-04-13T19:52:40.076672Z"
    }
   }
  },
  {
   "cell_type": "markdown",
   "source": [
    "### Второе уравнение\n",
    "\n",
    "$$y_2 = a_2 + a_{21}y_1 + b_{21}x_{3} + b_{22}x_{4} + b_{23}x_{5} + b_{24}x_{6} + b_{25}x_{7} + b_{26}x_{8} + b_{27}x_{9} + \\epsilon$$"
   ],
   "metadata": {
    "collapsed": false
   }
  },
  {
   "cell_type": "markdown",
   "source": [
    "#### Исходная система уравнений"
   ],
   "metadata": {
    "collapsed": false
   }
  },
  {
   "cell_type": "code",
   "execution_count": 174,
   "outputs": [
    {
     "name": "stdout",
     "output_type": "stream",
     "text": [
      "                                 OLS Regression Results                                \n",
      "=======================================================================================\n",
      "Dep. Variable:                     y2   R-squared (uncentered):                   0.997\n",
      "Model:                            OLS   Adj. R-squared (uncentered):              0.996\n",
      "Method:                 Least Squares   F-statistic:                              578.3\n",
      "Date:                Thu, 13 Apr 2023   Prob (F-statistic):                    1.59e-17\n",
      "Time:                        19:52:39   Log-Likelihood:                          55.400\n",
      "No. Observations:                  25   AIC:                                     -90.80\n",
      "Df Residuals:                      15   BIC:                                     -78.61\n",
      "Df Model:                          10                                                  \n",
      "Covariance Type:            nonrobust                                                  \n",
      "==============================================================================\n",
      "                 coef    std err          t      P>|t|      [0.025      0.975]\n",
      "------------------------------------------------------------------------------\n",
      "y1            -0.0228      0.194     -0.118      0.908      -0.435       0.390\n",
      "x1             0.3631      0.214      1.697      0.110      -0.093       0.819\n",
      "x2             0.0253      0.052      0.484      0.636      -0.086       0.137\n",
      "x3            -0.1162      0.119     -0.973      0.346      -0.371       0.138\n",
      "x4             0.3075      0.211      1.458      0.165      -0.142       0.757\n",
      "x5             0.0708      0.046      1.530      0.147      -0.028       0.169\n",
      "x6             0.4891      0.306      1.597      0.131      -0.164       1.142\n",
      "x7            -0.0569      0.041     -1.375      0.189      -0.145       0.031\n",
      "x8             0.0810      0.115      0.704      0.492      -0.164       0.326\n",
      "x9            -0.0854      0.146     -0.583      0.568      -0.397       0.227\n",
      "==============================================================================\n",
      "Omnibus:                        4.335   Durbin-Watson:                   1.908\n",
      "Prob(Omnibus):                  0.114   Jarque-Bera (JB):                3.225\n",
      "Skew:                           0.191   Prob(JB):                        0.199\n",
      "Kurtosis:                       4.718   Cond. No.                         95.5\n",
      "==============================================================================\n",
      "\n",
      "Notes:\n",
      "[1] R² is computed without centering (uncentered) since the model does not contain a constant.\n",
      "[2] Standard Errors assume that the covariance matrix of the errors is correctly specified.\n"
     ]
    }
   ],
   "source": [
    "fn2_rec = pd.concat([y1, x1, x2, x3, x4, x5, x6, x7, x8, x9], axis=1)\n",
    "CustomLinearRegression(y2, fn2_rec).summary()"
   ],
   "metadata": {
    "collapsed": false,
    "ExecuteTime": {
     "start_time": "2023-04-13T19:52:39.093341Z",
     "end_time": "2023-04-13T19:52:40.076968Z"
    }
   }
  },
  {
   "cell_type": "markdown",
   "source": [
    "#### Исходная система уравнений с выбором признаков методом обратного исключения"
   ],
   "metadata": {
    "collapsed": false
   }
  },
  {
   "cell_type": "code",
   "execution_count": 175,
   "outputs": [
    {
     "name": "stdout",
     "output_type": "stream",
     "text": [
      "                                 OLS Regression Results                                \n",
      "=======================================================================================\n",
      "Dep. Variable:                     y2   R-squared (uncentered):                   0.997\n",
      "Model:                            OLS   Adj. R-squared (uncentered):              0.996\n",
      "Method:                 Least Squares   F-statistic:                              1635.\n",
      "Date:                Thu, 13 Apr 2023   Prob (F-statistic):                    7.34e-26\n",
      "Time:                        19:52:39   Log-Likelihood:                          52.737\n",
      "No. Observations:                  25   AIC:                                     -97.47\n",
      "Df Residuals:                      21   BIC:                                     -92.60\n",
      "Df Model:                           4                                                  \n",
      "Covariance Type:            nonrobust                                                  \n",
      "==============================================================================\n",
      "                 coef    std err          t      P>|t|      [0.025      0.975]\n",
      "------------------------------------------------------------------------------\n",
      "y1             0.1597      0.128      1.246      0.226      -0.107       0.426\n",
      "x1             0.2299      0.047      4.934      0.000       0.133       0.327\n",
      "x6             0.7086      0.160      4.421      0.000       0.375       1.042\n",
      "x7            -0.0772      0.035     -2.191      0.040      -0.150      -0.004\n",
      "==============================================================================\n",
      "Omnibus:                        4.845   Durbin-Watson:                   1.826\n",
      "Prob(Omnibus):                  0.089   Jarque-Bera (JB):                4.057\n",
      "Skew:                           0.182   Prob(JB):                        0.132\n",
      "Kurtosis:                       4.940   Cond. No.                         31.7\n",
      "==============================================================================\n",
      "\n",
      "Notes:\n",
      "[1] R² is computed without centering (uncentered) since the model does not contain a constant.\n",
      "[2] Standard Errors assume that the covariance matrix of the errors is correctly specified.\n"
     ]
    }
   ],
   "source": [
    "CustomLinearRegression(y2, fn2_rec).backward_elimination(start=2)"
   ],
   "metadata": {
    "collapsed": false,
    "ExecuteTime": {
     "start_time": "2023-04-13T19:52:39.114220Z",
     "end_time": "2023-04-13T19:52:40.077229Z"
    }
   }
  },
  {
   "cell_type": "markdown",
   "source": [
    "#### Конечная система уравнений и веса"
   ],
   "metadata": {
    "collapsed": false
   }
  },
  {
   "cell_type": "code",
   "execution_count": 176,
   "outputs": [
    {
     "data": {
      "text/plain": "y1    1.000000e+00\nx1    1.335737e-16\nx6    0.000000e+00\nx7   -1.387779e-16\ndtype: float64"
     },
     "execution_count": 176,
     "metadata": {},
     "output_type": "execute_result"
    }
   ],
   "source": [
    "CustomLinearRegression(y1, pd.concat([y1, x1, x6, x7], axis=1)).get_coefficients()"
   ],
   "metadata": {
    "collapsed": false,
    "ExecuteTime": {
     "start_time": "2023-04-13T19:52:39.140560Z",
     "end_time": "2023-04-13T19:52:40.077361Z"
    }
   }
  },
  {
   "cell_type": "markdown",
   "source": [
    "### Третье уравнение\n",
    "\n",
    "$$y_3 = a_3 + a_{31}y_1 + a_{32}y_2 + b_{31}x_{11} + \\epsilon$$"
   ],
   "metadata": {
    "collapsed": false
   }
  },
  {
   "cell_type": "markdown",
   "source": [
    "#### Исходная система уравнений"
   ],
   "metadata": {
    "collapsed": false
   }
  },
  {
   "cell_type": "code",
   "execution_count": 177,
   "outputs": [
    {
     "name": "stdout",
     "output_type": "stream",
     "text": [
      "                                 OLS Regression Results                                \n",
      "=======================================================================================\n",
      "Dep. Variable:                     y3   R-squared (uncentered):                   0.997\n",
      "Model:                            OLS   Adj. R-squared (uncentered):              0.996\n",
      "Method:                 Least Squares   F-statistic:                              2142.\n",
      "Date:                Thu, 13 Apr 2023   Prob (F-statistic):                    2.82e-27\n",
      "Time:                        19:52:39   Log-Likelihood:                          52.186\n",
      "No. Observations:                  25   AIC:                                     -98.37\n",
      "Df Residuals:                      22   BIC:                                     -94.71\n",
      "Df Model:                           3                                                  \n",
      "Covariance Type:            nonrobust                                                  \n",
      "==============================================================================\n",
      "                 coef    std err          t      P>|t|      [0.025      0.975]\n",
      "------------------------------------------------------------------------------\n",
      "y1             0.0707      0.078      0.901      0.377      -0.092       0.233\n",
      "y2             0.6051      0.189      3.203      0.004       0.213       0.997\n",
      "x11            0.3053      0.149      2.052      0.052      -0.003       0.614\n",
      "==============================================================================\n",
      "Omnibus:                        1.393   Durbin-Watson:                   1.062\n",
      "Prob(Omnibus):                  0.498   Jarque-Bera (JB):                1.212\n",
      "Skew:                          -0.380   Prob(JB):                        0.546\n",
      "Kurtosis:                       2.235   Cond. No.                         32.4\n",
      "==============================================================================\n",
      "\n",
      "Notes:\n",
      "[1] R² is computed without centering (uncentered) since the model does not contain a constant.\n",
      "[2] Standard Errors assume that the covariance matrix of the errors is correctly specified.\n"
     ]
    }
   ],
   "source": [
    "fn3_rec = pd.concat([y1, y2, x11], axis=1)\n",
    "CustomLinearRegression(y3, fn3_rec).summary()"
   ],
   "metadata": {
    "collapsed": false,
    "ExecuteTime": {
     "start_time": "2023-04-13T19:52:39.152352Z",
     "end_time": "2023-04-13T19:52:40.077619Z"
    }
   }
  },
  {
   "cell_type": "markdown",
   "source": [
    "#### Исходная система уравнений с выбором признаков методом обратного исключения"
   ],
   "metadata": {
    "collapsed": false
   }
  },
  {
   "cell_type": "code",
   "execution_count": 178,
   "outputs": [
    {
     "name": "stdout",
     "output_type": "stream",
     "text": [
      "                                 OLS Regression Results                                \n",
      "=======================================================================================\n",
      "Dep. Variable:                     y3   R-squared (uncentered):                   0.996\n",
      "Model:                            OLS   Adj. R-squared (uncentered):              0.996\n",
      "Method:                 Least Squares   F-statistic:                              5866.\n",
      "Date:                Thu, 13 Apr 2023   Prob (F-statistic):                    3.38e-30\n",
      "Time:                        19:52:39   Log-Likelihood:                          49.969\n",
      "No. Observations:                  25   AIC:                                     -97.94\n",
      "Df Residuals:                      24   BIC:                                     -96.72\n",
      "Df Model:                           1                                                  \n",
      "Covariance Type:            nonrobust                                                  \n",
      "==============================================================================\n",
      "                 coef    std err          t      P>|t|      [0.025      0.975]\n",
      "------------------------------------------------------------------------------\n",
      "y2             0.9882      0.013     76.592      0.000       0.962       1.015\n",
      "==============================================================================\n",
      "Omnibus:                        4.558   Durbin-Watson:                   1.295\n",
      "Prob(Omnibus):                  0.102   Jarque-Bera (JB):                2.965\n",
      "Skew:                          -0.814   Prob(JB):                        0.227\n",
      "Kurtosis:                       3.441   Cond. No.                         1.00\n",
      "==============================================================================\n",
      "\n",
      "Notes:\n",
      "[1] R² is computed without centering (uncentered) since the model does not contain a constant.\n",
      "[2] Standard Errors assume that the covariance matrix of the errors is correctly specified.\n"
     ]
    }
   ],
   "source": [
    "CustomLinearRegression(y3, fn3_rec).backward_elimination()"
   ],
   "metadata": {
    "collapsed": false,
    "ExecuteTime": {
     "start_time": "2023-04-13T19:52:39.167585Z",
     "end_time": "2023-04-13T19:52:40.093979Z"
    }
   }
  },
  {
   "cell_type": "markdown",
   "source": [
    "#### Конечная система уравнений и веса"
   ],
   "metadata": {
    "collapsed": false
   }
  },
  {
   "cell_type": "code",
   "execution_count": 179,
   "outputs": [
    {
     "name": "stdout",
     "output_type": "stream",
     "text": [
      "                                 OLS Regression Results                                \n",
      "=======================================================================================\n",
      "Dep. Variable:                     y3   R-squared (uncentered):                   0.996\n",
      "Model:                            OLS   Adj. R-squared (uncentered):              0.996\n",
      "Method:                 Least Squares   F-statistic:                              5866.\n",
      "Date:                Thu, 13 Apr 2023   Prob (F-statistic):                    3.38e-30\n",
      "Time:                        19:52:39   Log-Likelihood:                          49.969\n",
      "No. Observations:                  25   AIC:                                     -97.94\n",
      "Df Residuals:                      24   BIC:                                     -96.72\n",
      "Df Model:                           1                                                  \n",
      "Covariance Type:            nonrobust                                                  \n",
      "==============================================================================\n",
      "                 coef    std err          t      P>|t|      [0.025      0.975]\n",
      "------------------------------------------------------------------------------\n",
      "y2             0.9882      0.013     76.592      0.000       0.962       1.015\n",
      "==============================================================================\n",
      "Omnibus:                        4.558   Durbin-Watson:                   1.295\n",
      "Prob(Omnibus):                  0.102   Jarque-Bera (JB):                2.965\n",
      "Skew:                          -0.814   Prob(JB):                        0.227\n",
      "Kurtosis:                       3.441   Cond. No.                         1.00\n",
      "==============================================================================\n",
      "\n",
      "Notes:\n",
      "[1] R² is computed without centering (uncentered) since the model does not contain a constant.\n",
      "[2] Standard Errors assume that the covariance matrix of the errors is correctly specified.\n"
     ]
    }
   ],
   "source": [
    "CustomLinearRegression(y3, pd.concat([y2], axis=1)).summary()"
   ],
   "metadata": {
    "collapsed": false,
    "ExecuteTime": {
     "start_time": "2023-04-13T19:52:39.198087Z",
     "end_time": "2023-04-13T19:52:40.094233Z"
    }
   }
  },
  {
   "cell_type": "code",
   "execution_count": 180,
   "outputs": [
    {
     "data": {
      "text/plain": "y1    0.018164\ny2    0.974532\ndtype: float64"
     },
     "execution_count": 180,
     "metadata": {},
     "output_type": "execute_result"
    }
   ],
   "source": [
    "CustomLinearRegression(y3, pd.concat([y1, y2], axis=1)).get_coefficients()"
   ],
   "metadata": {
    "collapsed": false,
    "ExecuteTime": {
     "start_time": "2023-04-13T19:52:39.205784Z",
     "end_time": "2023-04-13T19:52:40.094401Z"
    }
   }
  },
  {
   "cell_type": "code",
   "execution_count": 181,
   "outputs": [
    {
     "data": {
      "text/plain": "y2    0.988215\ndtype: float64"
     },
     "execution_count": 181,
     "metadata": {},
     "output_type": "execute_result"
    }
   ],
   "source": [
    "CustomLinearRegression(y3, pd.concat([y2], axis=1)).get_coefficients()"
   ],
   "metadata": {
    "collapsed": false,
    "ExecuteTime": {
     "start_time": "2023-04-13T19:52:39.212558Z",
     "end_time": "2023-04-13T19:52:40.094555Z"
    }
   }
  },
  {
   "cell_type": "code",
   "execution_count": 182,
   "outputs": [
    {
     "data": {
      "text/plain": "<Axes: xlabel='y3', ylabel='y2'>"
     },
     "execution_count": 182,
     "metadata": {},
     "output_type": "execute_result"
    },
    {
     "data": {
      "text/plain": "<Figure size 640x480 with 1 Axes>",
      "image/png": "[encoded data removed]"
     },
     "metadata": {},
     "output_type": "display_data"
    }
   ],
   "source": [
    "sns.scatterplot(x=y3, y=y2)"
   ],
   "metadata": {
    "collapsed": false,
    "ExecuteTime": {
     "start_time": "2023-04-13T19:52:39.224578Z",
     "end_time": "2023-04-13T19:52:40.098429Z"
    }
   }
  },
  {
   "cell_type": "code",
   "execution_count": 182,
   "outputs": [],
   "source": [],
   "metadata": {
    "collapsed": false,
    "ExecuteTime": {
     "start_time": "2023-04-13T19:52:39.407959Z",
     "end_time": "2023-04-13T19:52:40.098531Z"
    }
   }
  }
 ],
 "metadata": {
  "kernelspec": {
   "display_name": "Python 3",
   "language": "python",
   "name": "python3"
  },
  "language_info": {
   "codemirror_mode": {
    "name": "ipython",
    "version": 2
   },
   "file_extension": ".py",
   "mimetype": "text/x-python",
   "name": "python",
   "nbconvert_exporter": "python",
   "pygments_lexer": "ipython2",
   "version": "2.7.6"
  }
 },
 "nbformat": 4,
 "nbformat_minor": 0
}
