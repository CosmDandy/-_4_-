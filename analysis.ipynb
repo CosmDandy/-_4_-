{
 "cells": [
  {
   "cell_type": "code",
   "execution_count": null,
   "metadata": {
    "ExecuteTime": {
     "end_time": "2023-05-05T14:50:38.879974Z",
     "start_time": "2023-05-05T14:50:38.279159Z"
    }
   },
   "outputs": [],
   "source": [
    "# Python 3.11.2\n",
    "# %pip install -r requriments.txt\n",
    "\n",
    "# Python 3.10.10\n",
    "# %conda install --file requriments.txt\n",
    "# %conda create --name PD --file file.txt"
   ]
  },
  {
   "cell_type": "code",
   "execution_count": null,
   "metadata": {
    "ExecuteTime": {
     "end_time": "2023-05-05T14:50:42.616148Z",
     "start_time": "2023-05-05T14:50:38.283467Z"
    }
   },
   "outputs": [],
   "source": [
    "from IPython.display import Image\n",
    "\n",
    "# Импорт библиотек для работы с данными\n",
    "import pandas as pd\n",
    "import numpy as np\n",
    "import scipy.stats as stats\n",
    "\n",
    "# Импорт библиотек для визуализации данных\n",
    "from plotly.subplots import make_subplots\n",
    "import plotly.graph_objects as go\n",
    "import plotly.express as px\n",
    "\n",
    "# Импорт библиотек для пред обработки данных\n",
    "from sklearn.preprocessing import MaxAbsScaler, RobustScaler\n",
    "from sklearn import preprocessing\n",
    "\n",
    "# Импорт библиотек для отбора признаков\n",
    "from sklearn.feature_selection import RFE, RFECV, SelectFromModel, SelectFpr, chi2\n",
    "\n",
    "# Импорт библиотек для валидации и кросс-валидации\n",
    "from sklearn.model_selection import train_test_split\n",
    "from sklearn.model_selection import KFold\n",
    "from sklearn.model_selection import LeaveOneOut\n",
    "from sklearn.model_selection import LeavePOut\n",
    "from sklearn.model_selection import StratifiedKFold\n",
    "from sklearn.model_selection import RepeatedKFold\n",
    "from sklearn.model_selection import cross_val_score\n",
    "from sklearn.model_selection import cross_validate\n",
    "\n",
    "# Импорт библиотек линейной регрессии\n",
    "import statsmodels.api as sm\n",
    "from statsmodels.discrete.discrete_model import Poisson\n",
    "from statsmodels.regression.recursive_ls import RecursiveLS\n",
    "from statsmodels.regression.linear_model import OLS, GLS, GLSAR, WLS\n",
    "from sklearn.linear_model import Ridge, Lasso, ElasticNet, SGDRegressor\n",
    "from sklearn.linear_model import LinearRegression, Ridge, Lasso, ElasticNet, SGDRegressor\n",
    "\n",
    "# Импорт библиотек для машинного обучения\n",
    "from sklearn.linear_model import LogisticRegression\n",
    "from sklearn.svm import SVC, LinearSVC\n",
    "from sklearn.ensemble import RandomForestClassifier\n",
    "from sklearn.neighbors import KNeighborsClassifier\n",
    "from sklearn.naive_bayes import GaussianNB\n",
    "from sklearn.linear_model import Perceptron\n",
    "from sklearn.linear_model import SGDClassifier\n",
    "from sklearn.tree import DecisionTreeClassifier\n",
    "\n",
    "# Импорт библиотек для оценки качества моделей\n",
    "from sklearn.metrics import r2_score, mean_absolute_error, mean_squared_error"
   ]
  },
  {
   "attachments": {},
   "cell_type": "markdown",
   "metadata": {
    "collapsed": false
   },
   "source": [
    "# Анализ экономики Москвы через построение и оценку параметров систем независимых, регрессионных и одновременных уравнений.\n",
    "\n",
    "## Введение\n",
    "Анализ экономики Москвы является важной задачей, которая требует построения и оценки параметров систем независимых, регрессионных и одновременных уравнений. Это позволяет получить более точное представление о взаимосвязях и влиянии различных факторов на экономические показатели города. Такой анализ может быть полезен для принятия решений в различных сферах, таких как инвестиции, управление городской инфраструктурой, развитие бизнеса и других. В данной работе мы рассмотрим методы построения и оценки параметров систем уравнений, которые могут быть применены для анализа экономики Москвы и помогут получить более глубокое понимание экономической ситуации в городе.\n",
    "\n",
    "## Цель работы\n",
    "Целью данной работы является анализ экономики Москвы через построение и оценку параметров систем независимых, регрессионных и одновременных уравнений.\n",
    "\n",
    "## Задачи работы\n",
    "Для достижения поставленной цели необходимо решить следующие задачи:\n",
    "- Провести предварительный анализ данных, визуализировать их, выявить и устранить выбросы, пропуски и аномалии.\n",
    "- Построить систему независимых уравнений, оценить параметры уравнений системы, проанализировать их значимость и провести отбор признаков.\n",
    "- Построить систему регрессионных уравнений, оценить параметры уравнений системы, проанализировать их значимость и провести отбор признаков.\n",
    "- Построить систему одновременных уравнений, оценить параметры уравнений системы, проанализировать их значимость и провести отбор признаков.\n",
    "- Сравнить результаты оценки параметров систем независимых, регрессионных и одновременных уравнений.\n",
    "- Сделать выводы по результатам проведенного анализа.\n",
    "\n",
    "## Методы исследования\n",
    "Для решения поставленных задач будут использованы следующие методы:\n",
    "- Методы визуализации данных (гистограммы, диаграммы рассеяния, диаграммы корреляции, диаграммы боксплот, диаграммы виолончели)\n",
    "- Методы предобработки данных (заполнение пропусков, удаление выбросов, нормализация данных)\n",
    "- Методы отбора признаков (обратное и прямое исключение признаков)\n",
    "- Методы валидации и кросс-валидации (hold-out, k-fold, leave-one-out, leave-p-out, repeated k-fold)\n",
    "- Методы линейной регрессии (OLS, GLS, GLSAR, WLS, RecursiveLS, Poisson)\n",
    "- Методы машинного обучения (линейная регрессия, регрессия с регуляризацией, логистическая регрессия, метод опорных векторов, метод ближайших соседей, наивный байесовский классификатор, дерево решений, случайный лес, персептрон, градиентный спуск)\n",
    "- Методы оценки качества моделей (R2, MAE, MSE)"
   ]
  },
  {
   "attachments": {},
   "cell_type": "markdown",
   "metadata": {},
   "source": [
    "# Предварительный анализ и обработка данных\n",
    "\n",
    "Прежде чем приступать к построению и оценке параметров систем независимых, регрессионных и одновременных уравнений, необходимо провести предварительный анализ данных, визуализировать их, выявить и устранить выбросы, пропуски и аномалии. Для этого загрузим данные и посмотрим на них. Для визуализации данных будем использовать библиотеку plotly express, а для работы с данными - библиотеку pandas."
   ]
  },
  {
   "attachments": {},
   "cell_type": "markdown",
   "metadata": {},
   "source": [
    "## Загрузка данных"
   ]
  },
  {
   "cell_type": "code",
   "execution_count": null,
   "metadata": {
    "ExecuteTime": {
     "end_time": "2023-05-05T14:50:42.639962Z",
     "start_time": "2023-05-05T14:50:42.619475Z"
    }
   },
   "outputs": [],
   "source": [
    "# Загрузка данных с помощью pandas из файла csv\n",
    "data = pd.read_csv(\"input/data.csv\", delimiter=\";\")\n",
    "\n",
    "# Заранее объявим столбец с годом так как он понадобится нам позже\n",
    "year = data['Год']\n",
    "\n",
    "# Просмотр первых 5 строк данных\n",
    "data.head()"
   ]
  },
  {
   "attachments": {},
   "cell_type": "markdown",
   "metadata": {
    "collapsed": false
   },
   "source": [
    "Наши данные содержат следующие признаки:\n",
    "\n",
    "- Год - год, в котором были собраны данные\n",
    "\n",
    "Зависимые переменные:\n",
    "- $y_1$ - инвестиции в основной капитал, млн руб.\n",
    "- $y_2$ - валовой региональный продукт (ВРП), млн.руб.\n",
    "- $y_3$ - сумма доходов населения за год, млн руб.\n",
    "\n",
    "Независимые переменные:\n",
    "- $x_1$ - финансовый результат деятельности (чистая прибыль)\n",
    "- $x_2$ - прямые иностранные инвестиции, млн USD\n",
    "- $x_3$ - среднегодовая численности занятых, тыс чел.\n",
    "- $x_4$ - стоимость основных фондов, млн. руб\n",
    "- $x_5$ - степень износа основных фондов, %\n",
    "- $x_6$ - затраты на научные исследования и разработки, млн руб.\n",
    "- $x_7$ - объём инновационных товаров работ услуг, млн руб.\n",
    "- $x_8$ - экспорт, млн USD\n",
    "- $x_9$ - импорт, млн. USD\n",
    "- $x_{10}$ - сумма остатков вкладов на счетах в Банке России, млн. руб.\n",
    "- $x_{11}$ - прожиточный минимум в регионе РФ (г. Москва), тыс.руб."
   ]
  },
  {
   "cell_type": "code",
   "execution_count": null,
   "metadata": {
    "ExecuteTime": {
     "end_time": "2023-05-05T14:50:42.666953Z",
     "start_time": "2023-05-05T14:50:42.640997Z"
    },
    "collapsed": false
   },
   "outputs": [],
   "source": [
    "data.shape"
   ]
  },
  {
   "attachments": {},
   "cell_type": "markdown",
   "metadata": {
    "collapsed": false
   },
   "source": [
    "На данном этапе мы видим, что в наших данных 15 признаков (включая год) и 25 наблюдение."
   ]
  },
  {
   "attachments": {},
   "cell_type": "markdown",
   "metadata": {
    "collapsed": false
   },
   "source": [
    "## Изучение данных на наличие пропусков, нулевых значений и ошибок измерений\n",
    "\n",
    "Посмотрим имеются ли в данных пропуски и нулевые значения. Для этого воспользуемся методом isna() и sum()."
   ]
  },
  {
   "cell_type": "code",
   "execution_count": null,
   "metadata": {
    "ExecuteTime": {
     "end_time": "2023-05-05T14:50:42.667215Z",
     "start_time": "2023-05-05T14:50:42.644031Z"
    },
    "collapsed": false
   },
   "outputs": [],
   "source": [
    "pd.concat([data.isna().sum(), data.isnull().sum()], axis=1, keys=['isna', 'isnull'])"
   ]
  },
  {
   "attachments": {},
   "cell_type": "markdown",
   "metadata": {
    "collapsed": false
   },
   "source": [
    "Пропусков и нулевых значений в данных нет, так как нами заранее была проведена очистка и обработка данных на которую мы потратили достаточно много времени.\n",
    "\n",
    "Подробно на этом этапе мы останавливаться не будем, так как это не является целью данной работы. Если обобщить, то при обработке данных были удалены ненужные признаки, а также были заполнены пропуски, удалены выбросы и аномалии, исправлены ошибки измерения.\n",
    "\n",
    "Далее опишем функцию, которая поможет нам визуализировать все имеющиеся данные, а так же является мощным инструментом для поиска ошибок измерения (по графикам рассеяния можно увидеть наличие выбросов и аномалий).\n",
    "\n",
    "Функция ```combine_scatter_plots``` строит графики рассеяния для каждой пары признаков в наборе данных. Это позволяет нам визуально оценить наличие ошибок измерений. Если ошибок нет, то точки на графике должны располагаться вблизи линии тренда. Если же точки расположены вдали от линии тренда, то это может говорить о наличии ошибок измерений. В таком случае необходимо исключить из набора данных некорректные значения."
   ]
  },
  {
   "cell_type": "code",
   "execution_count": null,
   "metadata": {
    "ExecuteTime": {
     "end_time": "2023-05-05T14:50:42.667405Z",
     "start_time": "2023-05-05T14:50:42.653503Z"
    },
    "collapsed": false
   },
   "outputs": [],
   "source": [
    "def combine_scatter_plots(height=1000, width=1100, isyear=True):\n",
    "    fig = make_subplots(rows=5, cols=3)\n",
    "    data_copy = data.copy()\n",
    "    if isyear:\n",
    "        data_copy.drop('Год', axis=1, inplace=True)\n",
    "    for i, column in enumerate(data_copy.columns.values):\n",
    "        if 0 <= i < 3:\n",
    "            row, col = 1, i + 1\n",
    "        elif 3 <= i < 6:\n",
    "            row, col = 2, i + 1 - 3\n",
    "        elif 6 <= i < 9:\n",
    "            row, col = 3, i + 1 - 6\n",
    "        elif 9 <= i < 12:\n",
    "            row, col = 4, i + 1 - 9\n",
    "        else:\n",
    "            row, col = 5, i + 1 - 12\n",
    "\n",
    "        if 0 <= i < 3:\n",
    "            fig.add_trace(go.Scatter(y=data_copy[f'y{i + 1}'], x=year, name=column), row=row, col=col)\n",
    "        else:\n",
    "            fig.add_trace(go.Scatter(y=data_copy[f'x{i - 2}'], x=year, name=column), row=row, col=col)\n",
    "    fig.update_layout(height=height, width=width, title_text=\"Зависимость признаков от времени\")\n",
    "    fig.show()"
   ]
  },
  {
   "cell_type": "code",
   "execution_count": null,
   "metadata": {
    "ExecuteTime": {
     "end_time": "2023-05-05T14:50:43.014779Z",
     "start_time": "2023-05-05T14:50:42.658747Z"
    },
    "collapsed": false
   },
   "outputs": [],
   "source": [
    "combine_scatter_plots()"
   ]
  },
  {
   "attachments": {},
   "cell_type": "markdown",
   "metadata": {
    "collapsed": false
   },
   "source": [
    "На графиках рассеяния видно, что в большинстве случаев точки расположены вблизи линии тренда (к примеру $y_1$, $y_2$), что говорит об отсутствии ошибок измерений, но есть несколько признаков с достаточно сильным отклонением (к примеру $x_2$, $x_5$), несмотря на это мы не будем их удалять, так как в этих случаях данные и правда являются корректными."
   ]
  },
  {
   "attachments": {},
   "cell_type": "markdown",
   "metadata": {
    "collapsed": false
   },
   "source": [
    "## Проверка данных на наличие выбросов и изучение распределения данных\n",
    "\n",
    "Нахождение выбросов - это один из методов анализа данных, который используется для выявления аномальных значений в наборе данных. Выбросы могут возникать из-за ошибок в данных, случайных вариаций или из-за наличия редких, но реальных экстремальных значений.\n",
    "\n",
    "Существует несколько методов нахождения выбросов, в том числе метод Z-оценки и метод межквартильного размаха (IQR)."
   ]
  },
  {
   "attachments": {},
   "cell_type": "markdown",
   "metadata": {
    "collapsed": false
   },
   "source": [
    "**Межквартильный размах (IQR)**\n",
    "\n",
    "Метод межквартильного размаха (IQR) основан на вычислении интерквартильного размаха - разницы между 75-перцентилью и 25-перцентилем. Затем определяется верхняя и нижняя границы выбросов, которые определяются как 1,5 межквартильных размаха за пределами верхнего и нижнего квартилей.\n",
    "\n",
    "$$(Q_1 - 1.5 \\cdot IQR, Q_3 + 1.5 \\cdot IQR)$$"
   ]
  },
  {
   "cell_type": "code",
   "execution_count": null,
   "metadata": {
    "ExecuteTime": {
     "end_time": "2023-05-05T14:50:43.015005Z",
     "start_time": "2023-05-05T14:50:42.911998Z"
    },
    "collapsed": false
   },
   "outputs": [],
   "source": [
    "# Находим Первый квартиль (Q1) и Третий квартиль (Q3) и рассчитываем межквартильный размах\n",
    "Q1 = data.quantile(q=.25)\n",
    "Q3 = data.quantile(q=.75)\n",
    "IQR = data.apply(stats.iqr)\n",
    "\n",
    "# Оставляем только те значения, которые больше нижней границы и меньше верхней границы.\n",
    "data_clean = data[~((data < (Q1 - 1.5 * IQR)) | (data > (Q3 + 1.5 * IQR))).any(axis=1)]\n",
    "data_clean.shape"
   ]
  },
  {
   "attachments": {},
   "cell_type": "markdown",
   "metadata": {
    "collapsed": false
   },
   "source": [
    "**Z-оценка**\n",
    "\n",
    "Метод Z-оценки основан на расчете Z-оценки для каждого значения в наборе данных и проверке, насколько далеко каждое значение от среднего значения. Значения, которые находятся на расстоянии больше чем три стандартных отклонения от среднего, могут быть считаны выбросами.\n",
    "\n",
    "$$z = \\frac{x - \\mu}{\\sigma}$$"
   ]
  },
  {
   "cell_type": "code",
   "execution_count": null,
   "metadata": {
    "ExecuteTime": {
     "end_time": "2023-05-05T14:50:43.015110Z",
     "start_time": "2023-05-05T14:50:42.912154Z"
    },
    "collapsed": false
   },
   "outputs": [],
   "source": [
    "z = np.abs(stats.zscore(data))\n",
    "data_clean = data[(z < 3).all(axis=1)]\n",
    "data_clean.shape"
   ]
  },
  {
   "attachments": {},
   "cell_type": "markdown",
   "metadata": {
    "collapsed": false
   },
   "source": [
    "В результате проверки на наличие выбросов мы получили исходный набор данных. Это говорит нам о том что выбросов в данных найденно не было."
   ]
  },
  {
   "cell_type": "code",
   "execution_count": null,
   "metadata": {
    "ExecuteTime": {
     "end_time": "2023-05-05T14:50:43.015212Z",
     "start_time": "2023-05-05T14:50:42.912234Z"
    },
    "collapsed": false
   },
   "outputs": [],
   "source": [
    "# Заменяем исходный набор данных на очищенный\n",
    "data = data_clean"
   ]
  },
  {
   "attachments": {},
   "cell_type": "markdown",
   "metadata": {
    "collapsed": false
   },
   "source": [
    "Еще одним мощными инстурментом для проверки данных на наличие выбросов и аномалий являются ящиковые диаграммы и диаграммы скрипок. Построим их для каждого признака в наборе данных. Для этого реализуем функции ```combine_box_plots``` и ```combine_violin_plots```.\n",
    "\n",
    "Функция combine_box_plots строит ящиковые диаграммы для каждого признака в наборе данных, где значения признака разбиваются на квартили и представляются в виде ящика. Ящик показывает границы первого и третьего квартилей, а также медиану. Черта внутри ящика показывает медиану, а концы усов - границы первого и третьего квартилей. Точки, выходящие за границы усов, считаются выбросами. Также на графике отображаются все значения признака."
   ]
  },
  {
   "cell_type": "code",
   "execution_count": null,
   "metadata": {
    "ExecuteTime": {
     "end_time": "2023-05-05T14:50:43.015384Z",
     "start_time": "2023-05-05T14:50:42.912346Z"
    },
    "collapsed": false
   },
   "outputs": [],
   "source": [
    "# Построение графиков\n",
    "def combine_box_plots(height=1000, width=1100):\n",
    "    fig = make_subplots(rows=5, cols=3)\n",
    "    data_copy = data.copy()\n",
    "    data_copy.drop('Год', axis=1, inplace=True)\n",
    "    for i, column in enumerate(data_copy.columns.values):\n",
    "        if 0 <= i < 3:\n",
    "            row, col = 1, i + 1\n",
    "        elif 3 <= i < 6:\n",
    "            row, col = 2, i + 1 - 3\n",
    "        elif 6 <= i < 9:\n",
    "            row, col = 3, i + 1 - 6\n",
    "        elif 9 <= i < 12:\n",
    "            row, col = 4, i + 1 - 9\n",
    "        else:\n",
    "            row, col = 5, i + 1 - 12\n",
    "\n",
    "        if 0 <= i < 3:\n",
    "            fig.add_trace(go.Box(x=data_copy[f'y{i + 1}'], name=column), row=row, col=col)\n",
    "        else:\n",
    "            fig.add_trace(go.Box(x=data_copy[f'x{i - 2}'], name=column), row=row, col=col)\n",
    "    fig.update_layout(height=height, width=width, title_text=\"Ящиковые диаграммы распределения признаков\",\n",
    "                      showlegend=False)\n",
    "    fig.show()"
   ]
  },
  {
   "cell_type": "code",
   "execution_count": null,
   "metadata": {
    "ExecuteTime": {
     "end_time": "2023-05-05T14:50:43.096774Z",
     "start_time": "2023-05-05T14:50:42.950535Z"
    },
    "collapsed": false
   },
   "outputs": [],
   "source": [
    "combine_box_plots()"
   ]
  },
  {
   "attachments": {},
   "cell_type": "markdown",
   "metadata": {
    "collapsed": false
   },
   "source": [
    "Функция combine_violin_plots строит аналогичные диаграммы, но вместо ящика используется график, который представляет **распределение** значений признака с помощью ядерной оценки плотности."
   ]
  },
  {
   "cell_type": "code",
   "execution_count": null,
   "metadata": {
    "ExecuteTime": {
     "end_time": "2023-05-05T14:50:43.096946Z",
     "start_time": "2023-05-05T14:50:42.971598Z"
    },
    "collapsed": false
   },
   "outputs": [],
   "source": [
    "def combine_violin_plots(height=1500, width=1100):\n",
    "    fig = make_subplots(rows=5, cols=3)\n",
    "    data_copy = data.copy()\n",
    "    data_copy.drop('Год', axis=1, inplace=True)\n",
    "    for i, column in enumerate(data_copy.columns.values):\n",
    "        if 0 <= i < 3:\n",
    "            row, col = 1, i + 1\n",
    "        elif 3 <= i < 6:\n",
    "            row, col = 2, i + 1 - 3\n",
    "        elif 6 <= i < 9:\n",
    "            row, col = 3, i + 1 - 6\n",
    "        elif 9 <= i < 12:\n",
    "            row, col = 4, i + 1 - 9\n",
    "        else:\n",
    "            row, col = 5, i + 1 - 12\n",
    "\n",
    "        if 0 <= i < 3:\n",
    "            fig.add_trace(go.Violin(x=data_copy[f'y{i + 1}'], name=column), row=row, col=col)\n",
    "        else:\n",
    "            fig.add_trace(go.Violin(x=data_copy[f'x{i - 2}'], name=column), row=row, col=col)\n",
    "    fig.update_layout(height=height, width=width, title_text=\"Распределение признаков\", showlegend=False)\n",
    "    fig.show()"
   ]
  },
  {
   "cell_type": "code",
   "execution_count": null,
   "metadata": {
    "ExecuteTime": {
     "end_time": "2023-05-05T14:50:43.244659Z",
     "start_time": "2023-05-05T14:50:43.046067Z"
    },
    "collapsed": false
   },
   "outputs": [],
   "source": [
    "combine_violin_plots()"
   ]
  },
  {
   "attachments": {},
   "cell_type": "markdown",
   "metadata": {
    "collapsed": false
   },
   "source": [
    "Как мы можем видеть, в данных нет выбросов и аномалий. Также мы можем заметить, что распределение значений признаков не является нормальным. Имеются как унимодально распределенные признаки, так и многомодально распределенные признаки."
   ]
  },
  {
   "attachments": {},
   "cell_type": "markdown",
   "metadata": {
    "collapsed": false
   },
   "source": [
    "## Интерполяция данных\n",
    "\n",
    "В предыдущем разделе мы убедились, что в наших данных нет пропусков и нулевых значений. Однако, мы имеем всего лишь 25 наблюдений, что является недостаточным количеством для построения моделей, так как это приводит к большим ошибкам и переобучению модели. Поэтому нам необходимо увеличить количество наблюдений. Для этого мы будем использовать метод интерполяции данных.\n",
    "\n",
    "Для этого создадим класс ```InterpolateData```, который будет принимать на вход данные и метод интерполяции. По умолчанию метод интерполяции равен 'linear', а частота - 'Q' (квартальная). Для интерполяции данных мы будем использовать метод interpolate() из библиотеки pandas."
   ]
  },
  {
   "cell_type": "code",
   "execution_count": null,
   "metadata": {
    "ExecuteTime": {
     "end_time": "2023-05-05T14:50:43.244879Z",
     "start_time": "2023-05-05T14:50:43.058554Z"
    }
   },
   "outputs": [],
   "source": [
    "class InterpolateData:\n",
    "    def __init__(self, data, method='linear', freq='Q'):\n",
    "        self.data = data.copy()\n",
    "        self.year = pd.to_datetime(self.data['Год'].astype(str), format='%Y')\n",
    "        self.data_quarterly = data.copy()\n",
    "        self.data_quarterly['Год'] = pd.to_datetime(self.data_quarterly['Год'].astype(str), format='%Y')\n",
    "        self.data_quarterly.set_index('Год', inplace=True)\n",
    "        self.data_quarterly = self.data_quarterly.resample(freq).mean().interpolate(method=method)\n",
    "\n",
    "    def head(self):\n",
    "        return self.data_quarterly.head()\n",
    "\n",
    "    def scatter(self):\n",
    "        fig = px.scatter(self.data_quarterly)\n",
    "        fig.update_layout(title_text=\"Данные после интерполяции\", showlegend=True)\n",
    "        return fig.show()\n",
    "\n",
    "    def original_scatter(self):\n",
    "        fig = px.scatter(self.data.drop(columns=['Год']), x=self.year, y=self.data.drop(columns=['Год']).columns)\n",
    "        fig.update_layout(title_text=\"Данные до интерполяции\", showlegend=True)\n",
    "        return fig.show()\n",
    "\n",
    "    def after_interpolate(self):\n",
    "        return self.data_quarterly"
   ]
  },
  {
   "attachments": {},
   "cell_type": "markdown",
   "metadata": {
    "collapsed": false
   },
   "source": [
    "В нашей работе мы будем использовать метод интерполяции под наименованием 'akima'. Данный метод является одним из наиболее точных методов интерполяции. Для наглядности построим графики рассеяния до и после интерполяции."
   ]
  },
  {
   "attachments": {},
   "cell_type": "markdown",
   "metadata": {
    "collapsed": false
   },
   "source": [
    "### Данные до интерполяции"
   ]
  },
  {
   "cell_type": "code",
   "execution_count": null,
   "metadata": {
    "ExecuteTime": {
     "end_time": "2023-05-05T14:50:43.246958Z",
     "start_time": "2023-05-05T14:50:43.074249Z"
    },
    "collapsed": false
   },
   "outputs": [],
   "source": [
    "InterpolateData(data).original_scatter()"
   ]
  },
  {
   "attachments": {},
   "cell_type": "markdown",
   "metadata": {
    "collapsed": false
   },
   "source": [
    "### Данные после интерполяции с помощью метода 'akima'"
   ]
  },
  {
   "cell_type": "code",
   "execution_count": null,
   "metadata": {
    "ExecuteTime": {
     "end_time": "2023-05-05T14:50:43.249052Z",
     "start_time": "2023-05-05T14:50:43.176477Z"
    }
   },
   "outputs": [],
   "source": [
    "# InterpolateData(data).scatter()\n",
    "# InterpolateData(data, method='cubic').scatter()\n",
    "# InterpolateData(data, method='quadratic').scatter()\n",
    "InterpolateData(data, method='akima').scatter()"
   ]
  },
  {
   "cell_type": "code",
   "execution_count": null,
   "metadata": {
    "ExecuteTime": {
     "end_time": "2023-05-05T14:50:43.275740Z",
     "start_time": "2023-05-05T14:50:43.256528Z"
    }
   },
   "outputs": [],
   "source": [
    "data = InterpolateData(data, method='akima').after_interpolate()\n",
    "data.head()"
   ]
  },
  {
   "cell_type": "code",
   "execution_count": null,
   "metadata": {
    "ExecuteTime": {
     "end_time": "2023-05-05T14:50:43.345430Z",
     "start_time": "2023-05-05T14:50:43.261724Z"
    },
    "collapsed": false
   },
   "outputs": [],
   "source": [
    "data.shape"
   ]
  },
  {
   "attachments": {},
   "cell_type": "markdown",
   "metadata": {
    "collapsed": false
   },
   "source": [
    "После интерполяции данных мы получили $\\sim$100 наблюдений (было 25), что является достаточным количеством для построения моделей. Так же мы удалили столбец 'Год', так как он больше не нужен. Снова посмотри на то как распределены признаки. После этого перейдем к избавлению от мультиколлинеарности."
   ]
  },
  {
   "cell_type": "code",
   "execution_count": null,
   "metadata": {
    "ExecuteTime": {
     "end_time": "2023-05-05T14:50:43.425906Z",
     "start_time": "2023-05-05T14:50:43.333855Z"
    },
    "collapsed": false
   },
   "outputs": [],
   "source": [
    "combine_scatter_plots(isyear=False)"
   ]
  },
  {
   "attachments": {},
   "cell_type": "markdown",
   "metadata": {},
   "source": [
    "## Избавление от мультиколлинеарности между признаками путем нормализации и центрирования данных\n",
    "\n",
    "Мультиколлинеарность - это явление, при котором два или более предикторов взаимосвязаны между собой. Это может привести к нестабильности оценок и усложнить интерпретацию результатов. Чтобы избежать этого, можно использовать нормализацию и центрирование данных. В данном случае была использована нормализация данных.\n",
    "\n",
    "В нашем случае мы будем использовать следующие методы нормализации данных:\n",
    "- Центрирование данных\n",
    "- Минимаксная нормализация данных\n",
    "- Z-нормализация данных\n",
    "- Max-нормализация данных\n",
    "- Robust-нормализация данных"
   ]
  },
  {
   "attachments": {},
   "cell_type": "markdown",
   "metadata": {
    "collapsed": false
   },
   "source": [
    "### Центрирование данных для избавления от мультиколлинеарности\n",
    "Этот способ приводит все значения признаков к среднему значению 0. Это делается путем вычитания среднего значения из каждого значения признака.\n",
    "$$\n",
    "x_{i}^{*}=x_{i}-\\bar{x}\n",
    "$$"
   ]
  },
  {
   "cell_type": "code",
   "execution_count": null,
   "metadata": {
    "ExecuteTime": {
     "end_time": "2023-05-05T14:50:43.435654Z",
     "start_time": "2023-05-05T14:50:43.339475Z"
    },
    "collapsed": false
   },
   "outputs": [],
   "source": [
    "# data = data.apply(lambda x: x - x.mean())"
   ]
  },
  {
   "attachments": {},
   "cell_type": "markdown",
   "metadata": {
    "collapsed": false
   },
   "source": [
    "### Минимаксная нормализация данных\n",
    "Этот метод приводит все значения признаков к диапазону от 0 до 1. Это делается путем вычитания минимального значения и деления на разницу между максимальным и минимальным значениями. Именно этот метод нормализации данных мы будем использовать в нашей работе, как основным.\n",
    "\n",
    "$$\n",
    "x_{i}^{*}=\\frac{x_{i}-\\min (x)}{\\max (x)-\\min (x)}\n",
    "$$"
   ]
  },
  {
   "cell_type": "code",
   "execution_count": null,
   "metadata": {
    "ExecuteTime": {
     "end_time": "2023-05-05T14:50:43.503987Z",
     "start_time": "2023-05-05T14:50:43.347309Z"
    },
    "collapsed": false
   },
   "outputs": [],
   "source": [
    "data = data.apply(lambda x: (x - x.min()) / (x.max() - x.min()))"
   ]
  },
  {
   "attachments": {},
   "cell_type": "markdown",
   "metadata": {
    "collapsed": false
   },
   "source": [
    "### Нормализация средним (Z-нормализация)\n",
    "Этот метод приводит все значения признаков к диапазону от -1 до 1. Это делается путем вычитания среднего значения и деления на стандартное отклонение.\n",
    "$$\n",
    "x_{i}^{*}=\\frac{x_{i}-\\bar{x}}{\\sigma}\n",
    "$$"
   ]
  },
  {
   "cell_type": "code",
   "execution_count": null,
   "metadata": {
    "ExecuteTime": {
     "end_time": "2023-05-05T14:50:43.574796Z",
     "start_time": "2023-05-05T14:50:43.358414Z"
    },
    "collapsed": false
   },
   "outputs": [],
   "source": [
    "# data = data.apply(lambda x: (x - x.mean()) / x.std())"
   ]
  },
  {
   "attachments": {},
   "cell_type": "markdown",
   "metadata": {
    "collapsed": false
   },
   "source": [
    "### MaxAbsScaler\n",
    "Этот метод приводит все значения признаков к диапазону от -1 до 1. Это делается путем деления на максимальное абсолютное значение.\n",
    "$$\n",
    "x_{i}^{*}=\\frac{x_{i}}{\\max \\left(\\left|x_{i}\\right|\\right)}\n",
    "$$"
   ]
  },
  {
   "cell_type": "code",
   "execution_count": null,
   "metadata": {
    "ExecuteTime": {
     "end_time": "2023-05-05T14:50:43.673024Z",
     "start_time": "2023-05-05T14:50:43.365269Z"
    },
    "collapsed": false
   },
   "outputs": [],
   "source": [
    "# transformer = MaxAbsScaler().fit(data)\n",
    "# data = pd.DataFrame(transformer.transform(data))"
   ]
  },
  {
   "attachments": {},
   "cell_type": "markdown",
   "metadata": {
    "collapsed": false
   },
   "source": [
    "### RobustScaler\n",
    "Этот метод приводит все значения признаков к диапазону от -1 до 1. Это делается путем вычитания медианы и деления на интерквартильный размах.\n",
    "$$\n",
    "x_{i}^{*}=\\frac{x_{i}-\\operatorname{med}(x)}{IQR}\n",
    "$$"
   ]
  },
  {
   "cell_type": "code",
   "execution_count": null,
   "metadata": {
    "ExecuteTime": {
     "end_time": "2023-05-05T14:50:43.673330Z",
     "start_time": "2023-05-05T14:50:43.368059Z"
    },
    "collapsed": false
   },
   "outputs": [],
   "source": [
    "# transformer = RobustScaler().fit(data)\n",
    "# data = pd.DataFrame(transformer.transform(data))"
   ]
  },
  {
   "cell_type": "code",
   "execution_count": null,
   "metadata": {
    "ExecuteTime": {
     "end_time": "2023-05-05T14:50:43.673687Z",
     "start_time": "2023-05-05T14:50:43.383611Z"
    },
    "collapsed": false
   },
   "outputs": [],
   "source": [
    "data.columns = ['y1', 'y2', 'y3', 'x1', 'x2', 'x3', 'x4', 'x5', 'x6', 'x7', 'x8', 'x9', 'x10', 'x11']\n",
    "data.head()"
   ]
  },
  {
   "cell_type": "code",
   "execution_count": null,
   "metadata": {
    "ExecuteTime": {
     "end_time": "2023-05-05T14:50:43.674245Z",
     "start_time": "2023-05-05T14:50:43.393285Z"
    },
    "collapsed": false
   },
   "outputs": [],
   "source": [
    "data.describe()"
   ]
  },
  {
   "attachments": {},
   "cell_type": "markdown",
   "metadata": {
    "collapsed": false
   },
   "source": [
    "Как мы видим из таблицы, все признаки находятся в диапазоне от 0 до 1. Так же мы видим, что среднее значение признаков близко к 0.5, а стандартное отклонение близко к 0.3. Это говорит о том, что данные нормализованы правильно. Это позволило нам избавиться от мультиколлинеарности между признаками."
   ]
  },
  {
   "attachments": {},
   "cell_type": "markdown",
   "metadata": {},
   "source": [
    "## Добавление шума в данные\n",
    "\n",
    "Для объяснения добавления шума в данные, рассмотрим следующий график. На нем изображены зависимости признаков от времени."
   ]
  },
  {
   "cell_type": "code",
   "execution_count": null,
   "metadata": {
    "ExecuteTime": {
     "end_time": "2023-05-05T14:50:43.674635Z",
     "start_time": "2023-05-05T14:50:43.451145Z"
    },
    "jupyter": {
     "outputs_hidden": false
    }
   },
   "outputs": [],
   "source": [
    "# px.scatter(data, title=\"Зависимость признаков от времени\", height=500)\n",
    "px.scatter(data['y1'], title=\"Зависимость признака Y1 от времени до добавления шума\", height=500)"
   ]
  },
  {
   "attachments": {},
   "cell_type": "markdown",
   "metadata": {
    "collapsed": false
   },
   "source": [
    "Как видно из графика, данные имеют очень сильную линейную структуру, из-за этого мы получаем сверх высокие метрики при обучении модели. Добавление шума в данные, позволяет сделать данные более реалистичными, так как в реальных данных всегда присутствует шум. Так же добавление шума в данные позволяет сделать данные более устойчивыми к выбросам."
   ]
  },
  {
   "cell_type": "code",
   "execution_count": null,
   "metadata": {
    "ExecuteTime": {
     "end_time": "2023-05-05T14:50:43.674852Z",
     "start_time": "2023-05-05T14:50:43.460960Z"
    }
   },
   "outputs": [],
   "source": [
    "np.random.seed(101)\n",
    "noise = np.random.normal(0, .06, data.shape)\n",
    "noisy_data = data + noise\n",
    "data = noisy_data\n",
    "data = data.apply(lambda x: (x - x.min()) / (x.max() - x.min()))\n",
    "px.scatter(data['y1'], title=\"Зависимость признака Y1 от времени после добавления шума\", height=500)"
   ]
  },
  {
   "cell_type": "code",
   "execution_count": null,
   "metadata": {
    "ExecuteTime": {
     "end_time": "2023-05-05T14:50:43.676375Z",
     "start_time": "2023-05-05T14:50:43.507858Z"
    }
   },
   "outputs": [],
   "source": [
    "combine_scatter_plots(isyear=False)"
   ]
  },
  {
   "attachments": {},
   "cell_type": "markdown",
   "metadata": {
    "collapsed": false
   },
   "source": [
    "Теперь наши данные выглядят более реалистично. Так же мы видим, что данные стали более устойчивыми к выбросам."
   ]
  },
  {
   "attachments": {},
   "cell_type": "markdown",
   "metadata": {},
   "source": [
    "## Построение матрицы коэффициентов межфакторной корреляции"
   ]
  },
  {
   "cell_type": "code",
   "execution_count": null,
   "metadata": {
    "ExecuteTime": {
     "end_time": "2023-05-05T14:50:43.676646Z",
     "start_time": "2023-05-05T14:50:43.617623Z"
    }
   },
   "outputs": [],
   "source": [
    "fig = px.imshow(data.corr(), text_auto='.2f', color_continuous_scale=\"gnbu\",\n",
    "                labels={'color': 'R', 'x': 'Фактор', 'y': 'Фактор'})\n",
    "fig.update_layout(height=1000, title_text=\"Матрица коэффициентов межфакторной корреляции\")\n",
    "fig.show()"
   ]
  },
  {
   "attachments": {},
   "cell_type": "markdown",
   "metadata": {
    "collapsed": false
   },
   "source": [
    "Можно заметить, что между некоторыми признаками есть сильная линейная зависимость. Но при этом большая часть признаков слабо коррелирует между собой."
   ]
  },
  {
   "cell_type": "code",
   "execution_count": null,
   "metadata": {
    "ExecuteTime": {
     "end_time": "2023-05-05T14:50:43.740411Z",
     "start_time": "2023-05-05T14:50:43.652834Z"
    }
   },
   "outputs": [],
   "source": [
    "un_data = data.copy()\n",
    "un_data.columns = ['Инвестиции в основной капитал, млн руб. y1', 'Валовой региональный продукт (ВРП), млн.руб. y2',\n",
    "                   'Сумма доходов населения за год, млн руб. y3',\n",
    "                   'Финансовый результат деятельности (чистая прибыль), млн.руб. x1',\n",
    "                   'Прямые иностранные инвестиции, млн USD x2',\n",
    "                   'Среднегодовая численности занятых, тыс чел. x3', 'Стоимость основных фондов, млн. руб. x4',\n",
    "                   'Степень износа основных фондов, % x5',\n",
    "                   'Затраты на научные исследования и разработки, млн руб. x6',\n",
    "                   'Объём инновационных товаров работ услуг, млн руб. x7', 'Экспорт, млн USD x8',\n",
    "                   'Импорт, млн. USD x9', 'Сумма остатков вкладов на счетах в Банке России, млн. руб. x10',\n",
    "                   'Прожиточный минимум в регионе РФ (г. Москва), тыс.руб. x11']\n",
    "\n",
    "fig = px.imshow(un_data.corr(), text_auto='.2f', color_continuous_scale=\"gnbu\",\n",
    "                labels={'color': 'R', 'x': 'Фактор', 'y': 'Фактор'})\n",
    "fig.update_layout(height=1500, width=1500, title_text=\"Матрица коэффициентов межфакторной корреляции\")\n",
    "fig.show()"
   ]
  },
  {
   "attachments": {},
   "cell_type": "markdown",
   "metadata": {},
   "source": [
    "# Разделение данных на обучающую и тестовую выборки. Валидация и кросс-валидация\n",
    "\n",
    "Для дальнейшего обучения модели, данные разделяются на обучающую и тестовую выборки. Обучающая выборка - это часть данных, на которых модель будет обучаться."
   ]
  },
  {
   "cell_type": "code",
   "execution_count": null,
   "metadata": {
    "ExecuteTime": {
     "end_time": "2023-05-05T14:50:43.740901Z",
     "start_time": "2023-05-05T14:50:43.686888Z"
    }
   },
   "outputs": [],
   "source": [
    "X = data.drop(['y1', 'y2', 'y3'], axis=1)\n",
    "y = data[['y1', 'y2', 'y3']]\n",
    "\n",
    "X.shape, y.shape"
   ]
  },
  {
   "attachments": {},
   "cell_type": "markdown",
   "metadata": {
    "collapsed": false
   },
   "source": [
    "Для упрощения написания коды заранее разделим данный на зависимые и независимые переменные."
   ]
  },
  {
   "attachments": {},
   "cell_type": "markdown",
   "metadata": {},
   "source": [
    "## Валидация на отложенных данных (Hold-Out Validation)\n",
    "**Валидация на отложенных данных (Hold-Out Validation)** - способ валидации при котором данные разделяются на две выборки: обучающую и тестовую. В этом методе, модель обучается на обучающей выборке данных, а затем проверяется на тестовой выборке, которая содержит данные, не использованные при обучении модели. Обычно, обучающая выборка составляет 70-80% от исходных данных, а тестовая - оставшиеся 20-30%."
   ]
  },
  {
   "cell_type": "code",
   "execution_count": null,
   "metadata": {
    "ExecuteTime": {
     "end_time": "2023-05-05T14:50:44.561831Z",
     "start_time": "2023-05-05T14:50:43.696404Z"
    }
   },
   "outputs": [],
   "source": [
    "Image('https://i0.wp.com/neptune.ai/wp-content/uploads/2022/10/Cross-validation-hold-out.jpg', width=600)"
   ]
  },
  {
   "cell_type": "code",
   "execution_count": null,
   "metadata": {
    "ExecuteTime": {
     "end_time": "2023-05-05T14:50:44.566072Z",
     "start_time": "2023-05-05T14:50:44.564360Z"
    }
   },
   "outputs": [],
   "source": [
    "X_train, X_test, y_train, y_test = train_test_split(X, y, test_size=0.30, random_state=42)"
   ]
  },
  {
   "attachments": {},
   "cell_type": "markdown",
   "metadata": {},
   "source": [
    "## Кросс-валидация (Cross-validation)\n",
    "**Кросс-валидация (Cross-validation)** – способ [[Валидация (Validating)|валидации]] при котором данные разбиваются на несколько равных частей, называемых \"складками\" (folds). Затем каждая складка используется в качестве тестовой выборки, а оставшиеся складки - в качестве обучающей выборки. Таким образом, модель обучается и тестируется на каждой из складок, что позволяет получить оценку ее производительности на всех данных.\n",
    "\n",
    "Этот метод обеспечивает более стабильные оценки производительности, чем [[Валидация на отложенных данных (Hold-Out Validation)|метод отложенной выборки]], но может быть затратным с точки зрения вычислительных ресурсов."
   ]
  },
  {
   "cell_type": "code",
   "execution_count": null,
   "metadata": {
    "ExecuteTime": {
     "end_time": "2023-05-05T14:50:45.714678Z",
     "start_time": "2023-05-05T14:50:44.566581Z"
    }
   },
   "outputs": [],
   "source": [
    "Image('https://i0.wp.com/neptune.ai/wp-content/uploads/2022/10/Cross-validation-k-fold.jpg', width=600)"
   ]
  },
  {
   "cell_type": "code",
   "execution_count": null,
   "metadata": {
    "ExecuteTime": {
     "end_time": "2023-05-05T14:50:45.715039Z",
     "start_time": "2023-05-05T14:50:45.457644Z"
    }
   },
   "outputs": [],
   "source": [
    "# kf = KFold(n_splits=5, shuffle=True, random_state=42)\n",
    "#\n",
    "# for train_index, test_index in kf.split(X):\n",
    "#     print(\"TRAIN:\", train_index, \"TEST:\", test_index)\n",
    "#     X_train, X_test = X.iloc[train_index], X.iloc[test_index]\n",
    "#     y_train, y_test = y.iloc[train_index], y.iloc[test_index]\n",
    "\n",
    "# write a function to get cross validation scores"
   ]
  },
  {
   "attachments": {},
   "cell_type": "markdown",
   "metadata": {},
   "source": [
    "### Leave-One-Out Cross-validation (LOO/LOOCV)\n",
    "**Leave-One-Out Cross-validation (LOO/LOOCV)** - это частный случай кросс-валидации, при котором количество складок равно количеству наблюдений в данных. Таким образом, каждое наблюдение используется в качестве тестовой выборки, а оставшиеся наблюдения - в качестве обучающей выборки. Этот метод обеспечивает наиболее точную оценку производительности модели, но может быть очень затратным с точки зрения вычислительных ресурсов."
   ]
  },
  {
   "cell_type": "code",
   "execution_count": null,
   "metadata": {
    "ExecuteTime": {
     "end_time": "2023-05-05T14:50:46.545916Z",
     "start_time": "2023-05-05T14:50:45.459865Z"
    }
   },
   "outputs": [],
   "source": [
    "Image('https://i0.wp.com/neptune.ai/wp-content/uploads/2022/10/Cross-validation-leave-one-out.jpg', width=600)"
   ]
  },
  {
   "cell_type": "code",
   "execution_count": null,
   "metadata": {
    "ExecuteTime": {
     "end_time": "2023-05-05T14:50:46.556016Z",
     "start_time": "2023-05-05T14:50:46.552822Z"
    }
   },
   "outputs": [],
   "source": [
    "# loo = LeaveOneOut()\n",
    "#\n",
    "# for train_index, test_index in loo.split(X):\n",
    "#     print(\"TRAIN:\", train_index, \"TEST:\", test_index)\n",
    "#     X_train, X_test = X.iloc[train_index], X.iloc[test_index]\n",
    "#     y_train, y_test = y.iloc[train_index], y.iloc[test_index]"
   ]
  },
  {
   "attachments": {},
   "cell_type": "markdown",
   "metadata": {},
   "source": [
    "### Leave-p-out cross-validation (LpOC)\n",
    "**Leave-p-out cross-validation (LpOC)** - почти полностью повторяет метод Leave-One-Out cross-validation (LOO/LOOCV) и отличается лишь тем что изначально задается размер тестовой выборки в то время как в Leave-One-Out cross-validation он всегда равен 1."
   ]
  },
  {
   "cell_type": "code",
   "execution_count": null,
   "metadata": {
    "ExecuteTime": {
     "end_time": "2023-05-05T14:50:46.558720Z",
     "start_time": "2023-05-05T14:50:46.554537Z"
    }
   },
   "outputs": [],
   "source": [
    "# lpo = LeavePOut(p=5)\n",
    "\n",
    "# for train_index, test_index in lpo.split(X):\n",
    "#     print(\"TRAIN:\", train_index, \"TEST:\", test_index)\n",
    "#     X_train, X_test = X.iloc[train_index], X.iloc[test_index]\n",
    "#     y_train, y_test = y.iloc[train_index], y.iloc[test_index]"
   ]
  },
  {
   "attachments": {},
   "cell_type": "markdown",
   "metadata": {
    "collapsed": false
   },
   "source": [
    "В итоге получаем следующие размеры выборок:"
   ]
  },
  {
   "cell_type": "code",
   "execution_count": null,
   "metadata": {
    "ExecuteTime": {
     "end_time": "2023-05-05T14:50:46.566672Z",
     "start_time": "2023-05-05T14:50:46.561948Z"
    }
   },
   "outputs": [],
   "source": [
    "X_train.shape, X_test.shape, y_train.shape, y_test.shape"
   ]
  },
  {
   "attachments": {},
   "cell_type": "markdown",
   "metadata": {},
   "source": [
    "# Построение модели линейной регрессии\n",
    "\n",
    "Линейная регрессия - это метод анализа данных, который используется для описания и прогнозирования линейной связи между зависимой и одной или несколькими независимыми переменными. Он часто используется в статистическом анализе данных для построения математической модели, которая может быть использована для прогнозирования значений зависимой переменной на основе значений независимых переменных.\n",
    "\n",
    "Для построения модели линейной регрессии необходимо иметь набор данных, который состоит из пар значений зависимой и независимой переменных. Затем на основе этих данных проводится анализ, который позволяет оценить параметры модели - коэффициенты наклона и пересечения. Эти параметры могут быть использованы для построения уравнения линейной регрессии.\n",
    "\n",
    "Для оценки качества модели линейной регрессии используются различные статистические показатели, такие как коэффициент детерминации (R-квадрат) или корреляционный коэффициент. Они позволяют оценить, насколько хорошо модель соответствует данным и насколько точно она может использоваться для прогнозирования значений зависимой переменной.\n",
    "\n",
    "Важно понимать, что линейная регрессия является моделью, которая описывает только линейные отношения между переменными. Если связь между переменными не является линейной, то модель линейной регрессии может оказаться неэффективной и требовать использования других методов анализа данных."
   ]
  },
  {
   "cell_type": "code",
   "execution_count": null,
   "metadata": {
    "ExecuteTime": {
     "end_time": "2023-05-05T14:50:46.670334Z",
     "start_time": "2023-05-05T14:50:46.639980Z"
    }
   },
   "outputs": [],
   "source": [
    "class CustomLinearRegression:\n",
    "    def __init__(self, y, x, model_type=OLS):\n",
    "        self.model_type = model_type\n",
    "        self.y = y\n",
    "        self.x = x\n",
    "        self.model = self.model_type(self.y, self.x).fit()\n",
    "\n",
    "    def get_coefficients(self):\n",
    "        print(self.model.params)\n",
    "        answer = []\n",
    "        names = self.x.columns.values.tolist()\n",
    "        for i, par in enumerate(self.model.params):\n",
    "            answer.append(f'+ {par:.4f}{names[i][0]}_{{{names[i][1:]}}}')\n",
    "        print(f'$$\\hat {self.y.name[0]}_{self.y.name[1]} = {\" \".join(answer)[2:]}$$')\n",
    "\n",
    "    def summary(self):\n",
    "        print(self.model.summary())\n",
    "\n",
    "    def pre(self, X_test):\n",
    "        return self.model.predict(X_test)\n",
    "\n",
    "    def predict(self, X_test, y_test):\n",
    "        r2 = r2_score(y_test, self.model.predict(X_test))\n",
    "        mae = mean_absolute_error(y_test, self.model.predict(X_test))\n",
    "        mse = mean_squared_error(y_test, self.model.predict(X_test))\n",
    "        print(\n",
    "            f'Коэффициент детерминации (R^2): {r2 * 100:.1f}%\\nCредняя ошибка аппроксимации (MAE): {mae * 100:.1f}%\\nCредняя квадратичная ошибка (MSE): {mse * 100:.1f}%')\n",
    "\n",
    "    def F(self):\n",
    "        return self.model.fvalue\n",
    "\n",
    "    def current_p(self, index):\n",
    "        return self.model.f_pvalue[index]\n",
    "\n",
    "    def forward_selection(self):\n",
    "        xi = []\n",
    "        stop = False\n",
    "        x_new = []  # список переменных, которые будут включены в модель\n",
    "        x_len = len(self.x.columns) - 1  # количество столбцов в датафрейме\n",
    "        x_test = []\n",
    "        for n in range(x_len):\n",
    "            F_max = 0  # максимальное значение F\n",
    "            p_max = 0  # максимальное значение p\n",
    "            F_max_i = 0\n",
    "            F_max_x = ''\n",
    "            if not stop:\n",
    "                for i in range(x_len):\n",
    "                    if i not in xi:\n",
    "                        x_test = x_new.copy()\n",
    "                        x_test.append(self.x.columns[i])\n",
    "                        F = CustomLinearRegression(self.y, self.x.loc[:, x_test]).F()\n",
    "                        print(f\"'x{i + 1}',\", F)\n",
    "                        if F > F_max:\n",
    "                            F_max = F\n",
    "                            F_max_i = i\n",
    "                            F_max_x = f\"x{i + 1}\"\n",
    "                x_new.append(F_max_x)\n",
    "                xi.append(F_max_i)\n",
    "                print(x_new)\n",
    "                for j in range(len(x_new)):\n",
    "                    p = CustomLinearRegression(self.y, self.x.loc[:, x_new]).current_p(j)\n",
    "                    if p > 0.05:\n",
    "                        stop = True\n",
    "                        print(f'P-value: {p}')\n",
    "                        break\n",
    "        CustomLinearRegression(self.y, self.x.loc[:, x_new[:-1]]).summary()\n",
    "\n",
    "    def backward_elimination(self, p=0.05, start=0):\n",
    "        regression = self.model_type(self.y, self.x).fit()\n",
    "        futures_num = len(self.x.columns)\n",
    "        for i in range(futures_num):\n",
    "            regression = self.model_type(self.y, self.x).fit()\n",
    "            max_p = max(regression.pvalues.values[start:])\n",
    "            if max_p > p:\n",
    "                for j in range(0, futures_num - i):\n",
    "                    if regression.pvalues[j] == max_p:\n",
    "                        self.x = self.x.drop(self.x.columns[[j]], axis=1)\n",
    "        print(regression.summary())\n",
    "\n",
    "    def custom_feature_selection(self, x, y, model=LinearRegression(), selection_method=RFE):\n",
    "        result_list = list()\n",
    "        result = selection_method(model).fit(x, y)\n",
    "        for i, feature in enumerate(result.get_support()):\n",
    "            if feature:\n",
    "                result_list.append(f'x{i + 1}')\n",
    "        CustomLinearRegression(y, x[result_list]).summary()\n",
    "\n",
    "    def correlation_map(self):\n",
    "        return px.imshow(self.x.corr(), text_auto='.2f', color_continuous_scale=\"gnbu\")\n",
    "\n",
    "\n",
    "class CustomLinearRegressionWithConst(CustomLinearRegression):\n",
    "    def __init__(self, y, x, model_type=OLS):\n",
    "        super().__init__(y, x, model_type)\n",
    "        self.x = sm.add_constant(self.x)\n",
    "        self.model = self.model_type(self.y, self.x).fit()\n",
    "\n",
    "    def backward_elimination(self, p=0.05, start=1):\n",
    "        regression = self.model_type(self.y, self.x).fit()\n",
    "        futures_num = len(self.x.columns)\n",
    "        for i in range(futures_num):\n",
    "            self.x = sm.add_constant(self.x)\n",
    "            regression = self.model_type(self.y, self.x).fit()\n",
    "            max_p = max(regression.pvalues.values[start:])\n",
    "            if max_p > p:\n",
    "                for j in range(0, futures_num - i):\n",
    "                    if regression.pvalues[j] == max_p:\n",
    "                        self.x = self.x.drop(self.x.columns[[j]], axis=1)\n",
    "        print(regression.summary())\n",
    "\n",
    "\n",
    "class CustomLinearRegressionRegularized(CustomLinearRegression):\n",
    "    def __init__(self, y, x, model_type=OLS, alpha=0.01, L1_wt=0.05):\n",
    "        super().__init__(y, x, model_type)\n",
    "        self.alpha = alpha\n",
    "        self.L1_wt = L1_wt\n",
    "        self.model = sm.OLS(self.y, self.x).fit_regularized(alpha=self.alpha, L1_wt=self.L1_wt, refit=True)\n",
    "\n",
    "    def backward_elimination(self, p=0.05, start=0):\n",
    "        regression = self.model_type(self.y, self.x).fit_regularized(alpha=self.alpha, L1_wt=self.L1_wt, refit=True)\n",
    "        features_num = len(self.x.columns)\n",
    "        for i in range(features_num):\n",
    "            regression = self.model_type(self.y, self.x).fit_regularized(alpha=self.alpha, L1_wt=self.L1_wt, refit=True)\n",
    "            max_p = max(regression.pvalues[start:])\n",
    "            if max_p > p:\n",
    "                for j in range(features_num - i):\n",
    "                    if regression.pvalues[j] == max_p:\n",
    "                        self.x = self.x.drop(self.x.columns[[j]], axis=1)\n",
    "        print(regression.summary())\n",
    "\n",
    "# class CustomRidgeLinearRegression(CustomLinearRegression):\n",
    "#     def __init__(self, y, x, model_type=OLS):\n",
    "#         super().__init__(y, x, model_type)\n",
    "#         self.model = Ridge(alpha=0.1).fit(self.x, self.y)"
   ]
  },
  {
   "attachments": {},
   "cell_type": "markdown",
   "metadata": {},
   "source": [
    "# Отбор переменных для модели линейной регрессии\n",
    "\n",
    "Отбор переменных для модели линейной регрессии - это процесс выбора наиболее важных и значимых независимых переменных, которые будут использоваться в модели для прогнозирования зависимой переменной. Это важный шаг в построении модели, так как использование неподходящих переменных может привести к низкой точности прогнозов и низкому качеству модели.\n",
    "\n",
    "Существует несколько методов отбора переменных для модели линейной регрессии, включая:\n",
    "\n",
    "- Метод пошагового отбора переменных - это метод, который включает или исключает независимые переменные в модель пошагово на основе их значимости. На каждом шаге происходит выбор переменной, которая наиболее улучшает качество модели.\n",
    "\n",
    "- Метод отбора на основе значимости - этот метод основан на анализе значимости каждой независимой переменной с помощью статистических тестов, таких как t-тест или F-тест. Переменные с низким уровнем значимости исключаются из модели.\n",
    "\n",
    "- Метод регуляризации - это метод, который добавляет штрафы за большие значения коэффициентов в модель. Он позволяет автоматически отбирать переменные, которые наиболее важны для модели, и уменьшает вероятность переобучения.\n",
    "\n",
    "- Метод отбора на основе информационных критериев - этот метод основан на использовании различных информационных критериев, таких как AIC (критерий Акаике) и BIC (критерий Шварца), чтобы выбрать модель с наименьшей ошибкой.\n",
    "\n",
    "Выбор метода отбора переменных зависит от конкретной задачи и объема доступных данных. В нашей работе мы будем использовать метод пошагового отбора переменных и метод отбора на основе значимости."
   ]
  },
  {
   "attachments": {},
   "cell_type": "markdown",
   "metadata": {},
   "source": [
    "Для наглядности снова посмотрим на данные, которые мы будем использовать для построения модели линейной регрессии."
   ]
  },
  {
   "cell_type": "code",
   "execution_count": null,
   "metadata": {
    "ExecuteTime": {
     "end_time": "2023-05-05T14:50:46.686193Z",
     "start_time": "2023-05-05T14:50:46.650728Z"
    }
   },
   "outputs": [],
   "source": [
    "data.head()"
   ]
  },
  {
   "attachments": {},
   "cell_type": "markdown",
   "metadata": {},
   "source": [
    "Как было ранее сказано, мы имеем дело с набором данных, содержащим 11 независимых переменных и 3 зависимых переменных. Переменные x1-x11 являются независимыми переменными, а переменные y1-y3 являются зависимыми переменными. Разделим данные на независимые и зависимые переменные."
   ]
  },
  {
   "attachments": {},
   "cell_type": "markdown",
   "metadata": {},
   "source": [
    "### Разделение данных на зависимые и независимые переменные"
   ]
  },
  {
   "attachments": {},
   "cell_type": "markdown",
   "metadata": {},
   "source": [
    "Зависимые переменные - это переменные, значения которых мы хотим предсказать. В нашем случае это переменные $y_1$, $y_2$ и $y_3$."
   ]
  },
  {
   "cell_type": "code",
   "execution_count": null,
   "metadata": {
    "ExecuteTime": {
     "end_time": "2023-05-05T14:50:46.686349Z",
     "start_time": "2023-05-05T14:50:46.654529Z"
    }
   },
   "outputs": [],
   "source": [
    "y1_test, y1_train = y_test['y1'], y_train['y1']\n",
    "y2_test, y2_train = y_test['y2'], y_train['y2']\n",
    "y3_test, y3_train = y_test['y3'], y_train['y3']"
   ]
  },
  {
   "attachments": {},
   "cell_type": "markdown",
   "metadata": {},
   "source": [
    "Независимые переменные - это переменные, значения которых мы используем для прогнозирования зависимых переменных. В нашем случае это переменные $[x_1, \\cdots, x_{11}]$."
   ]
  },
  {
   "cell_type": "code",
   "execution_count": null,
   "metadata": {
    "ExecuteTime": {
     "end_time": "2023-05-05T14:50:46.686443Z",
     "start_time": "2023-05-05T14:50:46.659571Z"
    }
   },
   "outputs": [],
   "source": [
    "x1_test, x1_train = X_test['x1'], X_train['x1']\n",
    "x2_test, x2_train = X_test['x2'], X_train['x2']\n",
    "x3_test, x3_train = X_test['x3'], X_train['x3']\n",
    "x4_test, x4_train = X_test['x4'], X_train['x4']\n",
    "x5_test, x5_train = X_test['x5'], X_train['x5']\n",
    "x6_test, x6_train = X_test['x6'], X_train['x6']\n",
    "x7_test, x7_train = X_test['x7'], X_train['x7']\n",
    "x8_test, x8_train = X_test['x8'], X_train['x8']\n",
    "x9_test, x9_train = X_test['x9'], X_train['x9']\n",
    "x10_test, x10_train = X_test['x10'], X_train['x10']\n",
    "x11_test, x11_train = X_test['x11'], X_train['x11']"
   ]
  },
  {
   "attachments": {},
   "cell_type": "markdown",
   "metadata": {},
   "source": [
    "## Оценка предварительно составленных систем уравнений\n",
    "\n",
    "Всего у нас три системы уравнений, которые мы можем использовать для прогнозирования зависимых переменных\n",
    "- Система независимых уравнений;\n",
    "- Система рекурсивных уравнений;\n",
    "- Система одновременных уравнений.\n",
    "\n",
    "### Система независимых уравнений\n",
    "$$\n",
    "\\begin{cases}\n",
    "y_1 = a_1 + b_{11}x_{1} + b_{12}x_{2} + \\epsilon \\\\\n",
    "y_2 = a_2 + b_{21}x_{1} + b_{22}x_{2} + b_{23}x_{3} + b_{24}x_{4} + b_{25}x_{5} + b_{26}x_{6} + b_{27}x_{7} + b_{28}x_{8} + b_{29}x_{9} + \\epsilon \\\\\n",
    "y_3 = a_3 + b_{31}x_{1} + b_{32}x_{2} + b_{33}x_{3} + b_{34}x_{4} + b_{35}x_{5} + b_{36}x_{6} + b_{37}x_{7} + b_{38}x_{8} + b_{39}x_{9} + b_{310}x_{10} + b_{311}x_{11} + \\epsilon \\\\\n",
    "\\end{cases}\n",
    "$$\n",
    "\n",
    "### Система рекурсивных уравнений\n",
    "$$\n",
    "\\begin{cases}\n",
    "y_1 = a_1 + b_{11}x_{1} + b_{12}x_{2} + \\epsilon \\\\\n",
    "y_2 = a_2 + a_{21}y_1 + b_{21}x_{3} + b_{22}x_{4} + b_{23}x_{5} + b_{24}x_{6} + b_{25}x_{7} + b_{26}x_{8} + b_{27}x_{9} + \\epsilon \\\\\n",
    "y_3 = a_3 + a_{31}y_1 + a_{32}y_2 + b_{31}x_{11} + \\epsilon \\\\\n",
    "\\end{cases}\n",
    "$$\n",
    "\n",
    "### Система одновременных уравнений\n",
    "$$\n",
    "\\begin{cases}\n",
    "y_1 = a_1 + b_{11}x_{1} + b_{12}x_{2} + \\epsilon \\\\\n",
    "y_2 = a_2 + a_{21}y_1 + b_{23}x_{3} + b_{24}x_{4} + b_{25}x_{5} + b_{26}x_{6} + b_{27}x_{7} + b_{28}x_{8} + b_{29}x_{9} + \\epsilon \\\\\n",
    "y_3 = a_3 + a_{31}y_1 + b_{310}x_{10} + b_{311}x_{11} + \\epsilon \\\\\n",
    "\\end{cases}\n",
    "$$"
   ]
  },
  {
   "attachments": {},
   "cell_type": "markdown",
   "metadata": {},
   "source": [
    "## Система независимых уравнений\n",
    "\n",
    "$$\n",
    "\\begin{cases}\n",
    "y_1 = a_1 + b_{11}x_{1} + b_{12}x_{2} + \\epsilon \\\\\n",
    "y_2 = a_2 + b_{21}x_{1} + b_{22}x_{2} + b_{23}x_{3} + b_{24}x_{4} + b_{25}x_{5} + b_{26}x_{6} + b_{27}x_{7} + b_{28}x_{8} + b_{29}x_{9} + \\epsilon \\\\\n",
    "y_3 = a_3 + b_{31}x_{1} + b_{32}x_{2} + b_{33}x_{3} + b_{34}x_{4} + b_{35}x_{5} + b_{36}x_{6} + b_{37}x_{7} + b_{38}x_{8} + b_{39}x_{9} + b_{310}x_{10} + b_{311}x_{11} + \\epsilon \\\\\n",
    "\\end{cases}\n",
    "$$"
   ]
  },
  {
   "attachments": {},
   "cell_type": "markdown",
   "metadata": {},
   "source": [
    "### Первое уравнение\n",
    "\n",
    "$$y_1 = a_1 + b_{11}x_{1} + b_{12}x_{2} + \\epsilon $$"
   ]
  },
  {
   "attachments": {},
   "cell_type": "markdown",
   "metadata": {},
   "source": [
    "#### Исходная система уравнений"
   ]
  },
  {
   "cell_type": "code",
   "execution_count": null,
   "metadata": {
    "ExecuteTime": {
     "end_time": "2023-05-05T14:50:46.688241Z",
     "start_time": "2023-05-05T14:50:46.664233Z"
    }
   },
   "outputs": [],
   "source": [
    "fn1_nez = pd.concat([x1_train, x2_train], axis=1)\n",
    "CustomLinearRegression(y1_train, fn1_nez).summary()"
   ]
  },
  {
   "attachments": {},
   "cell_type": "markdown",
   "metadata": {},
   "source": [
    "#### Исходная система уравнений после отбора признаков методом обратного исключения (Backward elimination)"
   ]
  },
  {
   "cell_type": "code",
   "execution_count": null,
   "metadata": {
    "ExecuteTime": {
     "end_time": "2023-05-05T14:50:46.689606Z",
     "start_time": "2023-05-05T14:50:46.673548Z"
    }
   },
   "outputs": [],
   "source": [
    "CustomLinearRegression(y1_train, fn1_nez).backward_elimination()"
   ]
  },
  {
   "attachments": {},
   "cell_type": "markdown",
   "metadata": {},
   "source": [
    "#### Конечная система уравнений и веса"
   ]
  },
  {
   "cell_type": "code",
   "execution_count": null,
   "metadata": {
    "ExecuteTime": {
     "end_time": "2023-05-05T14:50:46.689824Z",
     "start_time": "2023-05-05T14:50:46.686109Z"
    }
   },
   "outputs": [],
   "source": [
    "final_fn1_nez = pd.concat([x1_train, x2_train], axis=1)\n",
    "CustomLinearRegression(y1_train, final_fn1_nez).get_coefficients()"
   ]
  },
  {
   "attachments": {},
   "cell_type": "markdown",
   "metadata": {},
   "source": [
    "$$\\hat y_1 = 0.5478x_{1} + 0.2297x_{2}$$"
   ]
  },
  {
   "cell_type": "code",
   "execution_count": null,
   "metadata": {
    "ExecuteTime": {
     "end_time": "2023-05-05T14:50:46.848236Z",
     "start_time": "2023-05-05T14:50:46.731314Z"
    }
   },
   "outputs": [],
   "source": [
    "fig = make_subplots(rows=1, cols=2)\n",
    "fig.update_yaxes(title_text='Y1', row=1, col=1)\n",
    "\n",
    "fig.add_trace(px.scatter(x=x1_train, y=y1_train).data[0], row=1, col=1)\n",
    "fig.update_xaxes(title_text='X1', row=1, col=1)\n",
    "\n",
    "fig.add_trace(px.scatter(x=x2_train, y=y1_train).data[0], row=1, col=2)\n",
    "fig.update_xaxes(title_text='X2', row=1, col=2)\n",
    "\n",
    "fig.update_layout(title_text=\"График рассеяния для X1 и X2 от Y1\")\n",
    "fig.show()"
   ]
  },
  {
   "attachments": {},
   "cell_type": "markdown",
   "metadata": {},
   "source": [
    "### Второе уравнение\n",
    "\n",
    "$$y_2 = a_2 + b_{21}x_{1} + b_{22}x_{2} + b_{23}x_{3} + b_{24}x_{4} + b_{25}x_{5} + b_{26}x_{6} + b_{27}x_{7} + b_{28}x_{8} + b_{29}x_{9} + \\epsilon$$"
   ]
  },
  {
   "attachments": {},
   "cell_type": "markdown",
   "metadata": {},
   "source": [
    "#### Исходная система уравнений"
   ]
  },
  {
   "cell_type": "code",
   "execution_count": null,
   "metadata": {
    "ExecuteTime": {
     "end_time": "2023-05-05T14:50:46.848655Z",
     "start_time": "2023-05-05T14:50:46.737444Z"
    }
   },
   "outputs": [],
   "source": [
    "fn2_nez = pd.concat([x1_train, x2_train, x3_train, x4_train, x5_train, x6_train, x7_train, x8_train, x9_train], axis=1)\n",
    "CustomLinearRegression(y2_train, fn2_nez).summary()"
   ]
  },
  {
   "attachments": {},
   "cell_type": "markdown",
   "metadata": {},
   "source": [
    "#### Исходная система уравнений после отбора признаков методом обратного исключения (Backward elimination)"
   ]
  },
  {
   "cell_type": "code",
   "execution_count": null,
   "metadata": {
    "ExecuteTime": {
     "end_time": "2023-05-05T14:50:46.849118Z",
     "start_time": "2023-05-05T14:50:46.745841Z"
    }
   },
   "outputs": [],
   "source": [
    "CustomLinearRegression(y2_train, fn2_nez).backward_elimination()"
   ]
  },
  {
   "attachments": {},
   "cell_type": "markdown",
   "metadata": {},
   "source": [
    "#### Конечная система уравнений и веса"
   ]
  },
  {
   "cell_type": "code",
   "execution_count": null,
   "metadata": {
    "ExecuteTime": {
     "end_time": "2023-05-05T14:50:46.849284Z",
     "start_time": "2023-05-05T14:50:46.759125Z"
    }
   },
   "outputs": [],
   "source": [
    "final_fn2_nez = pd.concat([x1_train, x4_train, x6_train, x8_train], axis=1)\n",
    "CustomLinearRegression(y2_train, final_fn2_nez).get_coefficients()"
   ]
  },
  {
   "attachments": {},
   "cell_type": "markdown",
   "metadata": {},
   "source": [
    "$$\\hat y_2 = 0.1732x_{1} + 0.3493x_{4} + 0.3101x_{6} + 0.1358x_{8}$$"
   ]
  },
  {
   "cell_type": "code",
   "execution_count": null,
   "metadata": {
    "ExecuteTime": {
     "end_time": "2023-05-05T14:50:46.923109Z",
     "start_time": "2023-05-05T14:50:46.822096Z"
    }
   },
   "outputs": [],
   "source": [
    "fig = make_subplots(rows=2, cols=2)\n",
    "fig.update_yaxes(title_text='Y2', row=1, col=1)\n",
    "fig.update_yaxes(title_text='Y2', row=2, col=1)\n",
    "\n",
    "fig.add_trace(px.scatter(x=x1_train, y=y2_train).data[0], row=1, col=1)\n",
    "fig.update_xaxes(title_text='X1', row=1, col=1)\n",
    "\n",
    "fig.add_trace(px.scatter(x=x4_train, y=y2_train).data[0], row=1, col=2)\n",
    "fig.update_xaxes(title_text='X4', row=1, col=2)\n",
    "\n",
    "fig.add_trace(px.scatter(x=x6_train, y=y2_train).data[0], row=2, col=1)\n",
    "fig.update_xaxes(title_text='X6', row=2, col=1)\n",
    "\n",
    "fig.add_trace(px.scatter(x=x8_train, y=y2_train).data[0], row=2, col=2)\n",
    "fig.update_xaxes(title_text='X8', row=2, col=2)\n",
    "\n",
    "fig.update_layout(height=800, title='Графики рассеяния для X1, X4, X6, X8 от Y2')\n",
    "fig.show()"
   ]
  },
  {
   "attachments": {},
   "cell_type": "markdown",
   "metadata": {},
   "source": [
    "### Третье уравнение\n",
    "\n",
    "$$y_3 = a_3 + b_{31}x_{1} + b_{32}x_{2} + b_{33}x_{3} + b_{34}x_{4} + b_{35}x_{5} + b_{36}x_{6} + b_{37}x_{7} + b_{38}x_{8} + b_{39}x_{9} + b_{310}x_{10} + b_{311}x_{11} + \\epsilon$$"
   ]
  },
  {
   "attachments": {},
   "cell_type": "markdown",
   "metadata": {},
   "source": [
    "#### Исходная система уравнений"
   ]
  },
  {
   "cell_type": "code",
   "execution_count": null,
   "metadata": {
    "ExecuteTime": {
     "end_time": "2023-05-05T14:50:46.923837Z",
     "start_time": "2023-05-05T14:50:46.829267Z"
    }
   },
   "outputs": [],
   "source": [
    "fn3_nez = pd.concat(\n",
    "    [x1_train, x2_train, x3_train, x4_train, x5_train, x6_train, x7_train, x8_train, x9_train, x10_train, x11_train],\n",
    "    axis=1)\n",
    "CustomLinearRegression(y3_train, fn3_nez).summary()"
   ]
  },
  {
   "attachments": {},
   "cell_type": "markdown",
   "metadata": {},
   "source": [
    "#### Исходная система уравнений после отбора признаков методом обратного исключения (Backward elimination)"
   ]
  },
  {
   "cell_type": "code",
   "execution_count": null,
   "metadata": {
    "ExecuteTime": {
     "end_time": "2023-05-05T14:50:46.924607Z",
     "start_time": "2023-05-05T14:50:46.837095Z"
    }
   },
   "outputs": [],
   "source": [
    "CustomLinearRegression(y3_train, fn3_nez).backward_elimination()"
   ]
  },
  {
   "attachments": {},
   "cell_type": "markdown",
   "metadata": {},
   "source": [
    "#### Конечная система уравнений и веса"
   ]
  },
  {
   "cell_type": "code",
   "execution_count": null,
   "metadata": {
    "ExecuteTime": {
     "end_time": "2023-05-05T14:50:46.924812Z",
     "start_time": "2023-05-05T14:50:46.854539Z"
    }
   },
   "outputs": [],
   "source": [
    "final_fn3_nez = pd.concat([x3_train, x4_train, x10_train, x11_train], axis=1)\n",
    "CustomLinearRegression(y3_train, final_fn3_nez).get_coefficients()"
   ]
  },
  {
   "attachments": {},
   "cell_type": "markdown",
   "metadata": {},
   "source": [
    "$$\\hat y_3 = 0.2826x_{3} + 0.2021x_{4} + 0.2524x_{10} + 0.2532x_{11}$$"
   ]
  },
  {
   "cell_type": "code",
   "execution_count": null,
   "metadata": {
    "ExecuteTime": {
     "end_time": "2023-05-05T14:50:47.170255Z",
     "start_time": "2023-05-05T14:50:46.919116Z"
    }
   },
   "outputs": [],
   "source": [
    "fig = make_subplots(rows=2, cols=2)\n",
    "fig.update_yaxes(title_text='Y3', row=1, col=1)\n",
    "fig.update_yaxes(title_text='Y3', row=2, col=1)\n",
    "\n",
    "fig.add_trace(px.scatter(x=x3_train, y=y3_train).data[0], row=1, col=1)\n",
    "fig.update_xaxes(title_text='X3', row=1, col=1)\n",
    "\n",
    "fig.add_trace(px.scatter(x=x4_train, y=y3_train).data[0], row=1, col=2)\n",
    "fig.update_xaxes(title_text='X4', row=1, col=2)\n",
    "\n",
    "fig.add_trace(px.scatter(x=x10_train, y=y3_train).data[0], row=2, col=1)\n",
    "fig.update_xaxes(title_text='X10', row=2, col=1)\n",
    "\n",
    "fig.add_trace(px.scatter(x=x11_train, y=y3_train).data[0], row=2, col=2)\n",
    "fig.update_xaxes(title_text='X11', row=2, col=2)\n",
    "\n",
    "fig.update_layout(height=800, title='Графики рассеяния для X3, X4, X10, X11 от Y3')\n",
    "fig.show()"
   ]
  },
  {
   "attachments": {},
   "cell_type": "markdown",
   "metadata": {},
   "source": [
    "## Система рекурсивных уравнений\n",
    "\n",
    "$$\n",
    "\\begin{cases}\n",
    "y_1 = a_1 + b_{11}x_{1} + b_{12}x_{2} + \\epsilon \\\\\n",
    "y_2 = a_2 + a_{21}y_1 + b_{21}x_{3} + b_{22}x_{4} + b_{23}x_{5} + b_{24}x_{6} + b_{25}x_{7} + b_{26}x_{8} + b_{27}x_{9} + \\epsilon \\\\\n",
    "y_3 = a_3 + a_{31}y_1 + a_{32}y_2 + b_{31}x_{11} + \\epsilon \\\\\n",
    "\\end{cases}\n",
    "$$"
   ]
  },
  {
   "attachments": {},
   "cell_type": "markdown",
   "metadata": {},
   "source": [
    "### Первое уравнение\n",
    "\n",
    "$$y_1 = a_1 + b_{11}x_{1} + b_{12}x_{2} + \\epsilon$$"
   ]
  },
  {
   "attachments": {},
   "cell_type": "markdown",
   "metadata": {},
   "source": [
    "#### Исходная система уравнений"
   ]
  },
  {
   "cell_type": "code",
   "execution_count": null,
   "metadata": {
    "ExecuteTime": {
     "end_time": "2023-05-05T14:50:47.336924Z",
     "start_time": "2023-05-05T14:50:46.927601Z"
    }
   },
   "outputs": [],
   "source": [
    "fn1_rec = pd.concat([x1_train, x2_train], axis=1)\n",
    "CustomLinearRegression(y1_train, fn1_rec).summary()"
   ]
  },
  {
   "attachments": {},
   "cell_type": "markdown",
   "metadata": {},
   "source": [
    "#### Исходная система уравнений после отбора признаков методом обратного исключения (Backward elimination)"
   ]
  },
  {
   "cell_type": "code",
   "execution_count": null,
   "metadata": {
    "ExecuteTime": {
     "end_time": "2023-05-05T14:50:47.349603Z",
     "start_time": "2023-05-05T14:50:46.932450Z"
    }
   },
   "outputs": [],
   "source": [
    "CustomLinearRegression(y1_train, fn1_rec).backward_elimination()"
   ]
  },
  {
   "attachments": {},
   "cell_type": "markdown",
   "metadata": {},
   "source": [
    "#### Конечная система уравнений и веса"
   ]
  },
  {
   "cell_type": "code",
   "execution_count": null,
   "metadata": {
    "ExecuteTime": {
     "end_time": "2023-05-05T14:50:47.401961Z",
     "start_time": "2023-05-05T14:50:46.947458Z"
    }
   },
   "outputs": [],
   "source": [
    "final_fn1_rec = pd.concat([x1_train, x2_train], axis=1)\n",
    "CustomLinearRegression(y1_train, final_fn1_rec).get_coefficients()"
   ]
  },
  {
   "attachments": {},
   "cell_type": "markdown",
   "metadata": {},
   "source": [
    "$$\\hat y_1 = 0.5478x_{1} + 0.2297x_{2}$$"
   ]
  },
  {
   "cell_type": "code",
   "execution_count": null,
   "metadata": {},
   "outputs": [],
   "source": [
    "fig = make_subplots(rows=1, cols=2)\n",
    "fig.update_yaxes(title_text='Y1', row=1, col=1)\n",
    "\n",
    "fig.add_trace(px.scatter(x=x1_train, y=y1_train).data[0], row=1, col=1)\n",
    "fig.update_xaxes(title_text='X1', row=1, col=1)\n",
    "\n",
    "fig.add_trace(px.scatter(x=x2_train, y=y1_train).data[0], row=1, col=2)\n",
    "fig.update_xaxes(title_text='X2', row=1, col=2)\n",
    "\n",
    "fig.update_layout(title_text=\"График рассеяния для X1 и X2 от Y1\")\n",
    "fig.show()"
   ]
  },
  {
   "attachments": {},
   "cell_type": "markdown",
   "metadata": {},
   "source": [
    "### Второе уравнение\n",
    "\n",
    "$$y_2 = a_2 + a_{21}y_1 + b_{21}x_{3} + b_{22}x_{4} + b_{23}x_{5} + b_{24}x_{6} + b_{25}x_{7} + b_{26}x_{8} + b_{27}x_{9} + \\epsilon$$"
   ]
  },
  {
   "attachments": {},
   "cell_type": "markdown",
   "metadata": {},
   "source": [
    "#### Исходная система уравнений"
   ]
  },
  {
   "cell_type": "code",
   "execution_count": null,
   "metadata": {
    "ExecuteTime": {
     "end_time": "2023-05-05T14:50:47.403607Z",
     "start_time": "2023-05-05T14:50:46.957898Z"
    }
   },
   "outputs": [],
   "source": [
    "fn2_rec = pd.concat(\n",
    "    [y1_train, x1_train, x2_train, x3_train, x4_train, x5_train, x6_train, x7_train, x8_train, x9_train], axis=1)\n",
    "CustomLinearRegression(y2_train, fn2_rec).summary()"
   ]
  },
  {
   "attachments": {},
   "cell_type": "markdown",
   "metadata": {},
   "source": [
    "#### Исходная система уравнений после отбора признаков методом обратного исключения (Backward elimination)"
   ]
  },
  {
   "cell_type": "code",
   "execution_count": null,
   "metadata": {
    "ExecuteTime": {
     "end_time": "2023-05-05T14:50:47.404807Z",
     "start_time": "2023-05-05T14:50:46.973475Z"
    }
   },
   "outputs": [],
   "source": [
    "CustomLinearRegression(y2_train, fn2_rec).backward_elimination(start=1)"
   ]
  },
  {
   "attachments": {},
   "cell_type": "markdown",
   "metadata": {},
   "source": [
    "#### Конечная система уравнений и веса"
   ]
  },
  {
   "cell_type": "code",
   "execution_count": null,
   "metadata": {
    "ExecuteTime": {
     "end_time": "2023-05-05T14:50:47.411516Z",
     "start_time": "2023-05-05T14:50:46.996441Z"
    }
   },
   "outputs": [],
   "source": [
    "final_fn2_rec = pd.concat([y1_train, x1_train, x4_train, x6_train], axis=1)\n",
    "CustomLinearRegression(y2_train, final_fn2_rec).get_coefficients()"
   ]
  },
  {
   "attachments": {},
   "cell_type": "markdown",
   "metadata": {},
   "source": [
    "$$\\hat y_2 = 0.2164y_{1} + 0.2852x_{1} + 0.1989x_{4} + 0.2861x_{6}$$"
   ]
  },
  {
   "cell_type": "code",
   "execution_count": null,
   "metadata": {
    "ExecuteTime": {
     "end_time": "2023-05-05T14:50:47.451565Z",
     "start_time": "2023-05-05T14:50:47.023521Z"
    }
   },
   "outputs": [],
   "source": [
    "fig = make_subplots(rows=2, cols=2)\n",
    "fig.update_yaxes(title_text='Y2', row=1, col=1)\n",
    "fig.update_yaxes(title_text='Y2', row=2, col=1)\n",
    "\n",
    "\n",
    "fig.add_trace(px.scatter(x=y1_train, y=y2_train).data[0], row=1, col=1)\n",
    "fig.update_xaxes(title_text='Y1', row=1, col=1)\n",
    "\n",
    "fig.add_trace(px.scatter(x=x1_train, y=y2_train).data[0], row=1, col=2)\n",
    "fig.update_xaxes(title_text='X1', row=1, col=2)\n",
    "\n",
    "fig.add_trace(px.scatter(x=x4_train, y=y2_train).data[0], row=2, col=1)\n",
    "fig.update_xaxes(title_text='X4', row=2, col=1)\n",
    "\n",
    "fig.add_trace(px.scatter(x=x6_train, y=y2_train).data[0], row=2, col=2)\n",
    "fig.update_xaxes(title_text='X6', row=2, col=2)\n",
    "\n",
    "fig.update_layout(height=1000, title='Графики рассеяния для Y1, X1, X4, X6 от Y2')\n",
    "fig.show()"
   ]
  },
  {
   "attachments": {},
   "cell_type": "markdown",
   "metadata": {},
   "source": [
    "### Третье уравнение\n",
    "\n",
    "$$y_3 = a_3 + a_{31}y_1 + a_{32}y_2 + b_{31}x_{11} + \\epsilon$$"
   ]
  },
  {
   "attachments": {},
   "cell_type": "markdown",
   "metadata": {},
   "source": [
    "#### Исходная система уравнений"
   ]
  },
  {
   "cell_type": "code",
   "execution_count": null,
   "metadata": {
    "ExecuteTime": {
     "end_time": "2023-05-05T14:50:47.452405Z",
     "start_time": "2023-05-05T14:50:47.133239Z"
    }
   },
   "outputs": [],
   "source": [
    "fn3_rec = pd.concat([y1_train, y2_train, x11_train], axis=1)\n",
    "CustomLinearRegression(y3_train, fn3_rec).summary()"
   ]
  },
  {
   "attachments": {},
   "cell_type": "markdown",
   "metadata": {},
   "source": [
    "#### Исходная система уравнений после отбора признаков методом обратного исключения (Backward elimination)"
   ]
  },
  {
   "cell_type": "code",
   "execution_count": null,
   "metadata": {
    "ExecuteTime": {
     "end_time": "2023-05-05T14:50:47.453066Z",
     "start_time": "2023-05-05T14:50:47.151171Z"
    }
   },
   "outputs": [],
   "source": [
    "CustomLinearRegression(y3_train, fn3_rec).backward_elimination(start=0)"
   ]
  },
  {
   "attachments": {},
   "cell_type": "markdown",
   "metadata": {},
   "source": [
    "#### Конечная система уравнений и веса"
   ]
  },
  {
   "cell_type": "code",
   "execution_count": null,
   "metadata": {
    "ExecuteTime": {
     "end_time": "2023-05-05T14:50:47.459373Z",
     "start_time": "2023-05-05T14:50:47.165286Z"
    }
   },
   "outputs": [],
   "source": [
    "final_fn3_rec = pd.concat([y2_train, x11_train], axis=1)\n",
    "CustomLinearRegression(y3_train, final_fn3_rec).get_coefficients()"
   ]
  },
  {
   "attachments": {},
   "cell_type": "markdown",
   "metadata": {},
   "source": [
    "$$\\hat y_3 = 0.5732y_{2} + 0.4683x_{11}$$"
   ]
  },
  {
   "cell_type": "code",
   "execution_count": null,
   "metadata": {
    "ExecuteTime": {
     "end_time": "2023-05-05T14:50:47.884753Z",
     "start_time": "2023-05-05T14:50:47.236065Z"
    }
   },
   "outputs": [],
   "source": [
    "fig = make_subplots(rows=1, cols=2)\n",
    "fig.update_yaxes(title_text='Y3', row=1, col=1)\n",
    "\n",
    "fig.add_trace(px.scatter(x=y2_train, y=y3_train).data[0], row=1, col=1)\n",
    "fig.update_xaxes(title_text='Y2', row=1, col=1)\n",
    "\n",
    "fig.add_trace(px.scatter(x=x11_train, y=y3_train).data[0], row=1, col=2)\n",
    "fig.update_xaxes(title_text='X11', row=1, col=2)\n",
    "\n",
    "fig.update_layout(height=500, title='Графики рассеяния для Y2, X11 от Y3')\n",
    "fig.show()"
   ]
  },
  {
   "attachments": {},
   "cell_type": "markdown",
   "metadata": {},
   "source": [
    "## Система одновременных уравнений\n",
    "\n",
    "$$\n",
    "\\begin{cases}\n",
    "y_1 = a_1 + b_{11}x_{1} + b_{12}x_{2} + \\epsilon \\\\\n",
    "y_2 = a_2 + a_{21}y_1 + b_{23}x_{3} + b_{24}x_{4} + b_{25}x_{5} + b_{26}x_{6} + b_{27}x_{7} + b_{28}x_{8} + b_{29}x_{9} + \\epsilon \\\\\n",
    "y_3 = a_3 + a_{31}y_1 + b_{310}x_{10} + b_{311}x_{11} + \\epsilon \\\\\n",
    "\\end{cases}\n",
    "$$"
   ]
  },
  {
   "attachments": {},
   "cell_type": "markdown",
   "metadata": {},
   "source": [
    "### Первое уравнение\n",
    "\n",
    "$$y_1 = a_1 + b_{11}x_{1} + b_{12}x_{2} + \\epsilon$$"
   ]
  },
  {
   "attachments": {},
   "cell_type": "markdown",
   "metadata": {},
   "source": [
    "#### Исходная система уравнений"
   ]
  },
  {
   "cell_type": "code",
   "execution_count": null,
   "metadata": {
    "ExecuteTime": {
     "end_time": "2023-05-05T14:50:47.885689Z",
     "start_time": "2023-05-05T14:50:47.247824Z"
    }
   },
   "outputs": [],
   "source": [
    "fn1_odn = pd.concat([x1_train, x2_train], axis=1)\n",
    "CustomLinearRegression(y1_train, fn1_odn, model_type=Poisson).summary()"
   ]
  },
  {
   "attachments": {},
   "cell_type": "markdown",
   "metadata": {},
   "source": [
    "#### Исходная система уравнений после отбора признаков методом обратного исключения (Backward elimination)"
   ]
  },
  {
   "cell_type": "code",
   "execution_count": null,
   "metadata": {
    "ExecuteTime": {
     "end_time": "2023-05-05T14:50:48.124524Z",
     "start_time": "2023-05-05T14:50:47.275670Z"
    }
   },
   "outputs": [],
   "source": [
    "CustomLinearRegression(y1_train, fn1_odn, model_type=Poisson).backward_elimination()"
   ]
  },
  {
   "attachments": {},
   "cell_type": "markdown",
   "metadata": {},
   "source": [
    "#### Конечная система уравнений и веса"
   ]
  },
  {
   "cell_type": "code",
   "execution_count": null,
   "metadata": {
    "ExecuteTime": {
     "end_time": "2023-05-05T14:50:48.126518Z",
     "start_time": "2023-05-05T14:50:47.297776Z"
    }
   },
   "outputs": [],
   "source": [
    "final_fn1_odn = pd.concat([x1_train], axis=1)\n",
    "CustomLinearRegression(y1_train, final_fn1_odn, model_type=Poisson).get_coefficients()"
   ]
  },
  {
   "attachments": {},
   "cell_type": "markdown",
   "metadata": {},
   "source": [
    "$$\\hat y_1 = -1.2598x_{1}$$"
   ]
  },
  {
   "cell_type": "code",
   "execution_count": null,
   "metadata": {
    "ExecuteTime": {
     "end_time": "2023-05-05T14:50:48.127512Z",
     "start_time": "2023-05-05T14:50:47.341528Z"
    }
   },
   "outputs": [],
   "source": [
    "fig = make_subplots(rows=1, cols=1)\n",
    "fig.update_yaxes(title_text='Y1', row=1, col=1)\n",
    "\n",
    "fig.add_trace(px.scatter(x=x1_train, y=y1_train).data[0], row=1, col=1)\n",
    "fig.update_xaxes(title_text='X1', row=1, col=1)\n",
    "\n",
    "fig.update_layout(height=500, title='Графики рассеяния для X1 от Y1')\n",
    "fig.show()"
   ]
  },
  {
   "attachments": {},
   "cell_type": "markdown",
   "metadata": {},
   "source": [
    "### Второе уравнение\n",
    "\n",
    "$$y_2 = a_2 + a_{21}y_1 + b_{23}x_{3} + b_{24}x_{4} + b_{25}x_{5} + b_{26}x_{6} + b_{27}x_{7} + b_{28}x_{8} + b_{29}x_{9} + \\epsilon$$"
   ]
  },
  {
   "attachments": {},
   "cell_type": "markdown",
   "metadata": {},
   "source": [
    "#### Исходная система уравнений"
   ]
  },
  {
   "cell_type": "code",
   "execution_count": null,
   "metadata": {
    "ExecuteTime": {
     "end_time": "2023-05-05T14:50:48.156316Z",
     "start_time": "2023-05-05T14:50:47.352524Z"
    }
   },
   "outputs": [],
   "source": [
    "fn2_odn = pd.concat([y1_train, x3_train, x4_train, x5_train, x6_train, x7_train, x8_train, x9_train], axis=1)\n",
    "CustomLinearRegression(y2_train, fn2_odn, model_type=Poisson).summary()"
   ]
  },
  {
   "attachments": {},
   "cell_type": "markdown",
   "metadata": {},
   "source": [
    "#### Исходная система уравнений после отбора признаков методом обратного исключения (Backward elimination)"
   ]
  },
  {
   "cell_type": "code",
   "execution_count": null,
   "metadata": {
    "ExecuteTime": {
     "end_time": "2023-05-05T14:50:48.174656Z",
     "start_time": "2023-05-05T14:50:47.510005Z"
    }
   },
   "outputs": [],
   "source": [
    "CustomLinearRegression(y2_train, fn2_odn, model_type=Poisson).backward_elimination(start=1)"
   ]
  },
  {
   "attachments": {},
   "cell_type": "markdown",
   "metadata": {},
   "source": [
    "#### Конечная система уравнений и веса"
   ]
  },
  {
   "cell_type": "code",
   "execution_count": null,
   "metadata": {
    "ExecuteTime": {
     "end_time": "2023-05-05T14:50:48.174958Z",
     "start_time": "2023-05-05T14:50:47.655106Z"
    }
   },
   "outputs": [],
   "source": [
    "final_fn2_odn = pd.concat([y1_train, x5_train], axis=1)\n",
    "CustomLinearRegression(y2_train, final_fn2_odn, model_type=Poisson).get_coefficients()"
   ]
  },
  {
   "attachments": {},
   "cell_type": "markdown",
   "metadata": {},
   "source": [
    "$$\\hat y_2 = 1.2379y_{1} - 2.0557x_{5}$$"
   ]
  },
  {
   "cell_type": "code",
   "execution_count": null,
   "metadata": {
    "ExecuteTime": {
     "end_time": "2023-05-05T14:50:48.191260Z",
     "start_time": "2023-05-05T14:50:47.671246Z"
    }
   },
   "outputs": [],
   "source": [
    "fig = make_subplots(rows=1, cols=2)\n",
    "fig.update_yaxes(title_text='Y2', row=1, col=1)\n",
    "\n",
    "fig.add_trace(px.scatter(x=y1_train, y=y2_train).data[0], row=1, col=1)\n",
    "fig.update_xaxes(title_text='Y1', row=1, col=1)\n",
    "\n",
    "fig.add_trace(px.scatter(x=x5_train, y=y2_train).data[0], row=1, col=2)\n",
    "fig.update_xaxes(title_text='X5', row=1, col=2)\n",
    "\n",
    "fig.update_layout(height=500, title='Графики рассеяния для Y1, X5 от Y2')\n",
    "fig.show()"
   ]
  },
  {
   "attachments": {},
   "cell_type": "markdown",
   "metadata": {},
   "source": [
    "### Третье уравнение\n",
    "\n",
    "$$y_3 = a_3 + a_{31}y_1 + b_{310}x_{10} + b_{311}x_{11} + \\epsilon$$"
   ]
  },
  {
   "attachments": {},
   "cell_type": "markdown",
   "metadata": {},
   "source": [
    "#### Исходная система уравнений"
   ]
  },
  {
   "cell_type": "code",
   "execution_count": null,
   "metadata": {
    "ExecuteTime": {
     "end_time": "2023-05-05T14:50:48.194916Z",
     "start_time": "2023-05-05T14:50:47.778584Z"
    }
   },
   "outputs": [],
   "source": [
    "fn3_odn = pd.concat([y1_train, x10_train, x11_train], axis=1)\n",
    "CustomLinearRegression(y3_train, fn3_odn, model_type=Poisson).summary()"
   ]
  },
  {
   "attachments": {},
   "cell_type": "markdown",
   "metadata": {},
   "source": [
    "#### Исходная система уравнений после отбора признаков методом обратного исключения (Backward elimination)"
   ]
  },
  {
   "cell_type": "code",
   "execution_count": null,
   "metadata": {
    "ExecuteTime": {
     "end_time": "2023-05-05T14:50:48.209247Z",
     "start_time": "2023-05-05T14:50:47.810439Z"
    }
   },
   "outputs": [],
   "source": [
    "CustomLinearRegression(y3_train, fn3_odn, model_type=Poisson).backward_elimination(start=0)"
   ]
  },
  {
   "attachments": {},
   "cell_type": "markdown",
   "metadata": {},
   "source": [
    "#### Конечная система уравнений и веса"
   ]
  },
  {
   "cell_type": "code",
   "execution_count": null,
   "metadata": {
    "ExecuteTime": {
     "end_time": "2023-05-05T14:50:48.209777Z",
     "start_time": "2023-05-05T14:50:47.841187Z"
    }
   },
   "outputs": [],
   "source": [
    "final_fn3_odn = pd.concat([y1_train, x10_train], axis=1)\n",
    "CustomLinearRegression(y3_train, final_fn3_odn, model_type=Poisson).get_coefficients()"
   ]
  },
  {
   "attachments": {},
   "cell_type": "markdown",
   "metadata": {},
   "source": [
    "$$\\hat y_3 = 0.9046y_{1} - 1.7170x_{10}$$"
   ]
  },
  {
   "cell_type": "code",
   "execution_count": null,
   "metadata": {
    "ExecuteTime": {
     "end_time": "2023-05-05T14:50:48.529066Z",
     "start_time": "2023-05-05T14:50:47.887687Z"
    }
   },
   "outputs": [],
   "source": [
    "fig = make_subplots(rows=1, cols=2)\n",
    "fig.update_yaxes(title_text='Y3', row=1, col=1)\n",
    "\n",
    "fig.add_trace(px.scatter(x=y1_train, y=y3_train).data[0], row=1, col=1)\n",
    "fig.update_xaxes(title_text='Y1', row=1, col=1)\n",
    "\n",
    "fig.add_trace(px.scatter(x=x10_train, y=y3_train).data[0], row=1, col=2)\n",
    "fig.update_xaxes(title_text='X10', row=1, col=2)\n",
    "\n",
    "fig.update_layout(height=500, title='Графики рассеяния для Y1, X10 от Y3')\n",
    "fig.show()"
   ]
  },
  {
   "attachments": {},
   "cell_type": "markdown",
   "metadata": {},
   "source": [
    "# Прогнозирование\n",
    "\n",
    "На данный момент мы прошли практически все этапы построения модели. Осталось только прогнозирование. Для этого нам необходимо построить системы уравнений, которые будут состоять из уравнений, полученных путем отбора параметров на предыдущих этапах работы. После этого мы сможем провести прогнозирование и сравнить прогнозные значения с их реальными значениями. Проведем прогнозирование для каждого уравнения по отдельности, а также для всех систем уравнений в целом.\n",
    "\n",
    "Структура этапа прогнозирования:\n",
    "1. Построение системы уравнений\n",
    "2. Вывод параметров для каждого уравнения\n",
    "3. Прогнозирование для каждого уравнения и оценка резульатов по ряду метрик"
   ]
  },
  {
   "attachments": {},
   "cell_type": "markdown",
   "metadata": {},
   "source": [
    "### Система независимых уравнеий\n",
    "\n",
    "$$\n",
    "\\begin{cases}\n",
    "\\hat y_1 = 0.5478x_{1} + 0.2297x_{2} \\\\\n",
    "\\hat y_2 = 0.1732x_{1} + 0.3493x_{4} + 0.3101x_{6} + 0.1358x_{8} \\\\\n",
    "\\hat y_3 = 0.2826x_{3} + 0.2021x_{4} + 0.2524x_{10} + 0.2532x_{11} \\\\\n",
    "\\end{cases}\n",
    "$$"
   ]
  },
  {
   "cell_type": "code",
   "execution_count": null,
   "metadata": {
    "ExecuteTime": {
     "end_time": "2023-05-05T14:50:48.529919Z",
     "start_time": "2023-05-05T14:50:47.974952Z"
    }
   },
   "outputs": [],
   "source": [
    "print(f'Парметры первого: {final_fn1_nez.columns.values.tolist()}\\n'\n",
    "      f'Парметры второго: {final_fn2_nez.columns.values.tolist()}\\n'\n",
    "      f'Парметры третьего: {final_fn3_nez.columns.values.tolist()}')"
   ]
  },
  {
   "attachments": {},
   "cell_type": "markdown",
   "metadata": {},
   "source": [
    "#### Первое уравнение"
   ]
  },
  {
   "cell_type": "code",
   "execution_count": null,
   "metadata": {
    "ExecuteTime": {
     "end_time": "2023-05-05T14:50:48.530379Z",
     "start_time": "2023-05-05T14:50:47.989596Z"
    }
   },
   "outputs": [],
   "source": [
    "CustomLinearRegression(y1_train, final_fn1_nez).predict(pd.concat([x1_test, x2_test], axis=1), y1_test)"
   ]
  },
  {
   "attachments": {},
   "cell_type": "markdown",
   "metadata": {},
   "source": [
    "#### Второе уравнение"
   ]
  },
  {
   "cell_type": "code",
   "execution_count": null,
   "metadata": {
    "ExecuteTime": {
     "end_time": "2023-05-05T14:50:48.530619Z",
     "start_time": "2023-05-05T14:50:47.999823Z"
    }
   },
   "outputs": [],
   "source": [
    "CustomLinearRegression(y2_train, final_fn2_nez).predict(pd.concat([x1_test, x4_test, x6_test, x8_test], axis=1), y2_test)"
   ]
  },
  {
   "attachments": {},
   "cell_type": "markdown",
   "metadata": {},
   "source": [
    "#### Третье уравнение"
   ]
  },
  {
   "cell_type": "code",
   "execution_count": null,
   "metadata": {
    "ExecuteTime": {
     "end_time": "2023-05-05T14:50:48.530858Z",
     "start_time": "2023-05-05T14:50:48.015656Z"
    }
   },
   "outputs": [],
   "source": [
    "CustomLinearRegression(y3_train, final_fn3_nez).predict(pd.concat([x3_test, x4_test, x10_test, x11_test], axis=1), y3_test)"
   ]
  },
  {
   "attachments": {},
   "cell_type": "markdown",
   "metadata": {},
   "source": [
    "### Система рекурсивных уравнеий\n",
    "\n",
    "$$\n",
    "\\begin{cases}\n",
    "\\hat y_1 = 0.5478x_{1} + 0.2297x_{2} \\\\\n",
    "\\hat y_2 = 0.2164y_{1} + 0.2852x_{1} + 0.1989x_{4} + 0.2861x_{6} \\\\\n",
    "\\hat y_3 = 0.5732y_{2} + 0.4683x_{11} \\\\\n",
    "\\end{cases}\n",
    "$$"
   ]
  },
  {
   "cell_type": "code",
   "execution_count": null,
   "metadata": {
    "ExecuteTime": {
     "end_time": "2023-05-05T14:50:48.531330Z",
     "start_time": "2023-05-05T14:50:48.032747Z"
    }
   },
   "outputs": [],
   "source": [
    "print(f'Парметры первого: {final_fn1_rec.columns.values.tolist()}\\n'\n",
    "      f'Парметры второго: {final_fn2_rec.columns.values.tolist()}\\n'\n",
    "      f'Парметры третьего: {final_fn3_rec.columns.values.tolist()}')"
   ]
  },
  {
   "attachments": {},
   "cell_type": "markdown",
   "metadata": {},
   "source": [
    "#### Первое уравнение"
   ]
  },
  {
   "cell_type": "code",
   "execution_count": null,
   "metadata": {
    "ExecuteTime": {
     "end_time": "2023-05-05T14:50:48.531579Z",
     "start_time": "2023-05-05T14:50:48.040058Z"
    }
   },
   "outputs": [],
   "source": [
    "CustomLinearRegression(y1_train, final_fn1_rec).predict(pd.concat([x1_test, x2_test], axis=1), y1_test)"
   ]
  },
  {
   "attachments": {},
   "cell_type": "markdown",
   "metadata": {},
   "source": [
    "#### Второе уравнение"
   ]
  },
  {
   "cell_type": "code",
   "execution_count": null,
   "metadata": {
    "ExecuteTime": {
     "end_time": "2023-05-05T14:50:48.531810Z",
     "start_time": "2023-05-05T14:50:48.051884Z"
    }
   },
   "outputs": [],
   "source": [
    "CustomLinearRegression(y2_train, final_fn2_rec).predict(pd.concat([y1_test, x1_test, x4_test, x6_test], axis=1), y2_test)"
   ]
  },
  {
   "attachments": {},
   "cell_type": "markdown",
   "metadata": {},
   "source": [
    "#### Третье уравнение"
   ]
  },
  {
   "cell_type": "code",
   "execution_count": null,
   "metadata": {
    "ExecuteTime": {
     "end_time": "2023-05-05T14:50:48.609459Z",
     "start_time": "2023-05-05T14:50:48.089919Z"
    }
   },
   "outputs": [],
   "source": [
    "CustomLinearRegression(y3_train, final_fn3_rec).predict(pd.concat([y2_test, x11_test], axis=1), y3_test)"
   ]
  },
  {
   "attachments": {},
   "cell_type": "markdown",
   "metadata": {},
   "source": [
    "### Система одновременных уравнеий\n",
    "\n",
    "$$\n",
    "\\begin{cases}\n",
    "\\hat y_1 = -1.2598x_{1} \\\\\n",
    "\\hat y_2 = 1.2379y_{1} - 2.0557x_{5} \\\\\n",
    "\\hat y_3 = 0.9046y_{1} - 1.7170x_{10} \\\\\n",
    "\\end{cases}\n",
    "$$"
   ]
  },
  {
   "cell_type": "code",
   "execution_count": null,
   "metadata": {
    "ExecuteTime": {
     "end_time": "2023-05-05T14:50:48.609718Z",
     "start_time": "2023-05-05T14:50:48.090875Z"
    }
   },
   "outputs": [],
   "source": [
    "print(f'Парметры первого: {final_fn1_odn.columns.values.tolist()}\\n'\n",
    "      f'Парметры второго: {final_fn2_odn.columns.values.tolist()}\\n'\n",
    "      f'Парметры третьего: {final_fn3_odn.columns.values.tolist()}')"
   ]
  },
  {
   "attachments": {},
   "cell_type": "markdown",
   "metadata": {},
   "source": [
    "#### Первое уравнение"
   ]
  },
  {
   "cell_type": "code",
   "execution_count": null,
   "metadata": {
    "ExecuteTime": {
     "end_time": "2023-05-05T14:50:48.609894Z",
     "start_time": "2023-05-05T14:50:48.090952Z"
    }
   },
   "outputs": [],
   "source": [
    "CustomLinearRegression(y1_train, final_fn1_odn).predict(pd.concat([x1_test], axis=1), y1_test)"
   ]
  },
  {
   "attachments": {},
   "cell_type": "markdown",
   "metadata": {},
   "source": [
    "#### Второе уравнение"
   ]
  },
  {
   "cell_type": "code",
   "execution_count": null,
   "metadata": {
    "ExecuteTime": {
     "end_time": "2023-05-05T14:50:48.610051Z",
     "start_time": "2023-05-05T14:50:48.091191Z"
    }
   },
   "outputs": [],
   "source": [
    "CustomLinearRegression(y2_train, final_fn2_odn).predict(pd.concat([y1_test, x5_test], axis=1), y2_test)"
   ]
  },
  {
   "attachments": {},
   "cell_type": "markdown",
   "metadata": {},
   "source": [
    "#### Третье уравнение"
   ]
  },
  {
   "cell_type": "code",
   "execution_count": null,
   "metadata": {
    "ExecuteTime": {
     "end_time": "2023-05-05T14:50:48.610185Z",
     "start_time": "2023-05-05T14:50:48.091294Z"
    }
   },
   "outputs": [],
   "source": [
    "CustomLinearRegression(y3_train, final_fn3_odn).predict(pd.concat([y1_test, x10_test], axis=1), y3_test)"
   ]
  },
  {
   "attachments": {},
   "cell_type": "markdown",
   "metadata": {},
   "source": [
    "# Прогнозирование с помощью методов машинного обучения\n",
    "\n",
    "Дополнительно было проведено прогнозирование с помощью методов машинного обучения.\n",
    "\n",
    "В качестве методов машинного обучения были выбраны:\n",
    "1. Логистическая регрессия\n",
    "2. Метод опорных векторов\n",
    "3. Метод k-ближайших соседей\n",
    "4. Метод случайного леса\n",
    "5. Метод градиентного бустинга\n",
    "6. Метод нейронных сетей"
   ]
  },
  {
   "cell_type": "code",
   "execution_count": null,
   "metadata": {
    "ExecuteTime": {
     "end_time": "2023-05-05T14:50:48.610271Z",
     "start_time": "2023-05-05T14:50:48.101419Z"
    }
   },
   "outputs": [],
   "source": [
    "class MLPrediction():\n",
    "    def __init__(self, X_train, X_test, y_train):\n",
    "        self.X_train = X_train\n",
    "        self.X_test = X_test\n",
    "        self.y_train = preprocessing.LabelEncoder().fit_transform(y_train)\n",
    "\n",
    "    def logreg(self):  # Logistic Regression\n",
    "        self.logreg = LogisticRegression()\n",
    "        self.logreg.fit(self.X_train, self.y_train)\n",
    "        Y_pred = self.logreg.predict(self.X_test)\n",
    "        self.acc_log = round(self.logreg.score(self.X_train, self.y_train) * 100, 2)\n",
    "\n",
    "    def logreg_score(self):\n",
    "        self.logreg()\n",
    "        print(self.acc_log)\n",
    "        print(self.logreg.coef_)\n",
    "\n",
    "    def svc(self):  # Support Vector Machines\n",
    "        self.svc = SVC(kernel='linear')\n",
    "        self.svc.fit(self.X_train, self.y_train)\n",
    "        Y_pred = self.svc.predict(self.X_test)\n",
    "        self.acc_svc = round(self.svc.score(self.X_train, self.y_train) * 100, 2)\n",
    "\n",
    "    def svc_score(self):\n",
    "        self.svc()\n",
    "        print(self.acc_svc)\n",
    "        print(self.svc.coef_)\n",
    "\n",
    "    def knn(self):\n",
    "        self.knn = KNeighborsClassifier(n_neighbors=3)  # 3\n",
    "        self.knn.fit(self.X_train, self.y_train)\n",
    "        Y_pred = self.knn.predict(self.X_test)\n",
    "        self.acc_knn = round(self.knn.score(self.X_train, self.y_train) * 100, 2)\n",
    "\n",
    "    def knn_score(self):\n",
    "        self.knn()\n",
    "        print(self.acc_knn)\n",
    "\n",
    "    def gaussian(self):  # Gaussian Naive Bayes\n",
    "        self.gaussian = GaussianNB()\n",
    "        self.gaussian.fit(self.X_train, self.y_train)\n",
    "        Y_pred = self.gaussian.predict(self.X_test)\n",
    "        self.acc_gaussian = round(self.gaussian.score(self.X_train, self.y_train) * 100, 2)\n",
    "\n",
    "    def gaussian_score(self):\n",
    "        self.gaussian()\n",
    "        print(self.acc_gaussian)\n",
    "\n",
    "    def perceptron(self):\n",
    "        self.perceptron = Perceptron()\n",
    "        self.perceptron.fit(self.X_train, self.y_train)\n",
    "        Y_pred = self.perceptron.predict(self.X_test)\n",
    "        self.acc_perceptron = round(self.perceptron.score(self.X_train, self.y_train) * 100, 2)\n",
    "\n",
    "    def perceptron_score(self):\n",
    "        self.perceptron()\n",
    "        print(self.acc_perceptron)\n",
    "\n",
    "    def linear_svc(self):  # Linear SVC\n",
    "        self.linear_svc = LinearSVC()\n",
    "        self.linear_svc.fit(self.X_train, self.y_train)\n",
    "        Y_pred = self.linear_svc.predict(self.X_test)\n",
    "        self.acc_linear_svc = round(self.linear_svc.score(self.X_train, self.y_train) * 100, 2)\n",
    "\n",
    "    def linear_svc_score(self):\n",
    "        self.linear_svc()\n",
    "        print(self.acc_linear_svc)\n",
    "\n",
    "    def sgd(self):  # Stochastic Gradient Descent\n",
    "        self.sgd = SGDClassifier()\n",
    "        self.sgd.fit(self.X_train, self.y_train)\n",
    "        Y_pred = self.sgd.predict(self.X_test)\n",
    "        self.acc_sgd = round(self.sgd.score(self.X_train, self.y_train) * 100, 2)\n",
    "\n",
    "    def sgd_score(self):\n",
    "        self.sgd()\n",
    "        print(self.acc_sgd)\n",
    "\n",
    "    def decision_tree(self):  # Decision Tree\n",
    "        self.decision_tree = DecisionTreeClassifier()\n",
    "        self.decision_tree.fit(self.X_train, self.y_train)\n",
    "        Y_pred = self.decision_tree.predict(self.X_test)\n",
    "        self.acc_decision_tree = round(self.decision_tree.score(self.X_train, self.y_train) * 100, 2)\n",
    "\n",
    "    def decision_tree_score(self):\n",
    "        self.decision_tree()\n",
    "        print(self.acc_decision_tree)\n",
    "\n",
    "    def random_forest(self):  # Random Forest\n",
    "        self.random_forest = RandomForestClassifier(n_estimators=1000, max_depth=100, min_samples_leaf=1)\n",
    "        self.random_forest.fit(self.X_train, self.y_train)\n",
    "        self.Y_pred = self.random_forest.predict(self.X_test)\n",
    "        self.random_forest.score(self.X_train, self.y_train)\n",
    "        self.acc_random_forest = self.random_forest.score(self.X_train, self.y_train) * 100\n",
    "\n",
    "    def random_forest_score(self):\n",
    "        self.random_forest()\n",
    "        print(self.acc_random_forest)\n",
    "\n",
    "    def rfc_plot(self):\n",
    "        self.random_forest()\n",
    "        importances = self.random_forest.feature_importances_\n",
    "        std = np.std([tree.feature_importances_ for tree in self.random_forest.estimators_], axis=0)\n",
    "        indices = np.argsort(importances)[::-1]\n",
    "        df = pd.DataFrame({\n",
    "            'Features': indices,\n",
    "            'Importance': importances[indices],\n",
    "            'Importance std': std[indices]\n",
    "        })\n",
    "        fig = px.bar(df, x='Features', y='Importance', error_y='Importance std',\n",
    "                     labels={'Importance': 'Importance score'})\n",
    "        fig.update_layout(title='Важность переменных для Random Forest Classifier')\n",
    "        return fig.show()\n",
    "\n",
    "    def compare(self):\n",
    "        self.logreg()\n",
    "        self.svc()\n",
    "        self.knn()\n",
    "        self.gaussian()\n",
    "        self.perceptron()\n",
    "        self.linear_svc()\n",
    "        self.sgd()\n",
    "        self.decision_tree()\n",
    "        self.random_forest()\n",
    "        models = pd.DataFrame({\n",
    "            'Model': ['Support Vector Machines', 'KNN', 'Logistic Regression',\n",
    "                      'Random Forest', 'Naive Bayes', 'Perceptron',\n",
    "                      'Stochastic Gradient Decent', 'Linear SVC',\n",
    "                      'Decision Tree'],\n",
    "            'Score': [self.acc_svc, self.acc_knn, self.acc_log,\n",
    "                      self.acc_random_forest, self.acc_gaussian, self.acc_perceptron,\n",
    "                      self.acc_sgd, self.acc_linear_svc, self.acc_decision_tree]})\n",
    "        return models.sort_values(by='Score', ascending=False)"
   ]
  },
  {
   "cell_type": "code",
   "execution_count": null,
   "metadata": {
    "ExecuteTime": {
     "end_time": "2023-05-05T14:50:49.173320Z",
     "start_time": "2023-05-05T14:50:48.114923Z"
    }
   },
   "outputs": [],
   "source": [
    "MLPrediction(X_train, X_test, y_train['y1']).compare()"
   ]
  },
  {
   "cell_type": "code",
   "execution_count": null,
   "metadata": {
    "ExecuteTime": {
     "end_time": "2023-05-05T14:50:50.640778Z",
     "start_time": "2023-05-05T14:50:49.173226Z"
    }
   },
   "outputs": [],
   "source": [
    "MLPrediction(X_train, X_test, y_train['y2']).compare()"
   ]
  },
  {
   "cell_type": "code",
   "execution_count": null,
   "metadata": {
    "ExecuteTime": {
     "end_time": "2023-05-05T14:50:52.255480Z",
     "start_time": "2023-05-05T14:50:50.611308Z"
    }
   },
   "outputs": [],
   "source": [
    "MLPrediction(X_train, X_test, y_train['y3']).compare()"
   ]
  },
  {
   "cell_type": "code",
   "execution_count": null,
   "metadata": {
    "ExecuteTime": {
     "end_time": "2023-05-05T14:50:53.566328Z",
     "start_time": "2023-05-05T14:50:52.257141Z"
    }
   },
   "outputs": [],
   "source": [
    "MLPrediction(X_train, X_test, y_train['y3']).rfc_plot()"
   ]
  },
  {
   "attachments": {},
   "cell_type": "markdown",
   "metadata": {
    "collapsed": false
   },
   "source": [
    "# Заключение\n",
    "\n",
    "После проведения анализа данных и построения моделей можно сделать следующие выводы:\n"
   ]
  }
 ],
 "metadata": {
  "kernelspec": {
   "display_name": "Python 3 (ipykernel)",
   "language": "python",
   "name": "python3"
  },
  "language_info": {
   "codemirror_mode": {
    "name": "ipython",
    "version": 3
   },
   "file_extension": ".py",
   "mimetype": "text/x-python",
   "name": "python",
   "nbconvert_exporter": "python",
   "pygments_lexer": "ipython3",
   "version": "3.10.11"
  }
 },
 "nbformat": 4,
 "nbformat_minor": 4
}
