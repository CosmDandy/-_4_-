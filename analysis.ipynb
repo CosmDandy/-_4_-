{
 "cells": [
  {
   "cell_type": "code",
   "execution_count": 8,
   "metadata": {
    "collapsed": true
   },
   "outputs": [],
   "source": [
    "import pandas as pd\n",
    "import seaborn as sns"
   ]
  },
  {
   "cell_type": "code",
   "execution_count": 14,
   "outputs": [
    {
     "data": {
      "text/plain": "    Год        y1         y2       y3      x1      x2      x3       x4    x5  \\\n0  1998   65120.0   328497.9   401044  120334   803.2  4767.0  1212184  33.8   \n1  1999   93800.0   695059.8   577671  173332   787.6  4962.0  1272744  35.2   \n2  2000  156215.0  1159034.0   962057  289037  1472.8  5277.0  1444737  32.4   \n3  2001  173839.0  1370182.8  1257513  351188  1154.6  5712.2  1841258  30.4   \n4  2002  220396.0  1767476.7  1544402  380535  1508.7  5832.4  2255912  35.1   \n\n        x6           x7      x8       x9     x10      x11  \n0  10427.0  10759.00000  6171.0   6642.0  111458   1393.3  \n1  17310.0  17861.00000  7260.0   7814.0  185861   1807.8  \n2  24927.0  25720.20000  8067.0   9194.0  309534     2185  \n3  33701.0  34773.39673  5545.0  12637.0  418289  2385.26  \n4  46034.0  25688.00000  6932.0  13817.0  589139  2918.55  ",
      "text/html": "<div>\n<style scoped>\n    .dataframe tbody tr th:only-of-type {\n        vertical-align: middle;\n    }\n\n    .dataframe tbody tr th {\n        vertical-align: top;\n    }\n\n    .dataframe thead th {\n        text-align: right;\n    }\n</style>\n<table border=\"1\" class=\"dataframe\">\n  <thead>\n    <tr style=\"text-align: right;\">\n      <th></th>\n      <th>Год</th>\n      <th>y1</th>\n      <th>y2</th>\n      <th>y3</th>\n      <th>x1</th>\n      <th>x2</th>\n      <th>x3</th>\n      <th>x4</th>\n      <th>x5</th>\n      <th>x6</th>\n      <th>x7</th>\n      <th>x8</th>\n      <th>x9</th>\n      <th>x10</th>\n      <th>x11</th>\n    </tr>\n  </thead>\n  <tbody>\n    <tr>\n      <th>0</th>\n      <td>1998</td>\n      <td>65120.0</td>\n      <td>328497.9</td>\n      <td>401044</td>\n      <td>120334</td>\n      <td>803.2</td>\n      <td>4767.0</td>\n      <td>1212184</td>\n      <td>33.8</td>\n      <td>10427.0</td>\n      <td>10759.00000</td>\n      <td>6171.0</td>\n      <td>6642.0</td>\n      <td>111458</td>\n      <td>1393.3</td>\n    </tr>\n    <tr>\n      <th>1</th>\n      <td>1999</td>\n      <td>93800.0</td>\n      <td>695059.8</td>\n      <td>577671</td>\n      <td>173332</td>\n      <td>787.6</td>\n      <td>4962.0</td>\n      <td>1272744</td>\n      <td>35.2</td>\n      <td>17310.0</td>\n      <td>17861.00000</td>\n      <td>7260.0</td>\n      <td>7814.0</td>\n      <td>185861</td>\n      <td>1807.8</td>\n    </tr>\n    <tr>\n      <th>2</th>\n      <td>2000</td>\n      <td>156215.0</td>\n      <td>1159034.0</td>\n      <td>962057</td>\n      <td>289037</td>\n      <td>1472.8</td>\n      <td>5277.0</td>\n      <td>1444737</td>\n      <td>32.4</td>\n      <td>24927.0</td>\n      <td>25720.20000</td>\n      <td>8067.0</td>\n      <td>9194.0</td>\n      <td>309534</td>\n      <td>2185</td>\n    </tr>\n    <tr>\n      <th>3</th>\n      <td>2001</td>\n      <td>173839.0</td>\n      <td>1370182.8</td>\n      <td>1257513</td>\n      <td>351188</td>\n      <td>1154.6</td>\n      <td>5712.2</td>\n      <td>1841258</td>\n      <td>30.4</td>\n      <td>33701.0</td>\n      <td>34773.39673</td>\n      <td>5545.0</td>\n      <td>12637.0</td>\n      <td>418289</td>\n      <td>2385.26</td>\n    </tr>\n    <tr>\n      <th>4</th>\n      <td>2002</td>\n      <td>220396.0</td>\n      <td>1767476.7</td>\n      <td>1544402</td>\n      <td>380535</td>\n      <td>1508.7</td>\n      <td>5832.4</td>\n      <td>2255912</td>\n      <td>35.1</td>\n      <td>46034.0</td>\n      <td>25688.00000</td>\n      <td>6932.0</td>\n      <td>13817.0</td>\n      <td>589139</td>\n      <td>2918.55</td>\n    </tr>\n  </tbody>\n</table>\n</div>"
     },
     "execution_count": 14,
     "metadata": {},
     "output_type": "execute_result"
    }
   ],
   "source": [
    "data = pd.read_csv(\"input/data.csv\", delimiter=\";\")\n",
    "data.head()"
   ],
   "metadata": {
    "collapsed": false
   }
  },
  {
   "cell_type": "markdown",
   "source": [
    "### Объяснение переменных\n",
    "- $y_1$ - инвестиции в основной капитал, млн руб.\n",
    "- $y_2$ - валовой региональный продукт (ВРП), млн.руб.\n",
    "- $y_3$ - сумма доходов населения за год, млн руб.\n",
    "- $x_1$ - финансовый результат деятельности (чистая прибыль)\n",
    "- $x_2$ - прямые иностранные инвестиции, млн USD\n",
    "- $x_3$ - среднегодовая численности занятых, тыс чел.\n",
    "- $x_4$ - стоимость основных фондов, млн. руб\n",
    "- $x_5$ - степень износа основных фондов, %\n",
    "- $x_6$ - затраты на научные исследования и разработки, млн руб.\n",
    "- $x_7$ - объём инновационных товаров работ услуг, млн руб.\n",
    "- $x_8$ - экспорт, млн USD\n",
    "- $x_9$ - импорт, млн. USD\n",
    "- $x_{10}$ - сумма остатков вкладов на счетах в Банке России, млн. руб.\n",
    "- $x_{11}$ - прожиточный минимум в регионе РФ (г. Москва), тыс.руб."
   ],
   "metadata": {
    "collapsed": false
   }
  },
  {
   "cell_type": "markdown",
   "source": [
    "### Системы уравнений\n",
    "\n",
    "#### Система независимых уравнений\n",
    "$$\n",
    "\\begin{cases}\n",
    "y_1 = \\beta_{11}x_{1} + \\beta_{21}x_{2} + \\epsilon \\\\\n",
    "y_2 = \\beta_{21}x_{} + \\beta_{22}x_{2} + \\beta_{23}x_{3} + \\beta_{24}x_{4} + \\beta_{25}x_{5} + \\beta_{26}x_{6} + \\beta_{27}x_{7} + \\beta_{28}x_{8} - \\beta_{29}x_{9} + \\epsilon \\\\\n",
    "y_3 = \\beta_{31}x_{1} + \\beta_{32}x_{2} + \\beta_{33}x_{3} + \\beta_{34}x_{4} + \\beta_{35}x_{5} + \\beta_{36}x_{6} + \\beta_{37}x_{7} + \\beta_{38}x_{8} - \\beta_{39}x_{9} + \\beta_{310}x_{10} + \\beta_{311}x_{11} + \\epsilon \\\\\n",
    "\\end{cases}\n",
    "$$\n",
    "\n",
    "#### Система независимых уравнений\n",
    "$$\n",
    "\\begin{cases}\n",
    "y_1 = \\beta_{11}x_{1} + \\beta_{21}x_{2} + \\epsilon \\\\\n",
    "y_2 = \\\\\n",
    "y_3 = \\\\\n",
    "\\end{cases}\n",
    "$$\n",
    "\n",
    "#### Система независимых уравнений\n",
    "$$\n",
    "\\begin{cases}\n",
    "y_1 = \\beta_{11}x_{1} + \\beta_{21}x_{2} + \\epsilon \\\\\n",
    "y_2 = \\\\\n",
    "y_3 = \\\\\n",
    "\\end{cases}\n",
    "$$\n",
    "\n",
    "#### Альтернативная система\n",
    "$$ВРП = Y_1 + Y_ 2+ Y_3 + Y_4 + Y_5$$\n",
    "\n",
    "$$\n",
    "\\begin{cases}\n",
    "Y_{\\text{1-Внутренний сектор}} = Y_{\\text{4-Факторы предложения}} + Y_{\\text{2-Внешний сектор}} + Y_{\\text{5-Экзогенные переменные}} + x{\\dots}\\\\\n",
    "\n",
    "Y_{\\text{2-Внешний сектор}} = Y_{\\text{5-Экзогенные переменные}} + x{\\dots}\\\\\n",
    "\n",
    "Y_{\\text{3-Бюджетная система}} = Y_{\\text{1-Внутренний сектор}} + Y_{\\text{4-Факторы предложения}} + Y_{\\text{5-Экзогенные переменные}} + x{\\dots}\\\\\n",
    "\n",
    "Y_{\\text{4-Факторы предложения}} = Y_{\\text{1-Внутренний сектор}} + Y_{\\text{2-Внешний сектор}} + Y_{\\text{3-Бюджетная система}} + x{\\dots}\\\\\n",
    "\n",
    "Y_{\\text{5-Экзогенные переменные}} = x{\\dots}\\\\\n",
    "\\end{cases}\n",
    "$$"
   ],
   "metadata": {
    "collapsed": false
   }
  },
  {
   "cell_type": "code",
   "execution_count": 14,
   "outputs": [],
   "source": [],
   "metadata": {
    "collapsed": false
   }
  },
  {
   "cell_type": "code",
   "execution_count": null,
   "outputs": [],
   "source": [],
   "metadata": {
    "collapsed": false
   }
  }
 ],
 "metadata": {
  "kernelspec": {
   "display_name": "Python 3",
   "language": "python",
   "name": "python3"
  },
  "language_info": {
   "codemirror_mode": {
    "name": "ipython",
    "version": 2
   },
   "file_extension": ".py",
   "mimetype": "text/x-python",
   "name": "python",
   "nbconvert_exporter": "python",
   "pygments_lexer": "ipython2",
   "version": "2.7.6"
  }
 },
 "nbformat": 4,
 "nbformat_minor": 0
}
